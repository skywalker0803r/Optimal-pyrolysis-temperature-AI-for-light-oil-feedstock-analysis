{
 "cells": [
  {
   "cell_type": "code",
   "execution_count": 10,
   "metadata": {},
   "outputs": [
    {
     "name": "stderr",
     "output_type": "stream",
     "text": [
      "Global seed set to 42\n"
     ]
    }
   ],
   "source": [
    "\n",
    "import torch\n",
    "import torch.nn as nn\n",
    "import numpy as np\n",
    "from torch.optim import Adam\n",
    "import pandas as pd\n",
    "from torch.utils.data import TensorDataset,DataLoader\n",
    "import joblib\n",
    "import requests\n",
    "from tqdm import tqdm_notebook as tqdm\n",
    "from pytorch_lightning import seed_everything\n",
    "import random\n",
    "import warnings \n",
    "import matplotlib.pyplot as plt\n",
    "import seaborn as sns\n",
    "warnings.filterwarnings('ignore')\n",
    "exec(requests.get('https://raw.githubusercontent.com/facebookresearch/madgrad/main/madgrad/madgrad.py').text)\n",
    "\n",
    "def set_seed(seed = int):\n",
    "    '''Sets the seed of the entire notebook so results are the same every time we run.\n",
    "    This is for REPRODUCIBILITY.'''\n",
    "    np.random.seed(seed)\n",
    "    random_state = np.random.RandomState(seed)\n",
    "    random.seed(seed)\n",
    "    torch.manual_seed(seed)\n",
    "    torch.cuda.manual_seed(seed)\n",
    "    torch.backends.cudnn.deterministic = True\n",
    "    torch.backends.cudnn.benchmark = False\n",
    "    os.environ['PYTHONHASHSEED'] = str(seed)\n",
    "    seed_everything(seed)\n",
    "    return random_state\n",
    "random_state = set_seed(42)"
   ]
  },
  {
   "cell_type": "markdown",
   "metadata": {},
   "source": [
    "# config"
   ]
  },
  {
   "cell_type": "code",
   "execution_count": 11,
   "metadata": {},
   "outputs": [],
   "source": [
    "# Load data\n",
    "data = joblib.load('..\\data\\dataset.pkl')\n",
    "\n",
    "data['value'] = data['value'][:,[0]]\n",
    "data['value_col'] = data['value_col'][:1]\n",
    "\n",
    "batch_size = 32\n",
    "hidden_size = 128\n",
    "state_size = data['state'].shape[-1]\n",
    "request_size = data['value'].shape[-1]\n",
    "value_size = data['value'].shape[-1]\n",
    "action_size = data['action'].shape[-1]\n",
    "time_step = 144\n"
   ]
  },
  {
   "cell_type": "code",
   "execution_count": 12,
   "metadata": {},
   "outputs": [
    {
     "data": {
      "text/html": [
       "<div>\n",
       "<style scoped>\n",
       "    .dataframe tbody tr th:only-of-type {\n",
       "        vertical-align: middle;\n",
       "    }\n",
       "\n",
       "    .dataframe tbody tr th {\n",
       "        vertical-align: top;\n",
       "    }\n",
       "\n",
       "    .dataframe thead th {\n",
       "        text-align: right;\n",
       "    }\n",
       "</style>\n",
       "<table border=\"1\" class=\"dataframe\">\n",
       "  <thead>\n",
       "    <tr style=\"text-align: right;\">\n",
       "      <th></th>\n",
       "      <th>H-110 裂解度</th>\n",
       "    </tr>\n",
       "  </thead>\n",
       "  <tbody>\n",
       "    <tr>\n",
       "      <th>count</th>\n",
       "      <td>1064.000000</td>\n",
       "    </tr>\n",
       "    <tr>\n",
       "      <th>mean</th>\n",
       "      <td>0.000183</td>\n",
       "    </tr>\n",
       "    <tr>\n",
       "      <th>std</th>\n",
       "      <td>0.000031</td>\n",
       "    </tr>\n",
       "    <tr>\n",
       "      <th>min</th>\n",
       "      <td>0.000000</td>\n",
       "    </tr>\n",
       "    <tr>\n",
       "      <th>25%</th>\n",
       "      <td>0.000180</td>\n",
       "    </tr>\n",
       "    <tr>\n",
       "      <th>50%</th>\n",
       "      <td>0.000188</td>\n",
       "    </tr>\n",
       "    <tr>\n",
       "      <th>75%</th>\n",
       "      <td>0.000195</td>\n",
       "    </tr>\n",
       "    <tr>\n",
       "      <th>max</th>\n",
       "      <td>0.000246</td>\n",
       "    </tr>\n",
       "  </tbody>\n",
       "</table>\n",
       "</div>"
      ],
      "text/plain": [
       "         H-110 裂解度\n",
       "count  1064.000000\n",
       "mean      0.000183\n",
       "std       0.000031\n",
       "min       0.000000\n",
       "25%       0.000180\n",
       "50%       0.000188\n",
       "75%       0.000195\n",
       "max       0.000246"
      ]
     },
     "metadata": {},
     "output_type": "display_data"
    },
    {
     "data": {
      "text/html": [
       "<div>\n",
       "<style scoped>\n",
       "    .dataframe tbody tr th:only-of-type {\n",
       "        vertical-align: middle;\n",
       "    }\n",
       "\n",
       "    .dataframe tbody tr th {\n",
       "        vertical-align: top;\n",
       "    }\n",
       "\n",
       "    .dataframe thead th {\n",
       "        text-align: right;\n",
       "    }\n",
       "</style>\n",
       "<table border=\"1\" class=\"dataframe\">\n",
       "  <thead>\n",
       "    <tr style=\"text-align: right;\">\n",
       "      <th></th>\n",
       "      <th>0</th>\n",
       "    </tr>\n",
       "  </thead>\n",
       "  <tbody>\n",
       "    <tr>\n",
       "      <th>count</th>\n",
       "      <td>1064.000000</td>\n",
       "    </tr>\n",
       "    <tr>\n",
       "      <th>mean</th>\n",
       "      <td>0.000217</td>\n",
       "    </tr>\n",
       "    <tr>\n",
       "      <th>std</th>\n",
       "      <td>0.000017</td>\n",
       "    </tr>\n",
       "    <tr>\n",
       "      <th>min</th>\n",
       "      <td>0.000189</td>\n",
       "    </tr>\n",
       "    <tr>\n",
       "      <th>25%</th>\n",
       "      <td>0.000202</td>\n",
       "    </tr>\n",
       "    <tr>\n",
       "      <th>50%</th>\n",
       "      <td>0.000217</td>\n",
       "    </tr>\n",
       "    <tr>\n",
       "      <th>75%</th>\n",
       "      <td>0.000231</td>\n",
       "    </tr>\n",
       "    <tr>\n",
       "      <th>max</th>\n",
       "      <td>0.000246</td>\n",
       "    </tr>\n",
       "  </tbody>\n",
       "</table>\n",
       "</div>"
      ],
      "text/plain": [
       "                 0\n",
       "count  1064.000000\n",
       "mean      0.000217\n",
       "std       0.000017\n",
       "min       0.000189\n",
       "25%       0.000202\n",
       "50%       0.000217\n",
       "75%       0.000231\n",
       "max       0.000246"
      ]
     },
     "metadata": {},
     "output_type": "display_data"
    },
    {
     "data": {
      "text/html": [
       "<div>\n",
       "<style scoped>\n",
       "    .dataframe tbody tr th:only-of-type {\n",
       "        vertical-align: middle;\n",
       "    }\n",
       "\n",
       "    .dataframe tbody tr th {\n",
       "        vertical-align: top;\n",
       "    }\n",
       "\n",
       "    .dataframe thead th {\n",
       "        text-align: right;\n",
       "    }\n",
       "</style>\n",
       "<table border=\"1\" class=\"dataframe\">\n",
       "  <thead>\n",
       "    <tr style=\"text-align: right;\">\n",
       "      <th></th>\n",
       "      <th>H-110 裂解度</th>\n",
       "    </tr>\n",
       "  </thead>\n",
       "  <tbody>\n",
       "    <tr>\n",
       "      <th>count</th>\n",
       "      <td>1064.000000</td>\n",
       "    </tr>\n",
       "    <tr>\n",
       "      <th>mean</th>\n",
       "      <td>0.000183</td>\n",
       "    </tr>\n",
       "    <tr>\n",
       "      <th>std</th>\n",
       "      <td>0.000031</td>\n",
       "    </tr>\n",
       "    <tr>\n",
       "      <th>min</th>\n",
       "      <td>0.000000</td>\n",
       "    </tr>\n",
       "    <tr>\n",
       "      <th>25%</th>\n",
       "      <td>0.000180</td>\n",
       "    </tr>\n",
       "    <tr>\n",
       "      <th>50%</th>\n",
       "      <td>0.000188</td>\n",
       "    </tr>\n",
       "    <tr>\n",
       "      <th>75%</th>\n",
       "      <td>0.000195</td>\n",
       "    </tr>\n",
       "    <tr>\n",
       "      <th>max</th>\n",
       "      <td>0.000246</td>\n",
       "    </tr>\n",
       "  </tbody>\n",
       "</table>\n",
       "</div>"
      ],
      "text/plain": [
       "         H-110 裂解度\n",
       "count  1064.000000\n",
       "mean      0.000183\n",
       "std       0.000031\n",
       "min       0.000000\n",
       "25%       0.000180\n",
       "50%       0.000188\n",
       "75%       0.000195\n",
       "max       0.000246"
      ]
     },
     "metadata": {},
     "output_type": "display_data"
    },
    {
     "data": {
      "image/png": "[encoded data removed]",
      "text/plain": [
       "<Figure size 432x288 with 1 Axes>"
      ]
     },
     "metadata": {
      "needs_background": "light"
     },
     "output_type": "display_data"
    },
    {
     "name": "stdout",
     "output_type": "stream",
     "text": [
      "(1064, 144, 8)\n",
      "(1064, 144, 9)\n",
      "(1064, 1)\n",
      "(1064, 1)\n"
     ]
    }
   ],
   "source": [
    "a = pd.DataFrame(data['value'],columns=data['value_col']).describe()\n",
    "display(a)\n",
    "\n",
    "data['request'] = None\n",
    "for i in data['value_col']:\n",
    "    if data['request'] is None:\n",
    "        data['request'] = np.random.uniform(low=a.loc['50%',i],high=a.loc['max',i],size=(data['value'].shape[0],1))\n",
    "    else:\n",
    "        var = np.random.uniform(low=a.loc['50%',i],high=a.loc['max',i],size=(data['value'].shape[0],1))\n",
    "        data['request'] = np.hstack([data['request'],var])\n",
    "b = pd.DataFrame(data['request']).describe()\n",
    "display(b)\n",
    "\n",
    "a = pd.DataFrame(data['value'],columns=data['value_col'])\n",
    "display(a.describe())\n",
    "for i in data['value_col']:\n",
    "    sns.kdeplot(a[i],color='b')\n",
    "    plt.axvline(x=a.describe().loc['50%',i], label= \"50%\"+i, c='r')\n",
    "    plt.axvline(x=a.describe().loc['max',i], label= \"max\"+i, c='r')\n",
    "    plt.legend()\n",
    "    plt.title(i)\n",
    "    plt.show()\n",
    "describe = a.describe()\n",
    "\n",
    "\n",
    "\n",
    "# shape\n",
    "print(data['state'].shape)\n",
    "print(data['action'].shape)\n",
    "print(data['value'].shape)\n",
    "print(data['request'].shape)\n",
    "\n",
    "# tensor\n",
    "data['state'] = torch.FloatTensor(data['state'])\n",
    "data['request'] = torch.FloatTensor(data['request'])\n",
    "data['action'] = torch.FloatTensor(data['action'])\n",
    "data['value'] = torch.FloatTensor(data['value'])\n",
    "\n",
    "\n",
    "\n",
    "# data_iter\n",
    "data = TensorDataset(data['state'],data['request'],data['action'],data['value'])\n",
    "train_iter = DataLoader(data,batch_size=batch_size,shuffle=True)"
   ]
  },
  {
   "cell_type": "markdown",
   "metadata": {},
   "source": [
    "# R2D2 MODEL"
   ]
  },
  {
   "cell_type": "code",
   "execution_count": 13,
   "metadata": {},
   "outputs": [],
   "source": [
    "\n",
    "class R2D2(nn.Module):\n",
    "  def __init__(self,obs_size,n_actions,hidden_size):\n",
    "    super().__init__()\n",
    "    self.hidden_size = hidden_size\n",
    "    self.l1 = nn.Linear(obs_size,self.hidden_size)\n",
    "    self.l2 = nn.LSTMCell(self.hidden_size,self.hidden_size)\n",
    "    self.l3 = nn.Linear(self.hidden_size,n_actions)\n",
    "  \n",
    "  def forward(self,x,hx,cx):\n",
    "    x = torch.tanh(self.l1(x))\n",
    "    hx,cx = self.l2(x,(hx,cx))\n",
    "    x = torch.tanh(hx)\n",
    "    x = torch.sigmoid(self.l3(x)) # to range[0,1]\n",
    "    return x,hx,cx\n"
   ]
  },
  {
   "cell_type": "markdown",
   "metadata": {},
   "source": [
    "# ActorCritic Model"
   ]
  },
  {
   "cell_type": "code",
   "execution_count": 14,
   "metadata": {},
   "outputs": [],
   "source": [
    "class ActorCritic(nn.Module):\n",
    "  def __init__(self,actor,critic,time_step):\n",
    "    super().__init__()\n",
    "    self.time_step = time_step\n",
    "    \n",
    "    self.actor = actor\n",
    "    self.actor_optimizer = MADGRAD(actor.parameters() ,lr = 1e-3)\n",
    "    \n",
    "    self.critic = critic\n",
    "    self.critic_optimizer = MADGRAD(critic.parameters() ,lr = 1e-3)\n",
    "  \n",
    "  def forward(self,state,request):\n",
    "    actions = self.actor_forward(state,request)\n",
    "    values = self.critic_forward(state,actions)\n",
    "    return values\n",
    "\n",
    "  def actor_forward(self,state,request,eval=False):\n",
    "    '''\n",
    "    # 給定狀態(不可控)和需求 輸出一系列動作\n",
    "    '''\n",
    "    # train or eval model\n",
    "    if eval == True:\n",
    "      self.actor.eval()\n",
    "    else:\n",
    "      self.actor.train()\n",
    "    \n",
    "    # initialize hx,cx\n",
    "    hx = torch.zeros((state.size()[0],actor.hidden_size))\n",
    "    cx = torch.zeros((state.size()[0],actor.hidden_size))\n",
    "    \n",
    "    # get actions shape(batch_size,time_step,action_size)\n",
    "    actions = torch.FloatTensor()\n",
    "    \n",
    "    # 對一定時間長度進行遍歷\n",
    "    for t in range(self.time_step):\n",
    "      # 在t時刻 根據t時刻的狀態,需求以及短期記憶hx,長期記憶cx當作輸入,得到輸出a(動作),更新後的短期記憶hx,更新後的長期記憶cx\n",
    "      a,hx,cx = self.actor(torch.cat((state[:,t,:],request),dim=1),hx,cx)\n",
    "      actions = torch.cat((actions,a),dim=1)\n",
    "    # 一系列動作 (Batch,Time,Features)\n",
    "    actions = actions.reshape(state.size()[0],self.time_step,-1)\n",
    "    \n",
    "    return actions\n",
    "  \n",
    "  def critic_forward(self,state,action,eval=False):\n",
    "    '''\n",
    "    # 輸入狀態(不可控)和一系列動作(可控),預測產出\n",
    "    '''\n",
    "\n",
    "    # train or eval model\n",
    "    if eval == True:\n",
    "      self.critic.eval()\n",
    "    else:\n",
    "      self.critic.train()\n",
    "    \n",
    "    # initialize hx,cx\n",
    "    hx = torch.zeros((state.size()[0],critic.hidden_size))\n",
    "    cx = torch.zeros((state.size()[0],critic.hidden_size))\n",
    "\n",
    "    # get values shape(batch_size,time_step,value_size)\n",
    "    values = torch.FloatTensor()\n",
    "    \n",
    "    # 對時間點遍歷\n",
    "    for t in range(self.time_step):\n",
    "      # 根據當前t時刻狀態,動作,hx,cx當輸入得到,v(產出),更新hx,cx\n",
    "      v,hx,cx = self.critic(torch.cat((state[:,t,:],action[:,t,:]),dim=1),hx,cx)\n",
    "      values = torch.cat((values,v),dim=1)\n",
    "    \n",
    "    # 一系列產出(Batch,Time,Features)\n",
    "    values = values.reshape(state.size()[0],self.time_step,-1)\n",
    "    \n",
    "    # 只取最後一個時間點\n",
    "    return values[:,-1,:] # return last time_step\n",
    "\n",
    "  def train_critic(self,state,action,value):\n",
    "    '''\n",
    "    x: [state,action]\n",
    "    y: [value]\n",
    "    '監督式學習'\n",
    "    '''\n",
    "    self.critic.train()\n",
    "    self.actor.eval()\n",
    "    value_hat = self.critic_forward(state,action)\n",
    "    \n",
    "    # 預測值跟label的平方差愈小愈好\n",
    "    loss = ((value_hat-value)**2).mean()\n",
    "    loss.backward()\n",
    "    self.critic_optimizer.step()\n",
    "    self.critic_optimizer.zero_grad()\n",
    "    return loss.item()\n",
    "  \n",
    "  def train_actor(self,state,request):\n",
    "    '''\n",
    "    x: [state,request]\n",
    "    y: maximum critic value\n",
    "    '最小化產出跟request的差異'\n",
    "    '''\n",
    "    self.actor.train()\n",
    "    self.critic.eval()\n",
    "    actions = self.actor_forward(state,request)\n",
    "    value_hat = self.critic_forward(state,actions)\n",
    "\n",
    "    # 首先預測值跟需求的平方差愈小愈好\n",
    "    loss1 = ((request-value_hat)**2).mean()\n",
    "\n",
    "    # 再來避免\"變異數太大(時間維度上)\" 因為盤控人員不可能突然調太多\n",
    "    loss2 = actions.reshape(-1,time_step,action_size).std(axis=1)\n",
    "    loss2 = loss2.sum(axis=-1).mean(axis=0)\n",
    "\n",
    "    loss = loss1 + loss2\n",
    "    loss.backward()\n",
    "    \n",
    "    self.actor_optimizer.step()\n",
    "    self.actor.zero_grad()\n",
    "\n",
    "    return loss.item()"
   ]
  },
  {
   "cell_type": "code",
   "execution_count": 15,
   "metadata": {},
   "outputs": [],
   "source": [
    "actor = R2D2(state_size+request_size,action_size,hidden_size)\n",
    "critic = R2D2(state_size+action_size,value_size,hidden_size)\n",
    "model = ActorCritic(actor,critic,time_step)"
   ]
  },
  {
   "cell_type": "markdown",
   "metadata": {},
   "source": [
    "# train loop"
   ]
  },
  {
   "cell_type": "code",
   "execution_count": 16,
   "metadata": {},
   "outputs": [],
   "source": [
    "def train_critic():\n",
    "  loss = 0\n",
    "  for i,(bs,br,ba,bv) in enumerate(train_iter):\n",
    "    loss += model.train_critic(bs,ba,bv)\n",
    "  return loss\n",
    "\n",
    "def train_actor():\n",
    "  loss = 0\n",
    "  for i,(bs,br,ba,bv) in enumerate(train_iter):\n",
    "    loss += model.train_actor(bs,br)\n",
    "  return loss\n",
    "\n",
    "def train(model,train_iter,epochs=100):\n",
    "  train_history = {}\n",
    "  train_history['actor'] = []\n",
    "  train_history['critic'] = []\n",
    "  \n",
    "  for epoch in tqdm(range(epochs)):\n",
    "    loss = train_critic()\n",
    "    train_history['critic'].append(loss)\n",
    "    if epoch % 10 == 0:\n",
    "      print('epoch:{} critic_loss:{}'.format(epoch,loss))\n",
    "    \n",
    "  for epoch in tqdm(range(epochs)):\n",
    "    loss = train_actor()\n",
    "    train_history['actor'].append(loss)\n",
    "    if epoch % 10 == 0:\n",
    "      print('epoch:{} actor_loss:{}'.format(epoch,loss))\n",
    "    \n",
    "  return model,train_history"
   ]
  },
  {
   "cell_type": "code",
   "execution_count": 17,
   "metadata": {},
   "outputs": [
    {
     "name": "stdout",
     "output_type": "stream",
     "text": [
      "torch.Size([32, 144, 8]) torch.Size([32, 1]) torch.Size([32, 144, 9]) torch.Size([32, 1])\n",
      "torch.Size([32, 144, 9])\n"
     ]
    },
    {
     "data": {
      "text/html": [
       "<style  type=\"text/css\" >\n",
       "#T_121393d6_5d7c_11ec_a8ec_ac1f6b871d7brow0_col0,#T_121393d6_5d7c_11ec_a8ec_ac1f6b871d7brow0_col1,#T_121393d6_5d7c_11ec_a8ec_ac1f6b871d7brow0_col2,#T_121393d6_5d7c_11ec_a8ec_ac1f6b871d7brow0_col3,#T_121393d6_5d7c_11ec_a8ec_ac1f6b871d7brow0_col4,#T_121393d6_5d7c_11ec_a8ec_ac1f6b871d7brow0_col7,#T_121393d6_5d7c_11ec_a8ec_ac1f6b871d7brow0_col8,#T_121393d6_5d7c_11ec_a8ec_ac1f6b871d7brow2_col6,#T_121393d6_5d7c_11ec_a8ec_ac1f6b871d7brow4_col5{\n",
       "            background-color:  #023858;\n",
       "            color:  #f1f1f1;\n",
       "        }#T_121393d6_5d7c_11ec_a8ec_ac1f6b871d7brow0_col5,#T_121393d6_5d7c_11ec_a8ec_ac1f6b871d7brow0_col6,#T_121393d6_5d7c_11ec_a8ec_ac1f6b871d7brow4_col0,#T_121393d6_5d7c_11ec_a8ec_ac1f6b871d7brow4_col1,#T_121393d6_5d7c_11ec_a8ec_ac1f6b871d7brow4_col2,#T_121393d6_5d7c_11ec_a8ec_ac1f6b871d7brow4_col3,#T_121393d6_5d7c_11ec_a8ec_ac1f6b871d7brow4_col4,#T_121393d6_5d7c_11ec_a8ec_ac1f6b871d7brow4_col7,#T_121393d6_5d7c_11ec_a8ec_ac1f6b871d7brow4_col8{\n",
       "            background-color:  #fff7fb;\n",
       "            color:  #000000;\n",
       "        }#T_121393d6_5d7c_11ec_a8ec_ac1f6b871d7brow1_col0{\n",
       "            background-color:  #a1bbda;\n",
       "            color:  #000000;\n",
       "        }#T_121393d6_5d7c_11ec_a8ec_ac1f6b871d7brow1_col1{\n",
       "            background-color:  #3790c0;\n",
       "            color:  #000000;\n",
       "        }#T_121393d6_5d7c_11ec_a8ec_ac1f6b871d7brow1_col2{\n",
       "            background-color:  #5c9fc9;\n",
       "            color:  #000000;\n",
       "        }#T_121393d6_5d7c_11ec_a8ec_ac1f6b871d7brow1_col3{\n",
       "            background-color:  #4496c3;\n",
       "            color:  #000000;\n",
       "        }#T_121393d6_5d7c_11ec_a8ec_ac1f6b871d7brow1_col4{\n",
       "            background-color:  #6fa7ce;\n",
       "            color:  #000000;\n",
       "        }#T_121393d6_5d7c_11ec_a8ec_ac1f6b871d7brow1_col5{\n",
       "            background-color:  #7bacd1;\n",
       "            color:  #000000;\n",
       "        }#T_121393d6_5d7c_11ec_a8ec_ac1f6b871d7brow1_col6{\n",
       "            background-color:  #046299;\n",
       "            color:  #f1f1f1;\n",
       "        }#T_121393d6_5d7c_11ec_a8ec_ac1f6b871d7brow1_col7{\n",
       "            background-color:  #93b5d6;\n",
       "            color:  #000000;\n",
       "        }#T_121393d6_5d7c_11ec_a8ec_ac1f6b871d7brow1_col8{\n",
       "            background-color:  #187cb6;\n",
       "            color:  #000000;\n",
       "        }#T_121393d6_5d7c_11ec_a8ec_ac1f6b871d7brow2_col0{\n",
       "            background-color:  #efe9f3;\n",
       "            color:  #000000;\n",
       "        }#T_121393d6_5d7c_11ec_a8ec_ac1f6b871d7brow2_col1{\n",
       "            background-color:  #adc1dd;\n",
       "            color:  #000000;\n",
       "        }#T_121393d6_5d7c_11ec_a8ec_ac1f6b871d7brow2_col2,#T_121393d6_5d7c_11ec_a8ec_ac1f6b871d7brow2_col4{\n",
       "            background-color:  #d0d1e6;\n",
       "            color:  #000000;\n",
       "        }#T_121393d6_5d7c_11ec_a8ec_ac1f6b871d7brow2_col3{\n",
       "            background-color:  #bdc8e1;\n",
       "            color:  #000000;\n",
       "        }#T_121393d6_5d7c_11ec_a8ec_ac1f6b871d7brow2_col5{\n",
       "            background-color:  #056dac;\n",
       "            color:  #f1f1f1;\n",
       "        }#T_121393d6_5d7c_11ec_a8ec_ac1f6b871d7brow2_col7{\n",
       "            background-color:  #e4e1ef;\n",
       "            color:  #000000;\n",
       "        }#T_121393d6_5d7c_11ec_a8ec_ac1f6b871d7brow2_col8{\n",
       "            background-color:  #c8cde4;\n",
       "            color:  #000000;\n",
       "        }#T_121393d6_5d7c_11ec_a8ec_ac1f6b871d7brow3_col0{\n",
       "            background-color:  #fdf5fa;\n",
       "            color:  #000000;\n",
       "        }#T_121393d6_5d7c_11ec_a8ec_ac1f6b871d7brow3_col1{\n",
       "            background-color:  #e6e2ef;\n",
       "            color:  #000000;\n",
       "        }#T_121393d6_5d7c_11ec_a8ec_ac1f6b871d7brow3_col2{\n",
       "            background-color:  #f2ecf5;\n",
       "            color:  #000000;\n",
       "        }#T_121393d6_5d7c_11ec_a8ec_ac1f6b871d7brow3_col3{\n",
       "            background-color:  #eee8f3;\n",
       "            color:  #000000;\n",
       "        }#T_121393d6_5d7c_11ec_a8ec_ac1f6b871d7brow3_col4{\n",
       "            background-color:  #f0eaf4;\n",
       "            color:  #000000;\n",
       "        }#T_121393d6_5d7c_11ec_a8ec_ac1f6b871d7brow3_col5{\n",
       "            background-color:  #034e7b;\n",
       "            color:  #f1f1f1;\n",
       "        }#T_121393d6_5d7c_11ec_a8ec_ac1f6b871d7brow3_col6{\n",
       "            background-color:  #034369;\n",
       "            color:  #f1f1f1;\n",
       "        }#T_121393d6_5d7c_11ec_a8ec_ac1f6b871d7brow3_col7{\n",
       "            background-color:  #f8f1f8;\n",
       "            color:  #000000;\n",
       "        }#T_121393d6_5d7c_11ec_a8ec_ac1f6b871d7brow3_col8{\n",
       "            background-color:  #f7f0f7;\n",
       "            color:  #000000;\n",
       "        }#T_121393d6_5d7c_11ec_a8ec_ac1f6b871d7brow4_col6{\n",
       "            background-color:  #045b8f;\n",
       "            color:  #f1f1f1;\n",
       "        }</style><table id=\"T_121393d6_5d7c_11ec_a8ec_ac1f6b871d7b\" ><thead>    <tr>        <th class=\"blank level0\" ></th>        <th class=\"col_heading level0 col0\" >0</th>        <th class=\"col_heading level0 col1\" >1</th>        <th class=\"col_heading level0 col2\" >2</th>        <th class=\"col_heading level0 col3\" >3</th>        <th class=\"col_heading level0 col4\" >4</th>        <th class=\"col_heading level0 col5\" >5</th>        <th class=\"col_heading level0 col6\" >6</th>        <th class=\"col_heading level0 col7\" >7</th>        <th class=\"col_heading level0 col8\" >8</th>    </tr></thead><tbody>\n",
       "                <tr>\n",
       "                        <th id=\"T_121393d6_5d7c_11ec_a8ec_ac1f6b871d7blevel0_row0\" class=\"row_heading level0 row0\" >0</th>\n",
       "                        <td id=\"T_121393d6_5d7c_11ec_a8ec_ac1f6b871d7brow0_col0\" class=\"data row0 col0\" >0.492631</td>\n",
       "                        <td id=\"T_121393d6_5d7c_11ec_a8ec_ac1f6b871d7brow0_col1\" class=\"data row0 col1\" >0.478474</td>\n",
       "                        <td id=\"T_121393d6_5d7c_11ec_a8ec_ac1f6b871d7brow0_col2\" class=\"data row0 col2\" >0.479132</td>\n",
       "                        <td id=\"T_121393d6_5d7c_11ec_a8ec_ac1f6b871d7brow0_col3\" class=\"data row0 col3\" >0.478889</td>\n",
       "                        <td id=\"T_121393d6_5d7c_11ec_a8ec_ac1f6b871d7brow0_col4\" class=\"data row0 col4\" >0.516152</td>\n",
       "                        <td id=\"T_121393d6_5d7c_11ec_a8ec_ac1f6b871d7brow0_col5\" class=\"data row0 col5\" >0.498380</td>\n",
       "                        <td id=\"T_121393d6_5d7c_11ec_a8ec_ac1f6b871d7brow0_col6\" class=\"data row0 col6\" >0.506195</td>\n",
       "                        <td id=\"T_121393d6_5d7c_11ec_a8ec_ac1f6b871d7brow0_col7\" class=\"data row0 col7\" >0.466354</td>\n",
       "                        <td id=\"T_121393d6_5d7c_11ec_a8ec_ac1f6b871d7brow0_col8\" class=\"data row0 col8\" >0.517085</td>\n",
       "            </tr>\n",
       "            <tr>\n",
       "                        <th id=\"T_121393d6_5d7c_11ec_a8ec_ac1f6b871d7blevel0_row1\" class=\"row_heading level0 row1\" >1</th>\n",
       "                        <td id=\"T_121393d6_5d7c_11ec_a8ec_ac1f6b871d7brow1_col0\" class=\"data row1 col0\" >0.492312</td>\n",
       "                        <td id=\"T_121393d6_5d7c_11ec_a8ec_ac1f6b871d7brow1_col1\" class=\"data row1 col1\" >0.477603</td>\n",
       "                        <td id=\"T_121393d6_5d7c_11ec_a8ec_ac1f6b871d7brow1_col2\" class=\"data row1 col2\" >0.476655</td>\n",
       "                        <td id=\"T_121393d6_5d7c_11ec_a8ec_ac1f6b871d7brow1_col3\" class=\"data row1 col3\" >0.476654</td>\n",
       "                        <td id=\"T_121393d6_5d7c_11ec_a8ec_ac1f6b871d7brow1_col4\" class=\"data row1 col4\" >0.513817</td>\n",
       "                        <td id=\"T_121393d6_5d7c_11ec_a8ec_ac1f6b871d7brow1_col5\" class=\"data row1 col5\" >0.501936</td>\n",
       "                        <td id=\"T_121393d6_5d7c_11ec_a8ec_ac1f6b871d7brow1_col6\" class=\"data row1 col6\" >0.506732</td>\n",
       "                        <td id=\"T_121393d6_5d7c_11ec_a8ec_ac1f6b871d7brow1_col7\" class=\"data row1 col7\" >0.459279</td>\n",
       "                        <td id=\"T_121393d6_5d7c_11ec_a8ec_ac1f6b871d7brow1_col8\" class=\"data row1 col8\" >0.516801</td>\n",
       "            </tr>\n",
       "            <tr>\n",
       "                        <th id=\"T_121393d6_5d7c_11ec_a8ec_ac1f6b871d7blevel0_row2\" class=\"row_heading level0 row2\" >2</th>\n",
       "                        <td id=\"T_121393d6_5d7c_11ec_a8ec_ac1f6b871d7brow2_col0\" class=\"data row2 col0\" >0.492166</td>\n",
       "                        <td id=\"T_121393d6_5d7c_11ec_a8ec_ac1f6b871d7brow2_col1\" class=\"data row2 col1\" >0.476977</td>\n",
       "                        <td id=\"T_121393d6_5d7c_11ec_a8ec_ac1f6b871d7brow2_col2\" class=\"data row2 col2\" >0.475034</td>\n",
       "                        <td id=\"T_121393d6_5d7c_11ec_a8ec_ac1f6b871d7brow2_col3\" class=\"data row2 col3\" >0.475052</td>\n",
       "                        <td id=\"T_121393d6_5d7c_11ec_a8ec_ac1f6b871d7brow2_col4\" class=\"data row2 col4\" >0.512596</td>\n",
       "                        <td id=\"T_121393d6_5d7c_11ec_a8ec_ac1f6b871d7brow2_col5\" class=\"data row2 col5\" >0.503988</td>\n",
       "                        <td id=\"T_121393d6_5d7c_11ec_a8ec_ac1f6b871d7brow2_col6\" class=\"data row2 col6\" >0.506842</td>\n",
       "                        <td id=\"T_121393d6_5d7c_11ec_a8ec_ac1f6b871d7brow2_col7\" class=\"data row2 col7\" >0.456096</td>\n",
       "                        <td id=\"T_121393d6_5d7c_11ec_a8ec_ac1f6b871d7brow2_col8\" class=\"data row2 col8\" >0.516392</td>\n",
       "            </tr>\n",
       "            <tr>\n",
       "                        <th id=\"T_121393d6_5d7c_11ec_a8ec_ac1f6b871d7blevel0_row3\" class=\"row_heading level0 row3\" >3</th>\n",
       "                        <td id=\"T_121393d6_5d7c_11ec_a8ec_ac1f6b871d7brow3_col0\" class=\"data row3 col0\" >0.492118</td>\n",
       "                        <td id=\"T_121393d6_5d7c_11ec_a8ec_ac1f6b871d7brow3_col1\" class=\"data row3 col1\" >0.476508</td>\n",
       "                        <td id=\"T_121393d6_5d7c_11ec_a8ec_ac1f6b871d7brow3_col2\" class=\"data row3 col2\" >0.474120</td>\n",
       "                        <td id=\"T_121393d6_5d7c_11ec_a8ec_ac1f6b871d7brow3_col3\" class=\"data row3 col3\" >0.474001</td>\n",
       "                        <td id=\"T_121393d6_5d7c_11ec_a8ec_ac1f6b871d7brow3_col4\" class=\"data row3 col4\" >0.511870</td>\n",
       "                        <td id=\"T_121393d6_5d7c_11ec_a8ec_ac1f6b871d7brow3_col5\" class=\"data row3 col5\" >0.505117</td>\n",
       "                        <td id=\"T_121393d6_5d7c_11ec_a8ec_ac1f6b871d7brow3_col6\" class=\"data row3 col6\" >0.506815</td>\n",
       "                        <td id=\"T_121393d6_5d7c_11ec_a8ec_ac1f6b871d7brow3_col7\" class=\"data row3 col7\" >0.454696</td>\n",
       "                        <td id=\"T_121393d6_5d7c_11ec_a8ec_ac1f6b871d7brow3_col8\" class=\"data row3 col8\" >0.516181</td>\n",
       "            </tr>\n",
       "            <tr>\n",
       "                        <th id=\"T_121393d6_5d7c_11ec_a8ec_ac1f6b871d7blevel0_row4\" class=\"row_heading level0 row4\" >4</th>\n",
       "                        <td id=\"T_121393d6_5d7c_11ec_a8ec_ac1f6b871d7brow4_col0\" class=\"data row4 col0\" >0.492110</td>\n",
       "                        <td id=\"T_121393d6_5d7c_11ec_a8ec_ac1f6b871d7brow4_col1\" class=\"data row4 col1\" >0.476154</td>\n",
       "                        <td id=\"T_121393d6_5d7c_11ec_a8ec_ac1f6b871d7brow4_col2\" class=\"data row4 col2\" >0.473642</td>\n",
       "                        <td id=\"T_121393d6_5d7c_11ec_a8ec_ac1f6b871d7brow4_col3\" class=\"data row4 col3\" >0.473355</td>\n",
       "                        <td id=\"T_121393d6_5d7c_11ec_a8ec_ac1f6b871d7brow4_col4\" class=\"data row4 col4\" >0.511399</td>\n",
       "                        <td id=\"T_121393d6_5d7c_11ec_a8ec_ac1f6b871d7brow4_col5\" class=\"data row4 col5\" >0.505729</td>\n",
       "                        <td id=\"T_121393d6_5d7c_11ec_a8ec_ac1f6b871d7brow4_col6\" class=\"data row4 col6\" >0.506755</td>\n",
       "                        <td id=\"T_121393d6_5d7c_11ec_a8ec_ac1f6b871d7brow4_col7\" class=\"data row4 col7\" >0.454091</td>\n",
       "                        <td id=\"T_121393d6_5d7c_11ec_a8ec_ac1f6b871d7brow4_col8\" class=\"data row4 col8\" >0.516128</td>\n",
       "            </tr>\n",
       "    </tbody></table>"
      ],
      "text/plain": [
       "<pandas.io.formats.style.Styler at 0x27b4441c220>"
      ]
     },
     "execution_count": 17,
     "metadata": {},
     "output_type": "execute_result"
    }
   ],
   "source": [
    "s,r,a,v = next(iter(train_iter))\n",
    "print(s.shape,r.shape,a.shape,v.shape)\n",
    "actions = model.actor_forward(s,r,eval=True)\n",
    "print(actions.shape)\n",
    "pd.DataFrame(actions[0].detach().numpy()).head().style.background_gradient()"
   ]
  },
  {
   "cell_type": "code",
   "execution_count": 18,
   "metadata": {},
   "outputs": [
    {
     "data": {
      "application/vnd.jupyter.widget-view+json": {
       "model_id": "8eb916f6b6744507a0077111a979c15a",
       "version_major": 2,
       "version_minor": 0
      },
      "text/plain": [
       "HBox(children=(FloatProgress(value=0.0, max=42.0), HTML(value='')))"
      ]
     },
     "metadata": {},
     "output_type": "display_data"
    },
    {
     "name": "stdout",
     "output_type": "stream",
     "text": [
      "epoch:0 critic_loss:2.2430743299482856\n",
      "epoch:10 critic_loss:0.0003894813889928628\n",
      "epoch:20 critic_loss:0.00013918474792262714\n",
      "epoch:30 critic_loss:7.449307281603978e-05\n",
      "epoch:40 critic_loss:4.7120604449446546e-05\n",
      "\n"
     ]
    },
    {
     "data": {
      "application/vnd.jupyter.widget-view+json": {
       "model_id": "8d8fc74a6b804c2dab01a49bddb8bb4d",
       "version_major": 2,
       "version_minor": 0
      },
      "text/plain": [
       "HBox(children=(FloatProgress(value=0.0, max=42.0), HTML(value='')))"
      ]
     },
     "metadata": {},
     "output_type": "display_data"
    },
    {
     "name": "stdout",
     "output_type": "stream",
     "text": [
      "epoch:0 actor_loss:0.04438328303513117\n",
      "epoch:10 actor_loss:0.00788433801062638\n",
      "epoch:20 actor_loss:0.004762577555084135\n",
      "epoch:30 actor_loss:0.00360014690522803\n",
      "epoch:40 actor_loss:0.0025310831624665298\n",
      "\n"
     ]
    }
   ],
   "source": [
    "model,train_history = train(model,train_iter,epochs=42)"
   ]
  },
  {
   "cell_type": "code",
   "execution_count": 19,
   "metadata": {},
   "outputs": [
    {
     "data": {
      "image/png": "[encoded data removed]",
      "text/plain": [
       "<Figure size 432x288 with 1 Axes>"
      ]
     },
     "metadata": {
      "needs_background": "light"
     },
     "output_type": "display_data"
    },
    {
     "data": {
      "text/plain": [
       "[<matplotlib.lines.Line2D at 0x27b41e9e640>]"
      ]
     },
     "execution_count": 19,
     "metadata": {},
     "output_type": "execute_result"
    },
    {
     "data": {
      "image/png": "[encoded data removed]",
      "text/plain": [
       "<Figure size 432x288 with 1 Axes>"
      ]
     },
     "metadata": {
      "needs_background": "light"
     },
     "output_type": "display_data"
    }
   ],
   "source": [
    "import matplotlib.pyplot as plt\n",
    "\n",
    "plt.plot(train_history['critic'])\n",
    "plt.show()\n",
    "plt.plot(train_history['actor'])"
   ]
  },
  {
   "cell_type": "code",
   "execution_count": 20,
   "metadata": {},
   "outputs": [],
   "source": [
    "s,r,a,v = next(iter(train_iter))\n",
    "actions = model.actor_forward(s,r,eval=True)"
   ]
  },
  {
   "cell_type": "code",
   "execution_count": 21,
   "metadata": {},
   "outputs": [
    {
     "data": {
      "text/html": [
       "<style  type=\"text/css\" >\n",
       "#T_f8898360_5d7d_11ec_8720_ac1f6b871d7brow0_col0,#T_f8898360_5d7d_11ec_8720_ac1f6b871d7brow0_col3,#T_f8898360_5d7d_11ec_8720_ac1f6b871d7brow0_col4,#T_f8898360_5d7d_11ec_8720_ac1f6b871d7brow1_col5,#T_f8898360_5d7d_11ec_8720_ac1f6b871d7brow3_col8,#T_f8898360_5d7d_11ec_8720_ac1f6b871d7brow4_col1,#T_f8898360_5d7d_11ec_8720_ac1f6b871d7brow4_col2,#T_f8898360_5d7d_11ec_8720_ac1f6b871d7brow4_col6,#T_f8898360_5d7d_11ec_8720_ac1f6b871d7brow4_col7{\n",
       "            background-color:  #fff7fb;\n",
       "            color:  #000000;\n",
       "        }#T_f8898360_5d7d_11ec_8720_ac1f6b871d7brow0_col1,#T_f8898360_5d7d_11ec_8720_ac1f6b871d7brow0_col2,#T_f8898360_5d7d_11ec_8720_ac1f6b871d7brow0_col6,#T_f8898360_5d7d_11ec_8720_ac1f6b871d7brow0_col7,#T_f8898360_5d7d_11ec_8720_ac1f6b871d7brow0_col8,#T_f8898360_5d7d_11ec_8720_ac1f6b871d7brow4_col0,#T_f8898360_5d7d_11ec_8720_ac1f6b871d7brow4_col3,#T_f8898360_5d7d_11ec_8720_ac1f6b871d7brow4_col4,#T_f8898360_5d7d_11ec_8720_ac1f6b871d7brow4_col5{\n",
       "            background-color:  #023858;\n",
       "            color:  #f1f1f1;\n",
       "        }#T_f8898360_5d7d_11ec_8720_ac1f6b871d7brow0_col5{\n",
       "            background-color:  #056ba9;\n",
       "            color:  #f1f1f1;\n",
       "        }#T_f8898360_5d7d_11ec_8720_ac1f6b871d7brow1_col0{\n",
       "            background-color:  #4094c3;\n",
       "            color:  #000000;\n",
       "        }#T_f8898360_5d7d_11ec_8720_ac1f6b871d7brow1_col1{\n",
       "            background-color:  #b3c3de;\n",
       "            color:  #000000;\n",
       "        }#T_f8898360_5d7d_11ec_8720_ac1f6b871d7brow1_col2{\n",
       "            background-color:  #97b7d7;\n",
       "            color:  #000000;\n",
       "        }#T_f8898360_5d7d_11ec_8720_ac1f6b871d7brow1_col3{\n",
       "            background-color:  #529bc7;\n",
       "            color:  #000000;\n",
       "        }#T_f8898360_5d7d_11ec_8720_ac1f6b871d7brow1_col4{\n",
       "            background-color:  #2f8bbe;\n",
       "            color:  #000000;\n",
       "        }#T_f8898360_5d7d_11ec_8720_ac1f6b871d7brow1_col6{\n",
       "            background-color:  #9ab8d8;\n",
       "            color:  #000000;\n",
       "        }#T_f8898360_5d7d_11ec_8720_ac1f6b871d7brow1_col7{\n",
       "            background-color:  #65a3cb;\n",
       "            color:  #000000;\n",
       "        }#T_f8898360_5d7d_11ec_8720_ac1f6b871d7brow1_col8{\n",
       "            background-color:  #81aed2;\n",
       "            color:  #000000;\n",
       "        }#T_f8898360_5d7d_11ec_8720_ac1f6b871d7brow2_col0{\n",
       "            background-color:  #045e93;\n",
       "            color:  #f1f1f1;\n",
       "        }#T_f8898360_5d7d_11ec_8720_ac1f6b871d7brow2_col1{\n",
       "            background-color:  #f0eaf4;\n",
       "            color:  #000000;\n",
       "        }#T_f8898360_5d7d_11ec_8720_ac1f6b871d7brow2_col2{\n",
       "            background-color:  #e7e3f0;\n",
       "            color:  #000000;\n",
       "        }#T_f8898360_5d7d_11ec_8720_ac1f6b871d7brow2_col3{\n",
       "            background-color:  #04629a;\n",
       "            color:  #f1f1f1;\n",
       "        }#T_f8898360_5d7d_11ec_8720_ac1f6b871d7brow2_col4{\n",
       "            background-color:  #0566a0;\n",
       "            color:  #f1f1f1;\n",
       "        }#T_f8898360_5d7d_11ec_8720_ac1f6b871d7brow2_col5{\n",
       "            background-color:  #88b1d4;\n",
       "            color:  #000000;\n",
       "        }#T_f8898360_5d7d_11ec_8720_ac1f6b871d7brow2_col6{\n",
       "            background-color:  #d2d2e7;\n",
       "            color:  #000000;\n",
       "        }#T_f8898360_5d7d_11ec_8720_ac1f6b871d7brow2_col7{\n",
       "            background-color:  #cacee5;\n",
       "            color:  #000000;\n",
       "        }#T_f8898360_5d7d_11ec_8720_ac1f6b871d7brow2_col8{\n",
       "            background-color:  #f3edf5;\n",
       "            color:  #000000;\n",
       "        }#T_f8898360_5d7d_11ec_8720_ac1f6b871d7brow3_col0{\n",
       "            background-color:  #034369;\n",
       "            color:  #f1f1f1;\n",
       "        }#T_f8898360_5d7d_11ec_8720_ac1f6b871d7brow3_col1,#T_f8898360_5d7d_11ec_8720_ac1f6b871d7brow4_col8{\n",
       "            background-color:  #fbf4f9;\n",
       "            color:  #000000;\n",
       "        }#T_f8898360_5d7d_11ec_8720_ac1f6b871d7brow3_col2{\n",
       "            background-color:  #f9f2f8;\n",
       "            color:  #000000;\n",
       "        }#T_f8898360_5d7d_11ec_8720_ac1f6b871d7brow3_col3{\n",
       "            background-color:  #03476f;\n",
       "            color:  #f1f1f1;\n",
       "        }#T_f8898360_5d7d_11ec_8720_ac1f6b871d7brow3_col4{\n",
       "            background-color:  #03517e;\n",
       "            color:  #f1f1f1;\n",
       "        }#T_f8898360_5d7d_11ec_8720_ac1f6b871d7brow3_col5{\n",
       "            background-color:  #0567a2;\n",
       "            color:  #f1f1f1;\n",
       "        }#T_f8898360_5d7d_11ec_8720_ac1f6b871d7brow3_col6,#T_f8898360_5d7d_11ec_8720_ac1f6b871d7brow3_col7{\n",
       "            background-color:  #f1ebf4;\n",
       "            color:  #000000;\n",
       "        }</style><table id=\"T_f8898360_5d7d_11ec_8720_ac1f6b871d7b\" ><thead>    <tr>        <th class=\"blank level0\" ></th>        <th class=\"col_heading level0 col0\" >0</th>        <th class=\"col_heading level0 col1\" >1</th>        <th class=\"col_heading level0 col2\" >2</th>        <th class=\"col_heading level0 col3\" >3</th>        <th class=\"col_heading level0 col4\" >4</th>        <th class=\"col_heading level0 col5\" >5</th>        <th class=\"col_heading level0 col6\" >6</th>        <th class=\"col_heading level0 col7\" >7</th>        <th class=\"col_heading level0 col8\" >8</th>    </tr></thead><tbody>\n",
       "                <tr>\n",
       "                        <th id=\"T_f8898360_5d7d_11ec_8720_ac1f6b871d7blevel0_row0\" class=\"row_heading level0 row0\" >0</th>\n",
       "                        <td id=\"T_f8898360_5d7d_11ec_8720_ac1f6b871d7brow0_col0\" class=\"data row0 col0\" >0.498347</td>\n",
       "                        <td id=\"T_f8898360_5d7d_11ec_8720_ac1f6b871d7brow0_col1\" class=\"data row0 col1\" >0.466989</td>\n",
       "                        <td id=\"T_f8898360_5d7d_11ec_8720_ac1f6b871d7brow0_col2\" class=\"data row0 col2\" >0.484945</td>\n",
       "                        <td id=\"T_f8898360_5d7d_11ec_8720_ac1f6b871d7brow0_col3\" class=\"data row0 col3\" >0.484793</td>\n",
       "                        <td id=\"T_f8898360_5d7d_11ec_8720_ac1f6b871d7brow0_col4\" class=\"data row0 col4\" >0.525646</td>\n",
       "                        <td id=\"T_f8898360_5d7d_11ec_8720_ac1f6b871d7brow0_col5\" class=\"data row0 col5\" >0.492653</td>\n",
       "                        <td id=\"T_f8898360_5d7d_11ec_8720_ac1f6b871d7brow0_col6\" class=\"data row0 col6\" >0.500972</td>\n",
       "                        <td id=\"T_f8898360_5d7d_11ec_8720_ac1f6b871d7brow0_col7\" class=\"data row0 col7\" >0.477680</td>\n",
       "                        <td id=\"T_f8898360_5d7d_11ec_8720_ac1f6b871d7brow0_col8\" class=\"data row0 col8\" >0.532169</td>\n",
       "            </tr>\n",
       "            <tr>\n",
       "                        <th id=\"T_f8898360_5d7d_11ec_8720_ac1f6b871d7blevel0_row1\" class=\"row_heading level0 row1\" >1</th>\n",
       "                        <td id=\"T_f8898360_5d7d_11ec_8720_ac1f6b871d7brow1_col0\" class=\"data row1 col0\" >0.498461</td>\n",
       "                        <td id=\"T_f8898360_5d7d_11ec_8720_ac1f6b871d7brow1_col1\" class=\"data row1 col1\" >0.466919</td>\n",
       "                        <td id=\"T_f8898360_5d7d_11ec_8720_ac1f6b871d7brow1_col2\" class=\"data row1 col2\" >0.484878</td>\n",
       "                        <td id=\"T_f8898360_5d7d_11ec_8720_ac1f6b871d7brow1_col3\" class=\"data row1 col3\" >0.484926</td>\n",
       "                        <td id=\"T_f8898360_5d7d_11ec_8720_ac1f6b871d7brow1_col4\" class=\"data row1 col4\" >0.525650</td>\n",
       "                        <td id=\"T_f8898360_5d7d_11ec_8720_ac1f6b871d7brow1_col5\" class=\"data row1 col5\" >0.492645</td>\n",
       "                        <td id=\"T_f8898360_5d7d_11ec_8720_ac1f6b871d7brow1_col6\" class=\"data row1 col6\" >0.500960</td>\n",
       "                        <td id=\"T_f8898360_5d7d_11ec_8720_ac1f6b871d7brow1_col7\" class=\"data row1 col7\" >0.477653</td>\n",
       "                        <td id=\"T_f8898360_5d7d_11ec_8720_ac1f6b871d7brow1_col8\" class=\"data row1 col8\" >0.532153</td>\n",
       "            </tr>\n",
       "            <tr>\n",
       "                        <th id=\"T_f8898360_5d7d_11ec_8720_ac1f6b871d7blevel0_row2\" class=\"row_heading level0 row2\" >2</th>\n",
       "                        <td id=\"T_f8898360_5d7d_11ec_8720_ac1f6b871d7brow2_col0\" class=\"data row2 col0\" >0.498509</td>\n",
       "                        <td id=\"T_f8898360_5d7d_11ec_8720_ac1f6b871d7brow2_col1\" class=\"data row2 col1\" >0.466895</td>\n",
       "                        <td id=\"T_f8898360_5d7d_11ec_8720_ac1f6b871d7brow2_col2\" class=\"data row2 col2\" >0.484848</td>\n",
       "                        <td id=\"T_f8898360_5d7d_11ec_8720_ac1f6b871d7brow2_col3\" class=\"data row2 col3\" >0.484986</td>\n",
       "                        <td id=\"T_f8898360_5d7d_11ec_8720_ac1f6b871d7brow2_col4\" class=\"data row2 col4\" >0.525651</td>\n",
       "                        <td id=\"T_f8898360_5d7d_11ec_8720_ac1f6b871d7brow2_col5\" class=\"data row2 col5\" >0.492650</td>\n",
       "                        <td id=\"T_f8898360_5d7d_11ec_8720_ac1f6b871d7brow2_col6\" class=\"data row2 col6\" >0.500957</td>\n",
       "                        <td id=\"T_f8898360_5d7d_11ec_8720_ac1f6b871d7brow2_col7\" class=\"data row2 col7\" >0.477638</td>\n",
       "                        <td id=\"T_f8898360_5d7d_11ec_8720_ac1f6b871d7brow2_col8\" class=\"data row2 col8\" >0.532142</td>\n",
       "            </tr>\n",
       "            <tr>\n",
       "                        <th id=\"T_f8898360_5d7d_11ec_8720_ac1f6b871d7blevel0_row3\" class=\"row_heading level0 row3\" >3</th>\n",
       "                        <td id=\"T_f8898360_5d7d_11ec_8720_ac1f6b871d7brow3_col0\" class=\"data row3 col0\" >0.498528</td>\n",
       "                        <td id=\"T_f8898360_5d7d_11ec_8720_ac1f6b871d7brow3_col1\" class=\"data row3 col1\" >0.466887</td>\n",
       "                        <td id=\"T_f8898360_5d7d_11ec_8720_ac1f6b871d7brow3_col2\" class=\"data row3 col2\" >0.484837</td>\n",
       "                        <td id=\"T_f8898360_5d7d_11ec_8720_ac1f6b871d7brow3_col3\" class=\"data row3 col3\" >0.485014</td>\n",
       "                        <td id=\"T_f8898360_5d7d_11ec_8720_ac1f6b871d7brow3_col4\" class=\"data row3 col4\" >0.525652</td>\n",
       "                        <td id=\"T_f8898360_5d7d_11ec_8720_ac1f6b871d7brow3_col5\" class=\"data row3 col5\" >0.492653</td>\n",
       "                        <td id=\"T_f8898360_5d7d_11ec_8720_ac1f6b871d7brow3_col6\" class=\"data row3 col6\" >0.500954</td>\n",
       "                        <td id=\"T_f8898360_5d7d_11ec_8720_ac1f6b871d7brow3_col7\" class=\"data row3 col7\" >0.477628</td>\n",
       "                        <td id=\"T_f8898360_5d7d_11ec_8720_ac1f6b871d7brow3_col8\" class=\"data row3 col8\" >0.532139</td>\n",
       "            </tr>\n",
       "            <tr>\n",
       "                        <th id=\"T_f8898360_5d7d_11ec_8720_ac1f6b871d7blevel0_row4\" class=\"row_heading level0 row4\" >4</th>\n",
       "                        <td id=\"T_f8898360_5d7d_11ec_8720_ac1f6b871d7brow4_col0\" class=\"data row4 col0\" >0.498536</td>\n",
       "                        <td id=\"T_f8898360_5d7d_11ec_8720_ac1f6b871d7brow4_col1\" class=\"data row4 col1\" >0.466884</td>\n",
       "                        <td id=\"T_f8898360_5d7d_11ec_8720_ac1f6b871d7brow4_col2\" class=\"data row4 col2\" >0.484832</td>\n",
       "                        <td id=\"T_f8898360_5d7d_11ec_8720_ac1f6b871d7brow4_col3\" class=\"data row4 col3\" >0.485027</td>\n",
       "                        <td id=\"T_f8898360_5d7d_11ec_8720_ac1f6b871d7brow4_col4\" class=\"data row4 col4\" >0.525653</td>\n",
       "                        <td id=\"T_f8898360_5d7d_11ec_8720_ac1f6b871d7brow4_col5\" class=\"data row4 col5\" >0.492656</td>\n",
       "                        <td id=\"T_f8898360_5d7d_11ec_8720_ac1f6b871d7brow4_col6\" class=\"data row4 col6\" >0.500952</td>\n",
       "                        <td id=\"T_f8898360_5d7d_11ec_8720_ac1f6b871d7brow4_col7\" class=\"data row4 col7\" >0.477623</td>\n",
       "                        <td id=\"T_f8898360_5d7d_11ec_8720_ac1f6b871d7brow4_col8\" class=\"data row4 col8\" >0.532140</td>\n",
       "            </tr>\n",
       "    </tbody></table>"
      ],
      "text/plain": [
       "<pandas.io.formats.style.Styler at 0x27b41ec93d0>"
      ]
     },
     "execution_count": 21,
     "metadata": {},
     "output_type": "execute_result"
    }
   ],
   "source": [
    "pd.DataFrame(actions[0].detach().numpy()).head().style.background_gradient()"
   ]
  },
  {
   "cell_type": "code",
   "execution_count": 22,
   "metadata": {},
   "outputs": [
    {
     "data": {
      "text/plain": [
       "tensor([[0.0014]], grad_fn=<SliceBackward>)"
      ]
     },
     "execution_count": 22,
     "metadata": {},
     "output_type": "execute_result"
    }
   ],
   "source": [
    "values = model.critic_forward(s[[0]],actions[[0]],eval=True)\n",
    "values"
   ]
  },
  {
   "cell_type": "markdown",
   "metadata": {},
   "source": [
    "# 令廠商想要控制某種產出率,其中state(s)不可控,則用法為"
   ]
  },
  {
   "cell_type": "code",
   "execution_count": 30,
   "metadata": {},
   "outputs": [
    {
     "name": "stdout",
     "output_type": "stream",
     "text": [
      "[0.0001947947148678194]\n"
     ]
    }
   ],
   "source": [
    "wanna_ouput = [describe.loc['75%'][0]]\n",
    "print(wanna_ouput)\n",
    "s,r,a,v = next(iter(train_iter))\n",
    "s = s[0].reshape(-1,time_step,state_size)\n",
    "r = torch.full((1,1),wanna_ouput[0])\n",
    "a = model.actor_forward(s,r,eval=True)\n",
    "v = model.critic_forward(s,a,eval=True)"
   ]
  },
  {
   "cell_type": "code",
   "execution_count": 31,
   "metadata": {},
   "outputs": [
    {
     "data": {
      "text/html": [
       "<style  type=\"text/css\" >\n",
       "#T_337da274_5d7e_11ec_8199_ac1f6b871d7brow0_col0,#T_337da274_5d7e_11ec_8199_ac1f6b871d7brow0_col3,#T_337da274_5d7e_11ec_8199_ac1f6b871d7brow0_col4,#T_337da274_5d7e_11ec_8199_ac1f6b871d7brow0_col6,#T_337da274_5d7e_11ec_8199_ac1f6b871d7brow2_col5,#T_337da274_5d7e_11ec_8199_ac1f6b871d7brow4_col1,#T_337da274_5d7e_11ec_8199_ac1f6b871d7brow4_col2,#T_337da274_5d7e_11ec_8199_ac1f6b871d7brow4_col7,#T_337da274_5d7e_11ec_8199_ac1f6b871d7brow4_col8{\n",
       "            background-color:  #fff7fb;\n",
       "            color:  #000000;\n",
       "        }#T_337da274_5d7e_11ec_8199_ac1f6b871d7brow0_col1,#T_337da274_5d7e_11ec_8199_ac1f6b871d7brow0_col2,#T_337da274_5d7e_11ec_8199_ac1f6b871d7brow0_col7,#T_337da274_5d7e_11ec_8199_ac1f6b871d7brow0_col8,#T_337da274_5d7e_11ec_8199_ac1f6b871d7brow4_col0,#T_337da274_5d7e_11ec_8199_ac1f6b871d7brow4_col3,#T_337da274_5d7e_11ec_8199_ac1f6b871d7brow4_col4,#T_337da274_5d7e_11ec_8199_ac1f6b871d7brow4_col5,#T_337da274_5d7e_11ec_8199_ac1f6b871d7brow4_col6{\n",
       "            background-color:  #023858;\n",
       "            color:  #f1f1f1;\n",
       "        }#T_337da274_5d7e_11ec_8199_ac1f6b871d7brow0_col5{\n",
       "            background-color:  #3d93c2;\n",
       "            color:  #000000;\n",
       "        }#T_337da274_5d7e_11ec_8199_ac1f6b871d7brow1_col0{\n",
       "            background-color:  #509ac6;\n",
       "            color:  #000000;\n",
       "        }#T_337da274_5d7e_11ec_8199_ac1f6b871d7brow1_col1{\n",
       "            background-color:  #81aed2;\n",
       "            color:  #000000;\n",
       "        }#T_337da274_5d7e_11ec_8199_ac1f6b871d7brow1_col2{\n",
       "            background-color:  #84b0d3;\n",
       "            color:  #000000;\n",
       "        }#T_337da274_5d7e_11ec_8199_ac1f6b871d7brow1_col3{\n",
       "            background-color:  #60a1ca;\n",
       "            color:  #000000;\n",
       "        }#T_337da274_5d7e_11ec_8199_ac1f6b871d7brow1_col4{\n",
       "            background-color:  #88b1d4;\n",
       "            color:  #000000;\n",
       "        }#T_337da274_5d7e_11ec_8199_ac1f6b871d7brow1_col5{\n",
       "            background-color:  #fbf4f9;\n",
       "            color:  #000000;\n",
       "        }#T_337da274_5d7e_11ec_8199_ac1f6b871d7brow1_col6{\n",
       "            background-color:  #2786bb;\n",
       "            color:  #000000;\n",
       "        }#T_337da274_5d7e_11ec_8199_ac1f6b871d7brow1_col7{\n",
       "            background-color:  #80aed2;\n",
       "            color:  #000000;\n",
       "        }#T_337da274_5d7e_11ec_8199_ac1f6b871d7brow1_col8{\n",
       "            background-color:  #045e93;\n",
       "            color:  #f1f1f1;\n",
       "        }#T_337da274_5d7e_11ec_8199_ac1f6b871d7brow2_col0{\n",
       "            background-color:  #0566a0;\n",
       "            color:  #f1f1f1;\n",
       "        }#T_337da274_5d7e_11ec_8199_ac1f6b871d7brow2_col1{\n",
       "            background-color:  #e0deed;\n",
       "            color:  #000000;\n",
       "        }#T_337da274_5d7e_11ec_8199_ac1f6b871d7brow2_col2{\n",
       "            background-color:  #e8e4f0;\n",
       "            color:  #000000;\n",
       "        }#T_337da274_5d7e_11ec_8199_ac1f6b871d7brow2_col3{\n",
       "            background-color:  #04649d;\n",
       "            color:  #f1f1f1;\n",
       "        }#T_337da274_5d7e_11ec_8199_ac1f6b871d7brow2_col4{\n",
       "            background-color:  #167bb6;\n",
       "            color:  #000000;\n",
       "        }#T_337da274_5d7e_11ec_8199_ac1f6b871d7brow2_col6{\n",
       "            background-color:  #034e7b;\n",
       "            color:  #f1f1f1;\n",
       "        }#T_337da274_5d7e_11ec_8199_ac1f6b871d7brow2_col7{\n",
       "            background-color:  #ede7f2;\n",
       "            color:  #000000;\n",
       "        }#T_337da274_5d7e_11ec_8199_ac1f6b871d7brow2_col8{\n",
       "            background-color:  #99b8d8;\n",
       "            color:  #000000;\n",
       "        }#T_337da274_5d7e_11ec_8199_ac1f6b871d7brow3_col0{\n",
       "            background-color:  #034a74;\n",
       "            color:  #f1f1f1;\n",
       "        }#T_337da274_5d7e_11ec_8199_ac1f6b871d7brow3_col1{\n",
       "            background-color:  #f8f1f8;\n",
       "            color:  #000000;\n",
       "        }#T_337da274_5d7e_11ec_8199_ac1f6b871d7brow3_col2{\n",
       "            background-color:  #fbf3f9;\n",
       "            color:  #000000;\n",
       "        }#T_337da274_5d7e_11ec_8199_ac1f6b871d7brow3_col3{\n",
       "            background-color:  #03476f;\n",
       "            color:  #f1f1f1;\n",
       "        }#T_337da274_5d7e_11ec_8199_ac1f6b871d7brow3_col4{\n",
       "            background-color:  #045788;\n",
       "            color:  #f1f1f1;\n",
       "        }#T_337da274_5d7e_11ec_8199_ac1f6b871d7brow3_col5{\n",
       "            background-color:  #abbfdc;\n",
       "            color:  #000000;\n",
       "        }#T_337da274_5d7e_11ec_8199_ac1f6b871d7brow3_col6{\n",
       "            background-color:  #023b5d;\n",
       "            color:  #f1f1f1;\n",
       "        }#T_337da274_5d7e_11ec_8199_ac1f6b871d7brow3_col7{\n",
       "            background-color:  #fef6fb;\n",
       "            color:  #000000;\n",
       "        }#T_337da274_5d7e_11ec_8199_ac1f6b871d7brow3_col8{\n",
       "            background-color:  #eae6f1;\n",
       "            color:  #000000;\n",
       "        }</style><table id=\"T_337da274_5d7e_11ec_8199_ac1f6b871d7b\" ><thead>    <tr>        <th class=\"blank level0\" ></th>        <th class=\"col_heading level0 col0\" >0</th>        <th class=\"col_heading level0 col1\" >1</th>        <th class=\"col_heading level0 col2\" >2</th>        <th class=\"col_heading level0 col3\" >3</th>        <th class=\"col_heading level0 col4\" >4</th>        <th class=\"col_heading level0 col5\" >5</th>        <th class=\"col_heading level0 col6\" >6</th>        <th class=\"col_heading level0 col7\" >7</th>        <th class=\"col_heading level0 col8\" >8</th>    </tr></thead><tbody>\n",
       "                <tr>\n",
       "                        <th id=\"T_337da274_5d7e_11ec_8199_ac1f6b871d7blevel0_row0\" class=\"row_heading level0 row0\" >0</th>\n",
       "                        <td id=\"T_337da274_5d7e_11ec_8199_ac1f6b871d7brow0_col0\" class=\"data row0 col0\" >0.498692</td>\n",
       "                        <td id=\"T_337da274_5d7e_11ec_8199_ac1f6b871d7brow0_col1\" class=\"data row0 col1\" >0.467034</td>\n",
       "                        <td id=\"T_337da274_5d7e_11ec_8199_ac1f6b871d7brow0_col2\" class=\"data row0 col2\" >0.484992</td>\n",
       "                        <td id=\"T_337da274_5d7e_11ec_8199_ac1f6b871d7brow0_col3\" class=\"data row0 col3\" >0.484661</td>\n",
       "                        <td id=\"T_337da274_5d7e_11ec_8199_ac1f6b871d7brow0_col4\" class=\"data row0 col4\" >0.525846</td>\n",
       "                        <td id=\"T_337da274_5d7e_11ec_8199_ac1f6b871d7brow0_col5\" class=\"data row0 col5\" >0.492758</td>\n",
       "                        <td id=\"T_337da274_5d7e_11ec_8199_ac1f6b871d7brow0_col6\" class=\"data row0 col6\" >0.501147</td>\n",
       "                        <td id=\"T_337da274_5d7e_11ec_8199_ac1f6b871d7brow0_col7\" class=\"data row0 col7\" >0.477871</td>\n",
       "                        <td id=\"T_337da274_5d7e_11ec_8199_ac1f6b871d7brow0_col8\" class=\"data row0 col8\" >0.532254</td>\n",
       "            </tr>\n",
       "            <tr>\n",
       "                        <th id=\"T_337da274_5d7e_11ec_8199_ac1f6b871d7blevel0_row1\" class=\"row_heading level0 row1\" >1</th>\n",
       "                        <td id=\"T_337da274_5d7e_11ec_8199_ac1f6b871d7brow1_col0\" class=\"data row1 col0\" >0.498847</td>\n",
       "                        <td id=\"T_337da274_5d7e_11ec_8199_ac1f6b871d7brow1_col1\" class=\"data row1 col1\" >0.466945</td>\n",
       "                        <td id=\"T_337da274_5d7e_11ec_8199_ac1f6b871d7brow1_col2\" class=\"data row1 col2\" >0.484929</td>\n",
       "                        <td id=\"T_337da274_5d7e_11ec_8199_ac1f6b871d7brow1_col3\" class=\"data row1 col3\" >0.484737</td>\n",
       "                        <td id=\"T_337da274_5d7e_11ec_8199_ac1f6b871d7brow1_col4\" class=\"data row1 col4\" >0.525895</td>\n",
       "                        <td id=\"T_337da274_5d7e_11ec_8199_ac1f6b871d7brow1_col5\" class=\"data row1 col5\" >0.492756</td>\n",
       "                        <td id=\"T_337da274_5d7e_11ec_8199_ac1f6b871d7brow1_col6\" class=\"data row1 col6\" >0.501204</td>\n",
       "                        <td id=\"T_337da274_5d7e_11ec_8199_ac1f6b871d7brow1_col7\" class=\"data row1 col7\" >0.477800</td>\n",
       "                        <td id=\"T_337da274_5d7e_11ec_8199_ac1f6b871d7brow1_col8\" class=\"data row1 col8\" >0.532248</td>\n",
       "            </tr>\n",
       "            <tr>\n",
       "                        <th id=\"T_337da274_5d7e_11ec_8199_ac1f6b871d7blevel0_row2\" class=\"row_heading level0 row2\" >2</th>\n",
       "                        <td id=\"T_337da274_5d7e_11ec_8199_ac1f6b871d7brow2_col0\" class=\"data row2 col0\" >0.498910</td>\n",
       "                        <td id=\"T_337da274_5d7e_11ec_8199_ac1f6b871d7brow2_col1\" class=\"data row2 col1\" >0.466897</td>\n",
       "                        <td id=\"T_337da274_5d7e_11ec_8199_ac1f6b871d7brow2_col2\" class=\"data row2 col2\" >0.484893</td>\n",
       "                        <td id=\"T_337da274_5d7e_11ec_8199_ac1f6b871d7brow2_col3\" class=\"data row2 col3\" >0.484776</td>\n",
       "                        <td id=\"T_337da274_5d7e_11ec_8199_ac1f6b871d7brow2_col4\" class=\"data row2 col4\" >0.525923</td>\n",
       "                        <td id=\"T_337da274_5d7e_11ec_8199_ac1f6b871d7brow2_col5\" class=\"data row2 col5\" >0.492756</td>\n",
       "                        <td id=\"T_337da274_5d7e_11ec_8199_ac1f6b871d7brow2_col6\" class=\"data row2 col6\" >0.501227</td>\n",
       "                        <td id=\"T_337da274_5d7e_11ec_8199_ac1f6b871d7brow2_col7\" class=\"data row2 col7\" >0.477754</td>\n",
       "                        <td id=\"T_337da274_5d7e_11ec_8199_ac1f6b871d7brow2_col8\" class=\"data row2 col8\" >0.532229</td>\n",
       "            </tr>\n",
       "            <tr>\n",
       "                        <th id=\"T_337da274_5d7e_11ec_8199_ac1f6b871d7blevel0_row3\" class=\"row_heading level0 row3\" >3</th>\n",
       "                        <td id=\"T_337da274_5d7e_11ec_8199_ac1f6b871d7brow3_col0\" class=\"data row3 col0\" >0.498944</td>\n",
       "                        <td id=\"T_337da274_5d7e_11ec_8199_ac1f6b871d7brow3_col1\" class=\"data row3 col1\" >0.466875</td>\n",
       "                        <td id=\"T_337da274_5d7e_11ec_8199_ac1f6b871d7brow3_col2\" class=\"data row3 col2\" >0.484880</td>\n",
       "                        <td id=\"T_337da274_5d7e_11ec_8199_ac1f6b871d7brow3_col3\" class=\"data row3 col3\" >0.484794</td>\n",
       "                        <td id=\"T_337da274_5d7e_11ec_8199_ac1f6b871d7brow3_col4\" class=\"data row3 col4\" >0.525943</td>\n",
       "                        <td id=\"T_337da274_5d7e_11ec_8199_ac1f6b871d7brow3_col5\" class=\"data row3 col5\" >0.492757</td>\n",
       "                        <td id=\"T_337da274_5d7e_11ec_8199_ac1f6b871d7brow3_col6\" class=\"data row3 col6\" >0.501233</td>\n",
       "                        <td id=\"T_337da274_5d7e_11ec_8199_ac1f6b871d7brow3_col7\" class=\"data row3 col7\" >0.477738</td>\n",
       "                        <td id=\"T_337da274_5d7e_11ec_8199_ac1f6b871d7brow3_col8\" class=\"data row3 col8\" >0.532218</td>\n",
       "            </tr>\n",
       "            <tr>\n",
       "                        <th id=\"T_337da274_5d7e_11ec_8199_ac1f6b871d7blevel0_row4\" class=\"row_heading level0 row4\" >4</th>\n",
       "                        <td id=\"T_337da274_5d7e_11ec_8199_ac1f6b871d7brow4_col0\" class=\"data row4 col0\" >0.498962</td>\n",
       "                        <td id=\"T_337da274_5d7e_11ec_8199_ac1f6b871d7brow4_col1\" class=\"data row4 col1\" >0.466867</td>\n",
       "                        <td id=\"T_337da274_5d7e_11ec_8199_ac1f6b871d7brow4_col2\" class=\"data row4 col2\" >0.484876</td>\n",
       "                        <td id=\"T_337da274_5d7e_11ec_8199_ac1f6b871d7brow4_col3\" class=\"data row4 col3\" >0.484802</td>\n",
       "                        <td id=\"T_337da274_5d7e_11ec_8199_ac1f6b871d7brow4_col4\" class=\"data row4 col4\" >0.525955</td>\n",
       "                        <td id=\"T_337da274_5d7e_11ec_8199_ac1f6b871d7brow4_col5\" class=\"data row4 col5\" >0.492760</td>\n",
       "                        <td id=\"T_337da274_5d7e_11ec_8199_ac1f6b871d7brow4_col6\" class=\"data row4 col6\" >0.501234</td>\n",
       "                        <td id=\"T_337da274_5d7e_11ec_8199_ac1f6b871d7brow4_col7\" class=\"data row4 col7\" >0.477737</td>\n",
       "                        <td id=\"T_337da274_5d7e_11ec_8199_ac1f6b871d7brow4_col8\" class=\"data row4 col8\" >0.532212</td>\n",
       "            </tr>\n",
       "    </tbody></table>"
      ],
      "text/plain": [
       "<pandas.io.formats.style.Styler at 0x27b41e0baf0>"
      ]
     },
     "execution_count": 31,
     "metadata": {},
     "output_type": "execute_result"
    }
   ],
   "source": [
    "# 模型建議操作\n",
    "pd.DataFrame(a[0].detach().numpy()).head().style.background_gradient()"
   ]
  },
  {
   "cell_type": "code",
   "execution_count": 32,
   "metadata": {},
   "outputs": [
    {
     "name": "stdout",
     "output_type": "stream",
     "text": [
      "value:[[0.00141089]]\n",
      "\n"
     ]
    }
   ],
   "source": [
    "# 模型預測根據上述操作應當的產出\n",
    "print(f'value:{v.detach().numpy()}\\n')"
   ]
  },
  {
   "cell_type": "code",
   "execution_count": 34,
   "metadata": {},
   "outputs": [
    {
     "data": {
      "application/vnd.jupyter.widget-view+json": {
       "model_id": "3392fe74bfc34b62a759216422687a44",
       "version_major": 2,
       "version_minor": 0
      },
      "text/plain": [
       "HBox(children=(FloatProgress(value=0.0, max=365.0), HTML(value='')))"
      ]
     },
     "metadata": {},
     "output_type": "display_data"
    },
    {
     "name": "stdout",
     "output_type": "stream",
     "text": [
      "\n"
     ]
    }
   ],
   "source": [
    "values_list = []\n",
    "for i in tqdm(range(365)):\n",
    "    s,r,a,v = next(iter(train_iter))\n",
    "    s = s[0].reshape(-1,time_step,state_size)\n",
    "    r = torch.full((1,1),wanna_ouput[0])\n",
    "    a = model.actor_forward(s,r,eval=True)# 模型建議操作\n",
    "    v = model.critic_forward(s,a,eval=True)\n",
    "    values_list.append(v.detach().numpy()[0])\n",
    "values_list = np.array(values_list)"
   ]
  },
  {
   "cell_type": "code",
   "execution_count": 38,
   "metadata": {},
   "outputs": [
    {
     "data": {
      "image/png": "[encoded data removed]",
      "text/plain": [
       "<Figure size 432x288 with 1 Axes>"
      ]
     },
     "metadata": {
      "needs_background": "light"
     },
     "output_type": "display_data"
    }
   ],
   "source": [
    "data = joblib.load('..\\data\\dataset.pkl')\n",
    "a = pd.DataFrame(data['value'],columns=data['value_col'])\n",
    "sns.kdeplot(values_list[:,0],label='AI',color='r')\n",
    "sns.kdeplot(data['value'][:,0],label='ORIGINAL',color='b')\n",
    "#plt.axvline(x=a.describe().loc['50%'][0], label= \"50%\", c='k',alpha=0.5)\n",
    "#plt.axvline(x=a.describe().loc['75%'][0], label= \"75%\", c='k',alpha=0.5)\n",
    "plt.legend()\n",
    "plt.show()"
   ]
  },
  {
   "cell_type": "code",
   "execution_count": 39,
   "metadata": {},
   "outputs": [],
   "source": [
    "# save weight\n",
    "torch.save(model.actor.state_dict(),'../model/actor.pth')\n",
    "torch.save(model.critic.state_dict(),'../model/critic.pth')"
   ]
  },
  {
   "cell_type": "code",
   "execution_count": null,
   "metadata": {},
   "outputs": [],
   "source": []
  }
 ],
 "metadata": {
  "interpreter": {
   "hash": "2ccee5cc862501c1aad1cf19888c2a2eca4026b72d187db43d5e889cbdc6ee97"
  },
  "kernelspec": {
   "display_name": "Python 3.8.5 64-bit ('base': conda)",
   "name": "python3"
  },
  "language_info": {
   "codemirror_mode": {
    "name": "ipython",
    "version": 3
   },
   "file_extension": ".py",
   "mimetype": "text/x-python",
   "name": "python",
   "nbconvert_exporter": "python",
   "pygments_lexer": "ipython3",
   "version": "3.8.5"
  },
  "orig_nbformat": 4
 },
 "nbformat": 4,
 "nbformat_minor": 2
}
