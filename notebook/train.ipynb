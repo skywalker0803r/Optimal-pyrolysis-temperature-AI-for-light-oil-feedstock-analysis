{
 "cells": [
  {
   "cell_type": "code",
   "execution_count": 111,
   "metadata": {},
   "outputs": [
    {
     "name": "stderr",
     "output_type": "stream",
     "text": [
      "Global seed set to 42\n"
     ]
    }
   ],
   "source": [
    "\n",
    "import torch\n",
    "import torch.nn as nn\n",
    "import numpy as np\n",
    "from torch.optim import Adam\n",
    "import pandas as pd\n",
    "from torch.utils.data import TensorDataset,DataLoader\n",
    "import joblib\n",
    "import requests\n",
    "from tqdm import tqdm_notebook as tqdm\n",
    "from pytorch_lightning import seed_everything\n",
    "import random\n",
    "import warnings \n",
    "warnings.filterwarnings('ignore')\n",
    "exec(requests.get('https://raw.githubusercontent.com/facebookresearch/madgrad/main/madgrad/madgrad.py').text)\n",
    "\n",
    "def set_seed(seed = int):\n",
    "    '''Sets the seed of the entire notebook so results are the same every time we run.\n",
    "    This is for REPRODUCIBILITY.'''\n",
    "    np.random.seed(seed)\n",
    "    random_state = np.random.RandomState(seed)\n",
    "    random.seed(seed)\n",
    "    torch.manual_seed(seed)\n",
    "    torch.cuda.manual_seed(seed)\n",
    "    torch.backends.cudnn.deterministic = True\n",
    "    torch.backends.cudnn.benchmark = False\n",
    "    os.environ['PYTHONHASHSEED'] = str(seed)\n",
    "    seed_everything(seed)\n",
    "    return random_state\n",
    "random_state = set_seed(42)"
   ]
  },
  {
   "cell_type": "markdown",
   "metadata": {},
   "source": [
    "# config"
   ]
  },
  {
   "cell_type": "code",
   "execution_count": 112,
   "metadata": {},
   "outputs": [],
   "source": [
    "batch_size = 32\n",
    "hidden_size = 128\n",
    "state_size = 6\n",
    "request_size = 2\n",
    "value_size = 2\n",
    "action_size = 9\n",
    "time_step = 144"
   ]
  },
  {
   "cell_type": "code",
   "execution_count": 113,
   "metadata": {},
   "outputs": [
    {
     "name": "stdout",
     "output_type": "stream",
     "text": [
      "(365, 144, 6)\n",
      "(365, 144, 9)\n",
      "(365, 2)\n",
      "(365, 2)\n"
     ]
    }
   ],
   "source": [
    "# Load data\n",
    "data = joblib.load('..\\data\\dataset.pkl')\n",
    "\n",
    "#for i in ['state','action','value']:\n",
    "#    data[i] = np.vstack([data[i],data[i],data[i],data[i]])\n",
    "\n",
    "data['request'] = np.random.uniform(low=0.8,high=1.0,size=data['value'].shape)\n",
    "\n",
    "# shape\n",
    "print(data['state'].shape)\n",
    "print(data['action'].shape)\n",
    "print(data['value'].shape)\n",
    "print(data['request'].shape)\n",
    "\n",
    "# tensor\n",
    "data['state'] = torch.FloatTensor(data['state'])\n",
    "data['request'] = torch.FloatTensor(data['request'])\n",
    "data['action'] = torch.FloatTensor(data['action'])\n",
    "data['value'] = torch.FloatTensor(data['value'])\n",
    "\n",
    "\n",
    "\n",
    "# data_iter\n",
    "data = TensorDataset(data['state'],data['request'],data['action'],data['value'])\n",
    "train_iter = DataLoader(data,batch_size=batch_size,shuffle=True)"
   ]
  },
  {
   "cell_type": "markdown",
   "metadata": {},
   "source": [
    "# R2D2 MODEL"
   ]
  },
  {
   "cell_type": "code",
   "execution_count": 114,
   "metadata": {},
   "outputs": [],
   "source": [
    "\n",
    "class R2D2(nn.Module):\n",
    "  def __init__(self,obs_size,n_actions,hidden_size):\n",
    "    super().__init__()\n",
    "    self.hidden_size = hidden_size\n",
    "    self.l1 = nn.Linear(obs_size,self.hidden_size)\n",
    "    self.l2 = nn.LSTMCell(self.hidden_size,self.hidden_size)\n",
    "    self.l3 = nn.Linear(self.hidden_size,n_actions)\n",
    "  \n",
    "  def forward(self,x,hx,cx):\n",
    "    x = torch.tanh(self.l1(x))\n",
    "    hx,cx = self.l2(x,(hx,cx))\n",
    "    x = torch.tanh(hx)\n",
    "    x = torch.sigmoid(self.l3(x)) # to range[0,1]\n",
    "    return x,hx,cx\n"
   ]
  },
  {
   "cell_type": "markdown",
   "metadata": {},
   "source": [
    "# ActorCritic Model"
   ]
  },
  {
   "cell_type": "code",
   "execution_count": 115,
   "metadata": {},
   "outputs": [],
   "source": [
    "class ActorCritic(nn.Module):\n",
    "  def __init__(self,actor,critic,time_step):\n",
    "    super().__init__()\n",
    "    self.time_step = time_step\n",
    "    \n",
    "    self.actor = actor\n",
    "    self.actor_optimizer = MADGRAD(actor.parameters() ,lr = 1e-3)\n",
    "    \n",
    "    self.critic = critic\n",
    "    self.critic_optimizer = MADGRAD(critic.parameters() ,lr = 1e-3)\n",
    "  \n",
    "  def forward(self,state,request):\n",
    "    actions = self.actor_forward(state,request)\n",
    "    values = self.critic_forward(state,actions)\n",
    "    return values\n",
    "\n",
    "  def actor_forward(self,state,request,eval=False):\n",
    "    '''\n",
    "    # 給定狀態(不可控)和需求 輸出一系列動作\n",
    "    '''\n",
    "    # train or eval model\n",
    "    if eval == True:\n",
    "      self.actor.eval()\n",
    "    else:\n",
    "      self.actor.train()\n",
    "    \n",
    "    # initialize hx,cx\n",
    "    hx = torch.zeros((state.size()[0],actor.hidden_size))\n",
    "    cx = torch.zeros((state.size()[0],actor.hidden_size))\n",
    "    \n",
    "    # get actions shape(batch_size,time_step,action_size)\n",
    "    actions = torch.FloatTensor()\n",
    "    \n",
    "    # 對一定時間長度進行遍歷\n",
    "    for t in range(self.time_step):\n",
    "      # 在t時刻 根據t時刻的狀態,需求以及短期記憶hx,長期記憶cx當作輸入,得到輸出a(動作),更新後的短期記憶hx,更新後的長期記憶cx\n",
    "      a,hx,cx = self.actor(torch.cat((state[:,t,:],request),dim=1),hx,cx)\n",
    "      actions = torch.cat((actions,a),dim=1)\n",
    "    # 一系列動作 (Batch,Time,Features)\n",
    "    actions = actions.reshape(state.size()[0],self.time_step,-1)\n",
    "    \n",
    "    return actions\n",
    "  \n",
    "  def critic_forward(self,state,action,eval=False):\n",
    "    '''\n",
    "    # 輸入狀態(不可控)和一系列動作(可控),預測產出\n",
    "    '''\n",
    "\n",
    "    # train or eval model\n",
    "    if eval == True:\n",
    "      self.critic.eval()\n",
    "    else:\n",
    "      self.critic.train()\n",
    "    \n",
    "    # initialize hx,cx\n",
    "    hx = torch.zeros((state.size()[0],critic.hidden_size))\n",
    "    cx = torch.zeros((state.size()[0],critic.hidden_size))\n",
    "\n",
    "    # get values shape(batch_size,time_step,value_size)\n",
    "    values = torch.FloatTensor()\n",
    "    \n",
    "    # 對時間點遍歷\n",
    "    for t in range(self.time_step):\n",
    "      # 根據當前t時刻狀態,動作,hx,cx當輸入得到,v(產出),更新hx,cx\n",
    "      v,hx,cx = self.critic(torch.cat((state[:,t,:],action[:,t,:]),dim=1),hx,cx)\n",
    "      values = torch.cat((values,v),dim=1)\n",
    "    \n",
    "    # 一系列產出(Batch,Time,Features)\n",
    "    values = values.reshape(state.size()[0],self.time_step,-1)\n",
    "    \n",
    "    # 只取最後一個時間點\n",
    "    return values[:,-1,:] # return last time_step\n",
    "\n",
    "  def train_critic(self,state,action,value):\n",
    "    '''\n",
    "    x: [state,action]\n",
    "    y: [value]\n",
    "    '監督式學習'\n",
    "    '''\n",
    "    self.critic.train()\n",
    "    self.actor.eval()\n",
    "    value_hat = self.critic_forward(state,action)\n",
    "    \n",
    "    # 預測值跟label的平方差愈小愈好\n",
    "    loss = ((value_hat-value)**2).mean()\n",
    "    loss.backward()\n",
    "    self.critic_optimizer.step()\n",
    "    self.critic_optimizer.zero_grad()\n",
    "    return loss.item()\n",
    "  \n",
    "  def train_actor(self,state,request):\n",
    "    '''\n",
    "    x: [state,request]\n",
    "    y: maximum critic value\n",
    "    '最小化產出跟request的差異'\n",
    "    '''\n",
    "    self.actor.train()\n",
    "    self.critic.eval()\n",
    "    actions = self.actor_forward(state,request)\n",
    "    value_hat = self.critic_forward(state,actions)\n",
    "\n",
    "    # 首先預測值跟需求的平方差愈小愈好\n",
    "    loss1 = ((request-value_hat)**2).mean()\n",
    "\n",
    "    # 再來避免\"變異數太大(時間維度上)\" 因為盤控人員不可能突然調太多\n",
    "    loss2 = actions.reshape(-1,time_step,action_size).std(axis=1)\n",
    "    loss2 = loss2.sum(axis=-1).mean(axis=0)\n",
    "\n",
    "    loss = loss1 + loss2\n",
    "    loss.backward()\n",
    "    \n",
    "    self.actor_optimizer.step()\n",
    "    self.actor.zero_grad()\n",
    "\n",
    "    return loss.item()"
   ]
  },
  {
   "cell_type": "code",
   "execution_count": 116,
   "metadata": {},
   "outputs": [],
   "source": [
    "actor = R2D2(state_size+request_size,action_size,hidden_size)\n",
    "critic = R2D2(state_size+action_size,value_size,hidden_size)\n",
    "model = ActorCritic(actor,critic,time_step)"
   ]
  },
  {
   "cell_type": "markdown",
   "metadata": {},
   "source": [
    "# train loop"
   ]
  },
  {
   "cell_type": "code",
   "execution_count": 117,
   "metadata": {},
   "outputs": [],
   "source": [
    "def train_critic():\n",
    "  loss = 0\n",
    "  for i,(bs,br,ba,bv) in enumerate(train_iter):\n",
    "    loss += model.train_critic(bs,ba,bv)\n",
    "  return loss\n",
    "\n",
    "def train_actor():\n",
    "  loss = 0\n",
    "  for i,(bs,br,ba,bv) in enumerate(train_iter):\n",
    "    loss += model.train_actor(bs,br)\n",
    "  return loss\n",
    "\n",
    "def train(model,train_iter,epochs=100):\n",
    "  train_history = {}\n",
    "  train_history['actor'] = []\n",
    "  train_history['critic'] = []\n",
    "  \n",
    "  for epoch in tqdm(range(epochs)):\n",
    "    loss = train_critic()\n",
    "    train_history['critic'].append(loss)\n",
    "    if epoch % 10 == 0:\n",
    "      print('epoch:{} critic_loss:{}'.format(epoch,loss))\n",
    "    \n",
    "  for epoch in tqdm(range(epochs)):\n",
    "    loss = train_actor()\n",
    "    train_history['actor'].append(loss)\n",
    "    if epoch % 10 == 0:\n",
    "      print('epoch:{} actor_loss:{}'.format(epoch,loss))\n",
    "    \n",
    "  return model,train_history"
   ]
  },
  {
   "cell_type": "code",
   "execution_count": 118,
   "metadata": {},
   "outputs": [
    {
     "name": "stdout",
     "output_type": "stream",
     "text": [
      "torch.Size([32, 144, 9])\n"
     ]
    },
    {
     "data": {
      "text/html": [
       "<style  type=\"text/css\" >\n",
       "#T_3771e536_30a3_11ec_a8ec_ac1f6b871d7brow0_col0,#T_3771e536_30a3_11ec_a8ec_ac1f6b871d7brow0_col1,#T_3771e536_30a3_11ec_a8ec_ac1f6b871d7brow0_col4,#T_3771e536_30a3_11ec_a8ec_ac1f6b871d7brow0_col5,#T_3771e536_30a3_11ec_a8ec_ac1f6b871d7brow2_col6,#T_3771e536_30a3_11ec_a8ec_ac1f6b871d7brow4_col2,#T_3771e536_30a3_11ec_a8ec_ac1f6b871d7brow4_col3,#T_3771e536_30a3_11ec_a8ec_ac1f6b871d7brow4_col7,#T_3771e536_30a3_11ec_a8ec_ac1f6b871d7brow4_col8{\n",
       "            background-color:  #fff7fb;\n",
       "            color:  #000000;\n",
       "        }#T_3771e536_30a3_11ec_a8ec_ac1f6b871d7brow0_col2,#T_3771e536_30a3_11ec_a8ec_ac1f6b871d7brow0_col3,#T_3771e536_30a3_11ec_a8ec_ac1f6b871d7brow0_col6,#T_3771e536_30a3_11ec_a8ec_ac1f6b871d7brow0_col7,#T_3771e536_30a3_11ec_a8ec_ac1f6b871d7brow0_col8,#T_3771e536_30a3_11ec_a8ec_ac1f6b871d7brow3_col1,#T_3771e536_30a3_11ec_a8ec_ac1f6b871d7brow4_col0,#T_3771e536_30a3_11ec_a8ec_ac1f6b871d7brow4_col4,#T_3771e536_30a3_11ec_a8ec_ac1f6b871d7brow4_col5{\n",
       "            background-color:  #023858;\n",
       "            color:  #f1f1f1;\n",
       "        }#T_3771e536_30a3_11ec_a8ec_ac1f6b871d7brow1_col0,#T_3771e536_30a3_11ec_a8ec_ac1f6b871d7brow1_col2{\n",
       "            background-color:  #7eadd1;\n",
       "            color:  #000000;\n",
       "        }#T_3771e536_30a3_11ec_a8ec_ac1f6b871d7brow1_col1{\n",
       "            background-color:  #157ab5;\n",
       "            color:  #000000;\n",
       "        }#T_3771e536_30a3_11ec_a8ec_ac1f6b871d7brow1_col3{\n",
       "            background-color:  #79abd0;\n",
       "            color:  #000000;\n",
       "        }#T_3771e536_30a3_11ec_a8ec_ac1f6b871d7brow1_col4{\n",
       "            background-color:  #5a9ec9;\n",
       "            color:  #000000;\n",
       "        }#T_3771e536_30a3_11ec_a8ec_ac1f6b871d7brow1_col5{\n",
       "            background-color:  #63a2cb;\n",
       "            color:  #000000;\n",
       "        }#T_3771e536_30a3_11ec_a8ec_ac1f6b871d7brow1_col6{\n",
       "            background-color:  #d1d2e6;\n",
       "            color:  #000000;\n",
       "        }#T_3771e536_30a3_11ec_a8ec_ac1f6b871d7brow1_col7{\n",
       "            background-color:  #62a2cb;\n",
       "            color:  #000000;\n",
       "        }#T_3771e536_30a3_11ec_a8ec_ac1f6b871d7brow1_col8{\n",
       "            background-color:  #509ac6;\n",
       "            color:  #000000;\n",
       "        }#T_3771e536_30a3_11ec_a8ec_ac1f6b871d7brow2_col0{\n",
       "            background-color:  #0771b1;\n",
       "            color:  #f1f1f1;\n",
       "        }#T_3771e536_30a3_11ec_a8ec_ac1f6b871d7brow2_col1{\n",
       "            background-color:  #03446a;\n",
       "            color:  #f1f1f1;\n",
       "        }#T_3771e536_30a3_11ec_a8ec_ac1f6b871d7brow2_col2{\n",
       "            background-color:  #d9d8ea;\n",
       "            color:  #000000;\n",
       "        }#T_3771e536_30a3_11ec_a8ec_ac1f6b871d7brow2_col3{\n",
       "            background-color:  #d7d6e9;\n",
       "            color:  #000000;\n",
       "        }#T_3771e536_30a3_11ec_a8ec_ac1f6b871d7brow2_col4{\n",
       "            background-color:  #0567a2;\n",
       "            color:  #f1f1f1;\n",
       "        }#T_3771e536_30a3_11ec_a8ec_ac1f6b871d7brow2_col5{\n",
       "            background-color:  #0568a3;\n",
       "            color:  #f1f1f1;\n",
       "        }#T_3771e536_30a3_11ec_a8ec_ac1f6b871d7brow2_col7,#T_3771e536_30a3_11ec_a8ec_ac1f6b871d7brow2_col8{\n",
       "            background-color:  #d0d1e6;\n",
       "            color:  #000000;\n",
       "        }#T_3771e536_30a3_11ec_a8ec_ac1f6b871d7brow3_col0{\n",
       "            background-color:  #045382;\n",
       "            color:  #f1f1f1;\n",
       "        }#T_3771e536_30a3_11ec_a8ec_ac1f6b871d7brow3_col2{\n",
       "            background-color:  #f4eef6;\n",
       "            color:  #000000;\n",
       "        }#T_3771e536_30a3_11ec_a8ec_ac1f6b871d7brow3_col3,#T_3771e536_30a3_11ec_a8ec_ac1f6b871d7brow3_col8{\n",
       "            background-color:  #f3edf5;\n",
       "            color:  #000000;\n",
       "        }#T_3771e536_30a3_11ec_a8ec_ac1f6b871d7brow3_col4{\n",
       "            background-color:  #034b76;\n",
       "            color:  #f1f1f1;\n",
       "        }#T_3771e536_30a3_11ec_a8ec_ac1f6b871d7brow3_col5{\n",
       "            background-color:  #034a74;\n",
       "            color:  #f1f1f1;\n",
       "        }#T_3771e536_30a3_11ec_a8ec_ac1f6b871d7brow3_col6{\n",
       "            background-color:  #ede8f3;\n",
       "            color:  #000000;\n",
       "        }#T_3771e536_30a3_11ec_a8ec_ac1f6b871d7brow3_col7{\n",
       "            background-color:  #f2ecf5;\n",
       "            color:  #000000;\n",
       "        }#T_3771e536_30a3_11ec_a8ec_ac1f6b871d7brow4_col1{\n",
       "            background-color:  #023f64;\n",
       "            color:  #f1f1f1;\n",
       "        }#T_3771e536_30a3_11ec_a8ec_ac1f6b871d7brow4_col6{\n",
       "            background-color:  #9ebad9;\n",
       "            color:  #000000;\n",
       "        }</style><table id=\"T_3771e536_30a3_11ec_a8ec_ac1f6b871d7b\" ><thead>    <tr>        <th class=\"blank level0\" ></th>        <th class=\"col_heading level0 col0\" >0</th>        <th class=\"col_heading level0 col1\" >1</th>        <th class=\"col_heading level0 col2\" >2</th>        <th class=\"col_heading level0 col3\" >3</th>        <th class=\"col_heading level0 col4\" >4</th>        <th class=\"col_heading level0 col5\" >5</th>        <th class=\"col_heading level0 col6\" >6</th>        <th class=\"col_heading level0 col7\" >7</th>        <th class=\"col_heading level0 col8\" >8</th>    </tr></thead><tbody>\n",
       "                <tr>\n",
       "                        <th id=\"T_3771e536_30a3_11ec_a8ec_ac1f6b871d7blevel0_row0\" class=\"row_heading level0 row0\" >0</th>\n",
       "                        <td id=\"T_3771e536_30a3_11ec_a8ec_ac1f6b871d7brow0_col0\" class=\"data row0 col0\" >0.501480</td>\n",
       "                        <td id=\"T_3771e536_30a3_11ec_a8ec_ac1f6b871d7brow0_col1\" class=\"data row0 col1\" >0.508494</td>\n",
       "                        <td id=\"T_3771e536_30a3_11ec_a8ec_ac1f6b871d7brow0_col2\" class=\"data row0 col2\" >0.504091</td>\n",
       "                        <td id=\"T_3771e536_30a3_11ec_a8ec_ac1f6b871d7brow0_col3\" class=\"data row0 col3\" >0.502901</td>\n",
       "                        <td id=\"T_3771e536_30a3_11ec_a8ec_ac1f6b871d7brow0_col4\" class=\"data row0 col4\" >0.510921</td>\n",
       "                        <td id=\"T_3771e536_30a3_11ec_a8ec_ac1f6b871d7brow0_col5\" class=\"data row0 col5\" >0.512640</td>\n",
       "                        <td id=\"T_3771e536_30a3_11ec_a8ec_ac1f6b871d7brow0_col6\" class=\"data row0 col6\" >0.482709</td>\n",
       "                        <td id=\"T_3771e536_30a3_11ec_a8ec_ac1f6b871d7brow0_col7\" class=\"data row0 col7\" >0.479016</td>\n",
       "                        <td id=\"T_3771e536_30a3_11ec_a8ec_ac1f6b871d7brow0_col8\" class=\"data row0 col8\" >0.483262</td>\n",
       "            </tr>\n",
       "            <tr>\n",
       "                        <th id=\"T_3771e536_30a3_11ec_a8ec_ac1f6b871d7blevel0_row1\" class=\"row_heading level0 row1\" >1</th>\n",
       "                        <td id=\"T_3771e536_30a3_11ec_a8ec_ac1f6b871d7brow1_col0\" class=\"data row1 col0\" >0.503430</td>\n",
       "                        <td id=\"T_3771e536_30a3_11ec_a8ec_ac1f6b871d7brow1_col1\" class=\"data row1 col1\" >0.510158</td>\n",
       "                        <td id=\"T_3771e536_30a3_11ec_a8ec_ac1f6b871d7brow1_col2\" class=\"data row1 col2\" >0.498593</td>\n",
       "                        <td id=\"T_3771e536_30a3_11ec_a8ec_ac1f6b871d7brow1_col3\" class=\"data row1 col3\" >0.498866</td>\n",
       "                        <td id=\"T_3771e536_30a3_11ec_a8ec_ac1f6b871d7brow1_col4\" class=\"data row1 col4\" >0.513285</td>\n",
       "                        <td id=\"T_3771e536_30a3_11ec_a8ec_ac1f6b871d7brow1_col5\" class=\"data row1 col5\" >0.514553</td>\n",
       "                        <td id=\"T_3771e536_30a3_11ec_a8ec_ac1f6b871d7brow1_col6\" class=\"data row1 col6\" >0.481798</td>\n",
       "                        <td id=\"T_3771e536_30a3_11ec_a8ec_ac1f6b871d7brow1_col7\" class=\"data row1 col7\" >0.474115</td>\n",
       "                        <td id=\"T_3771e536_30a3_11ec_a8ec_ac1f6b871d7brow1_col8\" class=\"data row1 col8\" >0.482224</td>\n",
       "            </tr>\n",
       "            <tr>\n",
       "                        <th id=\"T_3771e536_30a3_11ec_a8ec_ac1f6b871d7blevel0_row2\" class=\"row_heading level0 row2\" >2</th>\n",
       "                        <td id=\"T_3771e536_30a3_11ec_a8ec_ac1f6b871d7brow2_col0\" class=\"data row2 col0\" >0.504528</td>\n",
       "                        <td id=\"T_3771e536_30a3_11ec_a8ec_ac1f6b871d7brow2_col1\" class=\"data row2 col1\" >0.510735</td>\n",
       "                        <td id=\"T_3771e536_30a3_11ec_a8ec_ac1f6b871d7brow2_col2\" class=\"data row2 col2\" >0.495800</td>\n",
       "                        <td id=\"T_3771e536_30a3_11ec_a8ec_ac1f6b871d7brow2_col3\" class=\"data row2 col3\" >0.496758</td>\n",
       "                        <td id=\"T_3771e536_30a3_11ec_a8ec_ac1f6b871d7brow2_col4\" class=\"data row2 col4\" >0.514340</td>\n",
       "                        <td id=\"T_3771e536_30a3_11ec_a8ec_ac1f6b871d7brow2_col5\" class=\"data row2 col5\" >0.515501</td>\n",
       "                        <td id=\"T_3771e536_30a3_11ec_a8ec_ac1f6b871d7brow2_col6\" class=\"data row2 col6\" >0.481501</td>\n",
       "                        <td id=\"T_3771e536_30a3_11ec_a8ec_ac1f6b871d7brow2_col7\" class=\"data row2 col7\" >0.471103</td>\n",
       "                        <td id=\"T_3771e536_30a3_11ec_a8ec_ac1f6b871d7brow2_col8\" class=\"data row2 col8\" >0.481448</td>\n",
       "            </tr>\n",
       "            <tr>\n",
       "                        <th id=\"T_3771e536_30a3_11ec_a8ec_ac1f6b871d7blevel0_row3\" class=\"row_heading level0 row3\" >3</th>\n",
       "                        <td id=\"T_3771e536_30a3_11ec_a8ec_ac1f6b871d7brow3_col0\" class=\"data row3 col0\" >0.505182</td>\n",
       "                        <td id=\"T_3771e536_30a3_11ec_a8ec_ac1f6b871d7brow3_col1\" class=\"data row3 col1\" >0.510843</td>\n",
       "                        <td id=\"T_3771e536_30a3_11ec_a8ec_ac1f6b871d7brow3_col2\" class=\"data row3 col2\" >0.494368</td>\n",
       "                        <td id=\"T_3771e536_30a3_11ec_a8ec_ac1f6b871d7brow3_col3\" class=\"data row3 col3\" >0.495637</td>\n",
       "                        <td id=\"T_3771e536_30a3_11ec_a8ec_ac1f6b871d7brow3_col4\" class=\"data row3 col4\" >0.514881</td>\n",
       "                        <td id=\"T_3771e536_30a3_11ec_a8ec_ac1f6b871d7brow3_col5\" class=\"data row3 col5\" >0.515989</td>\n",
       "                        <td id=\"T_3771e536_30a3_11ec_a8ec_ac1f6b871d7brow3_col6\" class=\"data row3 col6\" >0.481644</td>\n",
       "                        <td id=\"T_3771e536_30a3_11ec_a8ec_ac1f6b871d7brow3_col7\" class=\"data row3 col7\" >0.469378</td>\n",
       "                        <td id=\"T_3771e536_30a3_11ec_a8ec_ac1f6b871d7brow3_col8\" class=\"data row3 col8\" >0.481026</td>\n",
       "            </tr>\n",
       "            <tr>\n",
       "                        <th id=\"T_3771e536_30a3_11ec_a8ec_ac1f6b871d7blevel0_row4\" class=\"row_heading level0 row4\" >4</th>\n",
       "                        <td id=\"T_3771e536_30a3_11ec_a8ec_ac1f6b871d7brow4_col0\" class=\"data row4 col0\" >0.505583</td>\n",
       "                        <td id=\"T_3771e536_30a3_11ec_a8ec_ac1f6b871d7brow4_col1\" class=\"data row4 col1\" >0.510778</td>\n",
       "                        <td id=\"T_3771e536_30a3_11ec_a8ec_ac1f6b871d7brow4_col2\" class=\"data row4 col2\" >0.493619</td>\n",
       "                        <td id=\"T_3771e536_30a3_11ec_a8ec_ac1f6b871d7brow4_col3\" class=\"data row4 col3\" >0.495018</td>\n",
       "                        <td id=\"T_3771e536_30a3_11ec_a8ec_ac1f6b871d7brow4_col4\" class=\"data row4 col4\" >0.515195</td>\n",
       "                        <td id=\"T_3771e536_30a3_11ec_a8ec_ac1f6b871d7brow4_col5\" class=\"data row4 col5\" >0.516236</td>\n",
       "                        <td id=\"T_3771e536_30a3_11ec_a8ec_ac1f6b871d7brow4_col6\" class=\"data row4 col6\" >0.481980</td>\n",
       "                        <td id=\"T_3771e536_30a3_11ec_a8ec_ac1f6b871d7brow4_col7\" class=\"data row4 col7\" >0.468433</td>\n",
       "                        <td id=\"T_3771e536_30a3_11ec_a8ec_ac1f6b871d7brow4_col8\" class=\"data row4 col8\" >0.480836</td>\n",
       "            </tr>\n",
       "    </tbody></table>"
      ],
      "text/plain": [
       "<pandas.io.formats.style.Styler at 0x1259789fca0>"
      ]
     },
     "execution_count": 118,
     "metadata": {},
     "output_type": "execute_result"
    }
   ],
   "source": [
    "s,r,a,v = next(iter(train_iter))\n",
    "actions = model.actor_forward(s,r,eval=True)\n",
    "print(actions.shape)\n",
    "pd.DataFrame(actions[0].detach().numpy()).head().style.background_gradient()"
   ]
  },
  {
   "cell_type": "code",
   "execution_count": 119,
   "metadata": {},
   "outputs": [
    {
     "data": {
      "application/vnd.jupyter.widget-view+json": {
       "model_id": "a4f4b8910f6b409388f58ebe3c5cc0b0",
       "version_major": 2,
       "version_minor": 0
      },
      "text/plain": [
       "HBox(children=(HTML(value=''), FloatProgress(value=0.0), HTML(value='')))"
      ]
     },
     "metadata": {},
     "output_type": "display_data"
    },
    {
     "name": "stdout",
     "output_type": "stream",
     "text": [
      "epoch:0 critic_loss:0.7081844247877598\n",
      "epoch:10 critic_loss:0.16732210107147694\n",
      "epoch:20 critic_loss:0.15505659859627485\n",
      "epoch:30 critic_loss:0.14008885901421309\n",
      "epoch:40 critic_loss:0.12184087885543704\n",
      "epoch:50 critic_loss:0.1425082739442587\n",
      "epoch:60 critic_loss:0.1539016435854137\n",
      "epoch:70 critic_loss:0.12009873706847429\n",
      "epoch:80 critic_loss:0.13196248398162425\n",
      "epoch:90 critic_loss:0.11454021884128451\n",
      "\n"
     ]
    },
    {
     "data": {
      "application/vnd.jupyter.widget-view+json": {
       "model_id": "0202f821f157489299f302ae5c26f102",
       "version_major": 2,
       "version_minor": 0
      },
      "text/plain": [
       "HBox(children=(HTML(value=''), FloatProgress(value=0.0), HTML(value='')))"
      ]
     },
     "metadata": {},
     "output_type": "display_data"
    },
    {
     "name": "stdout",
     "output_type": "stream",
     "text": [
      "epoch:0 actor_loss:0.8301546648144722\n",
      "epoch:10 actor_loss:0.3993742261081934\n",
      "epoch:20 actor_loss:0.3218397740274668\n",
      "epoch:30 actor_loss:0.3005213961005211\n",
      "epoch:40 actor_loss:0.2975574266165495\n",
      "epoch:50 actor_loss:0.29477616399526596\n",
      "epoch:60 actor_loss:0.2950683645904064\n",
      "epoch:70 actor_loss:0.29090014286339283\n",
      "epoch:80 actor_loss:0.2898515872657299\n",
      "epoch:90 actor_loss:0.2914394214749336\n",
      "\n"
     ]
    }
   ],
   "source": [
    "model,train_history = train(model,train_iter,epochs=100)"
   ]
  },
  {
   "cell_type": "code",
   "execution_count": 120,
   "metadata": {},
   "outputs": [
    {
     "data": {
      "image/png": "[encoded data removed]",
      "text/plain": [
       "<Figure size 432x288 with 1 Axes>"
      ]
     },
     "metadata": {
      "needs_background": "light"
     },
     "output_type": "display_data"
    },
    {
     "data": {
      "text/plain": [
       "[<matplotlib.lines.Line2D at 0x125987f3a60>]"
      ]
     },
     "execution_count": 120,
     "metadata": {},
     "output_type": "execute_result"
    },
    {
     "data": {
      "image/png": "[encoded data removed]",
      "text/plain": [
       "<Figure size 432x288 with 1 Axes>"
      ]
     },
     "metadata": {
      "needs_background": "light"
     },
     "output_type": "display_data"
    }
   ],
   "source": [
    "import matplotlib.pyplot as plt\n",
    "\n",
    "plt.plot(train_history['critic'])\n",
    "plt.show()\n",
    "plt.plot(train_history['actor'])"
   ]
  },
  {
   "cell_type": "code",
   "execution_count": 121,
   "metadata": {},
   "outputs": [],
   "source": [
    "s,r,a,v = next(iter(train_iter))\n",
    "actions = model.actor_forward(s,r,eval=True)"
   ]
  },
  {
   "cell_type": "code",
   "execution_count": 122,
   "metadata": {},
   "outputs": [
    {
     "data": {
      "text/html": [
       "<style  type=\"text/css\" >\n",
       "#T_c4a96b6f_30a4_11ec_8720_ac1f6b871d7brow0_col0,#T_c4a96b6f_30a4_11ec_8720_ac1f6b871d7brow0_col7,#T_c4a96b6f_30a4_11ec_8720_ac1f6b871d7brow1_col1,#T_c4a96b6f_30a4_11ec_8720_ac1f6b871d7brow1_col4,#T_c4a96b6f_30a4_11ec_8720_ac1f6b871d7brow1_col8,#T_c4a96b6f_30a4_11ec_8720_ac1f6b871d7brow2_col5,#T_c4a96b6f_30a4_11ec_8720_ac1f6b871d7brow3_col2,#T_c4a96b6f_30a4_11ec_8720_ac1f6b871d7brow3_col3,#T_c4a96b6f_30a4_11ec_8720_ac1f6b871d7brow3_col6{\n",
       "            background-color:  #fff7fb;\n",
       "            color:  #000000;\n",
       "        }#T_c4a96b6f_30a4_11ec_8720_ac1f6b871d7brow0_col1{\n",
       "            background-color:  #a8bedc;\n",
       "            color:  #000000;\n",
       "        }#T_c4a96b6f_30a4_11ec_8720_ac1f6b871d7brow0_col2,#T_c4a96b6f_30a4_11ec_8720_ac1f6b871d7brow0_col3,#T_c4a96b6f_30a4_11ec_8720_ac1f6b871d7brow0_col4,#T_c4a96b6f_30a4_11ec_8720_ac1f6b871d7brow0_col5,#T_c4a96b6f_30a4_11ec_8720_ac1f6b871d7brow0_col6,#T_c4a96b6f_30a4_11ec_8720_ac1f6b871d7brow0_col8,#T_c4a96b6f_30a4_11ec_8720_ac1f6b871d7brow3_col0,#T_c4a96b6f_30a4_11ec_8720_ac1f6b871d7brow4_col1,#T_c4a96b6f_30a4_11ec_8720_ac1f6b871d7brow4_col7{\n",
       "            background-color:  #023858;\n",
       "            color:  #f1f1f1;\n",
       "        }#T_c4a96b6f_30a4_11ec_8720_ac1f6b871d7brow1_col0{\n",
       "            background-color:  #056faf;\n",
       "            color:  #f1f1f1;\n",
       "        }#T_c4a96b6f_30a4_11ec_8720_ac1f6b871d7brow1_col2,#T_c4a96b6f_30a4_11ec_8720_ac1f6b871d7brow3_col4{\n",
       "            background-color:  #e7e3f0;\n",
       "            color:  #000000;\n",
       "        }#T_c4a96b6f_30a4_11ec_8720_ac1f6b871d7brow1_col3{\n",
       "            background-color:  #dcdaeb;\n",
       "            color:  #000000;\n",
       "        }#T_c4a96b6f_30a4_11ec_8720_ac1f6b871d7brow1_col5{\n",
       "            background-color:  #f3edf5;\n",
       "            color:  #000000;\n",
       "        }#T_c4a96b6f_30a4_11ec_8720_ac1f6b871d7brow1_col6{\n",
       "            background-color:  #ece7f2;\n",
       "            color:  #000000;\n",
       "        }#T_c4a96b6f_30a4_11ec_8720_ac1f6b871d7brow1_col7{\n",
       "            background-color:  #045a8d;\n",
       "            color:  #f1f1f1;\n",
       "        }#T_c4a96b6f_30a4_11ec_8720_ac1f6b871d7brow2_col0,#T_c4a96b6f_30a4_11ec_8720_ac1f6b871d7brow4_col0{\n",
       "            background-color:  #034369;\n",
       "            color:  #f1f1f1;\n",
       "        }#T_c4a96b6f_30a4_11ec_8720_ac1f6b871d7brow2_col1{\n",
       "            background-color:  #549cc7;\n",
       "            color:  #000000;\n",
       "        }#T_c4a96b6f_30a4_11ec_8720_ac1f6b871d7brow2_col2{\n",
       "            background-color:  #f7f0f7;\n",
       "            color:  #000000;\n",
       "        }#T_c4a96b6f_30a4_11ec_8720_ac1f6b871d7brow2_col3{\n",
       "            background-color:  #f6eff7;\n",
       "            color:  #000000;\n",
       "        }#T_c4a96b6f_30a4_11ec_8720_ac1f6b871d7brow2_col4{\n",
       "            background-color:  #e9e5f1;\n",
       "            color:  #000000;\n",
       "        }#T_c4a96b6f_30a4_11ec_8720_ac1f6b871d7brow2_col6,#T_c4a96b6f_30a4_11ec_8720_ac1f6b871d7brow3_col8,#T_c4a96b6f_30a4_11ec_8720_ac1f6b871d7brow4_col6,#T_c4a96b6f_30a4_11ec_8720_ac1f6b871d7brow4_col8{\n",
       "            background-color:  #fbf3f9;\n",
       "            color:  #000000;\n",
       "        }#T_c4a96b6f_30a4_11ec_8720_ac1f6b871d7brow2_col7{\n",
       "            background-color:  #034165;\n",
       "            color:  #f1f1f1;\n",
       "        }#T_c4a96b6f_30a4_11ec_8720_ac1f6b871d7brow2_col8{\n",
       "            background-color:  #f5eff6;\n",
       "            color:  #000000;\n",
       "        }#T_c4a96b6f_30a4_11ec_8720_ac1f6b871d7brow3_col1{\n",
       "            background-color:  #045e94;\n",
       "            color:  #f1f1f1;\n",
       "        }#T_c4a96b6f_30a4_11ec_8720_ac1f6b871d7brow3_col5{\n",
       "            background-color:  #fdf5fa;\n",
       "            color:  #000000;\n",
       "        }#T_c4a96b6f_30a4_11ec_8720_ac1f6b871d7brow3_col7{\n",
       "            background-color:  #023a5b;\n",
       "            color:  #f1f1f1;\n",
       "        }#T_c4a96b6f_30a4_11ec_8720_ac1f6b871d7brow4_col2,#T_c4a96b6f_30a4_11ec_8720_ac1f6b871d7brow4_col3{\n",
       "            background-color:  #fef6fa;\n",
       "            color:  #000000;\n",
       "        }#T_c4a96b6f_30a4_11ec_8720_ac1f6b871d7brow4_col4{\n",
       "            background-color:  #e6e2ef;\n",
       "            color:  #000000;\n",
       "        }#T_c4a96b6f_30a4_11ec_8720_ac1f6b871d7brow4_col5{\n",
       "            background-color:  #f5eef6;\n",
       "            color:  #000000;\n",
       "        }</style><table id=\"T_c4a96b6f_30a4_11ec_8720_ac1f6b871d7b\" ><thead>    <tr>        <th class=\"blank level0\" ></th>        <th class=\"col_heading level0 col0\" >0</th>        <th class=\"col_heading level0 col1\" >1</th>        <th class=\"col_heading level0 col2\" >2</th>        <th class=\"col_heading level0 col3\" >3</th>        <th class=\"col_heading level0 col4\" >4</th>        <th class=\"col_heading level0 col5\" >5</th>        <th class=\"col_heading level0 col6\" >6</th>        <th class=\"col_heading level0 col7\" >7</th>        <th class=\"col_heading level0 col8\" >8</th>    </tr></thead><tbody>\n",
       "                <tr>\n",
       "                        <th id=\"T_c4a96b6f_30a4_11ec_8720_ac1f6b871d7blevel0_row0\" class=\"row_heading level0 row0\" >0</th>\n",
       "                        <td id=\"T_c4a96b6f_30a4_11ec_8720_ac1f6b871d7brow0_col0\" class=\"data row0 col0\" >0.000842</td>\n",
       "                        <td id=\"T_c4a96b6f_30a4_11ec_8720_ac1f6b871d7brow0_col1\" class=\"data row0 col1\" >0.811760</td>\n",
       "                        <td id=\"T_c4a96b6f_30a4_11ec_8720_ac1f6b871d7brow0_col2\" class=\"data row0 col2\" >0.998084</td>\n",
       "                        <td id=\"T_c4a96b6f_30a4_11ec_8720_ac1f6b871d7brow0_col3\" class=\"data row0 col3\" >0.790677</td>\n",
       "                        <td id=\"T_c4a96b6f_30a4_11ec_8720_ac1f6b871d7brow0_col4\" class=\"data row0 col4\" >0.984352</td>\n",
       "                        <td id=\"T_c4a96b6f_30a4_11ec_8720_ac1f6b871d7brow0_col5\" class=\"data row0 col5\" >0.998889</td>\n",
       "                        <td id=\"T_c4a96b6f_30a4_11ec_8720_ac1f6b871d7brow0_col6\" class=\"data row0 col6\" >0.996960</td>\n",
       "                        <td id=\"T_c4a96b6f_30a4_11ec_8720_ac1f6b871d7brow0_col7\" class=\"data row0 col7\" >0.216345</td>\n",
       "                        <td id=\"T_c4a96b6f_30a4_11ec_8720_ac1f6b871d7brow0_col8\" class=\"data row0 col8\" >0.996242</td>\n",
       "            </tr>\n",
       "            <tr>\n",
       "                        <th id=\"T_c4a96b6f_30a4_11ec_8720_ac1f6b871d7blevel0_row1\" class=\"row_heading level0 row1\" >1</th>\n",
       "                        <td id=\"T_c4a96b6f_30a4_11ec_8720_ac1f6b871d7brow1_col0\" class=\"data row1 col0\" >0.000848</td>\n",
       "                        <td id=\"T_c4a96b6f_30a4_11ec_8720_ac1f6b871d7brow1_col1\" class=\"data row1 col1\" >0.811731</td>\n",
       "                        <td id=\"T_c4a96b6f_30a4_11ec_8720_ac1f6b871d7brow1_col2\" class=\"data row1 col2\" >0.998065</td>\n",
       "                        <td id=\"T_c4a96b6f_30a4_11ec_8720_ac1f6b871d7brow1_col3\" class=\"data row1 col3\" >0.790533</td>\n",
       "                        <td id=\"T_c4a96b6f_30a4_11ec_8720_ac1f6b871d7brow1_col4\" class=\"data row1 col4\" >0.984282</td>\n",
       "                        <td id=\"T_c4a96b6f_30a4_11ec_8720_ac1f6b871d7brow1_col5\" class=\"data row1 col5\" >0.998881</td>\n",
       "                        <td id=\"T_c4a96b6f_30a4_11ec_8720_ac1f6b871d7brow1_col6\" class=\"data row1 col6\" >0.996943</td>\n",
       "                        <td id=\"T_c4a96b6f_30a4_11ec_8720_ac1f6b871d7brow1_col7\" class=\"data row1 col7\" >0.217017</td>\n",
       "                        <td id=\"T_c4a96b6f_30a4_11ec_8720_ac1f6b871d7brow1_col8\" class=\"data row1 col8\" >0.996225</td>\n",
       "            </tr>\n",
       "            <tr>\n",
       "                        <th id=\"T_c4a96b6f_30a4_11ec_8720_ac1f6b871d7blevel0_row2\" class=\"row_heading level0 row2\" >2</th>\n",
       "                        <td id=\"T_c4a96b6f_30a4_11ec_8720_ac1f6b871d7brow2_col0\" class=\"data row2 col0\" >0.000850</td>\n",
       "                        <td id=\"T_c4a96b6f_30a4_11ec_8720_ac1f6b871d7brow2_col1\" class=\"data row2 col1\" >0.811775</td>\n",
       "                        <td id=\"T_c4a96b6f_30a4_11ec_8720_ac1f6b871d7brow2_col2\" class=\"data row2 col2\" >0.998063</td>\n",
       "                        <td id=\"T_c4a96b6f_30a4_11ec_8720_ac1f6b871d7brow2_col3\" class=\"data row2 col3\" >0.790508</td>\n",
       "                        <td id=\"T_c4a96b6f_30a4_11ec_8720_ac1f6b871d7brow2_col4\" class=\"data row2 col4\" >0.984292</td>\n",
       "                        <td id=\"T_c4a96b6f_30a4_11ec_8720_ac1f6b871d7brow2_col5\" class=\"data row2 col5\" >0.998880</td>\n",
       "                        <td id=\"T_c4a96b6f_30a4_11ec_8720_ac1f6b871d7brow2_col6\" class=\"data row2 col6\" >0.996942</td>\n",
       "                        <td id=\"T_c4a96b6f_30a4_11ec_8720_ac1f6b871d7brow2_col7\" class=\"data row2 col7\" >0.217090</td>\n",
       "                        <td id=\"T_c4a96b6f_30a4_11ec_8720_ac1f6b871d7brow2_col8\" class=\"data row2 col8\" >0.996226</td>\n",
       "            </tr>\n",
       "            <tr>\n",
       "                        <th id=\"T_c4a96b6f_30a4_11ec_8720_ac1f6b871d7blevel0_row3\" class=\"row_heading level0 row3\" >3</th>\n",
       "                        <td id=\"T_c4a96b6f_30a4_11ec_8720_ac1f6b871d7brow3_col0\" class=\"data row3 col0\" >0.000850</td>\n",
       "                        <td id=\"T_c4a96b6f_30a4_11ec_8720_ac1f6b871d7brow3_col1\" class=\"data row3 col1\" >0.811797</td>\n",
       "                        <td id=\"T_c4a96b6f_30a4_11ec_8720_ac1f6b871d7brow3_col2\" class=\"data row3 col2\" >0.998062</td>\n",
       "                        <td id=\"T_c4a96b6f_30a4_11ec_8720_ac1f6b871d7brow3_col3\" class=\"data row3 col3\" >0.790497</td>\n",
       "                        <td id=\"T_c4a96b6f_30a4_11ec_8720_ac1f6b871d7brow3_col4\" class=\"data row3 col4\" >0.984293</td>\n",
       "                        <td id=\"T_c4a96b6f_30a4_11ec_8720_ac1f6b871d7brow3_col5\" class=\"data row3 col5\" >0.998880</td>\n",
       "                        <td id=\"T_c4a96b6f_30a4_11ec_8720_ac1f6b871d7brow3_col6\" class=\"data row3 col6\" >0.996941</td>\n",
       "                        <td id=\"T_c4a96b6f_30a4_11ec_8720_ac1f6b871d7brow3_col7\" class=\"data row3 col7\" >0.217108</td>\n",
       "                        <td id=\"T_c4a96b6f_30a4_11ec_8720_ac1f6b871d7brow3_col8\" class=\"data row3 col8\" >0.996225</td>\n",
       "            </tr>\n",
       "            <tr>\n",
       "                        <th id=\"T_c4a96b6f_30a4_11ec_8720_ac1f6b871d7blevel0_row4\" class=\"row_heading level0 row4\" >4</th>\n",
       "                        <td id=\"T_c4a96b6f_30a4_11ec_8720_ac1f6b871d7brow4_col0\" class=\"data row4 col0\" >0.000850</td>\n",
       "                        <td id=\"T_c4a96b6f_30a4_11ec_8720_ac1f6b871d7brow4_col1\" class=\"data row4 col1\" >0.811808</td>\n",
       "                        <td id=\"T_c4a96b6f_30a4_11ec_8720_ac1f6b871d7brow4_col2\" class=\"data row4 col2\" >0.998062</td>\n",
       "                        <td id=\"T_c4a96b6f_30a4_11ec_8720_ac1f6b871d7brow4_col3\" class=\"data row4 col3\" >0.790499</td>\n",
       "                        <td id=\"T_c4a96b6f_30a4_11ec_8720_ac1f6b871d7brow4_col4\" class=\"data row4 col4\" >0.984293</td>\n",
       "                        <td id=\"T_c4a96b6f_30a4_11ec_8720_ac1f6b871d7brow4_col5\" class=\"data row4 col5\" >0.998881</td>\n",
       "                        <td id=\"T_c4a96b6f_30a4_11ec_8720_ac1f6b871d7brow4_col6\" class=\"data row4 col6\" >0.996942</td>\n",
       "                        <td id=\"T_c4a96b6f_30a4_11ec_8720_ac1f6b871d7brow4_col7\" class=\"data row4 col7\" >0.217116</td>\n",
       "                        <td id=\"T_c4a96b6f_30a4_11ec_8720_ac1f6b871d7brow4_col8\" class=\"data row4 col8\" >0.996225</td>\n",
       "            </tr>\n",
       "    </tbody></table>"
      ],
      "text/plain": [
       "<pandas.io.formats.style.Styler at 0x1259cd0cac0>"
      ]
     },
     "execution_count": 122,
     "metadata": {},
     "output_type": "execute_result"
    }
   ],
   "source": [
    "pd.DataFrame(actions[0].detach().numpy()).head().style.background_gradient()"
   ]
  },
  {
   "cell_type": "code",
   "execution_count": 123,
   "metadata": {},
   "outputs": [
    {
     "data": {
      "text/plain": [
       "tensor([[0.8646, 0.7291]], grad_fn=<SliceBackward>)"
      ]
     },
     "execution_count": 123,
     "metadata": {},
     "output_type": "execute_result"
    }
   ],
   "source": [
    "values = model.critic_forward(s[[0]],actions[[0]],eval=True)\n",
    "values"
   ]
  },
  {
   "cell_type": "markdown",
   "metadata": {},
   "source": [
    "# 令廠商想要控制某種產出率為0.88,其中state(s)不可控,則用法為"
   ]
  },
  {
   "cell_type": "code",
   "execution_count": 139,
   "metadata": {},
   "outputs": [],
   "source": [
    "wanna_ouput = 0.88\n",
    "s,r,a,v = next(iter(train_iter))\n",
    "s = s[0].reshape(-1,time_step,state_size)\n",
    "r = torch.full((1,request_size),wanna_ouput)\n",
    "a = model.actor_forward(s,r,eval=True)\n",
    "v = model.critic_forward(s,a,eval=True)"
   ]
  },
  {
   "cell_type": "code",
   "execution_count": 140,
   "metadata": {},
   "outputs": [
    {
     "data": {
      "text/html": [
       "<style  type=\"text/css\" >\n",
       "#T_e183e90f_30a4_11ec_88ee_ac1f6b871d7brow0_col0,#T_e183e90f_30a4_11ec_88ee_ac1f6b871d7brow0_col7,#T_e183e90f_30a4_11ec_88ee_ac1f6b871d7brow1_col1,#T_e183e90f_30a4_11ec_88ee_ac1f6b871d7brow1_col4,#T_e183e90f_30a4_11ec_88ee_ac1f6b871d7brow1_col8,#T_e183e90f_30a4_11ec_88ee_ac1f6b871d7brow2_col5,#T_e183e90f_30a4_11ec_88ee_ac1f6b871d7brow3_col2,#T_e183e90f_30a4_11ec_88ee_ac1f6b871d7brow3_col3,#T_e183e90f_30a4_11ec_88ee_ac1f6b871d7brow3_col6{\n",
       "            background-color:  #fff7fb;\n",
       "            color:  #000000;\n",
       "        }#T_e183e90f_30a4_11ec_88ee_ac1f6b871d7brow0_col1,#T_e183e90f_30a4_11ec_88ee_ac1f6b871d7brow0_col2,#T_e183e90f_30a4_11ec_88ee_ac1f6b871d7brow0_col3,#T_e183e90f_30a4_11ec_88ee_ac1f6b871d7brow0_col4,#T_e183e90f_30a4_11ec_88ee_ac1f6b871d7brow0_col5,#T_e183e90f_30a4_11ec_88ee_ac1f6b871d7brow0_col6,#T_e183e90f_30a4_11ec_88ee_ac1f6b871d7brow0_col8,#T_e183e90f_30a4_11ec_88ee_ac1f6b871d7brow3_col0,#T_e183e90f_30a4_11ec_88ee_ac1f6b871d7brow4_col7{\n",
       "            background-color:  #023858;\n",
       "            color:  #f1f1f1;\n",
       "        }#T_e183e90f_30a4_11ec_88ee_ac1f6b871d7brow1_col0{\n",
       "            background-color:  #157ab5;\n",
       "            color:  #000000;\n",
       "        }#T_e183e90f_30a4_11ec_88ee_ac1f6b871d7brow1_col2{\n",
       "            background-color:  #e2dfee;\n",
       "            color:  #000000;\n",
       "        }#T_e183e90f_30a4_11ec_88ee_ac1f6b871d7brow1_col3{\n",
       "            background-color:  #e7e3f0;\n",
       "            color:  #000000;\n",
       "        }#T_e183e90f_30a4_11ec_88ee_ac1f6b871d7brow1_col5{\n",
       "            background-color:  #f1ebf5;\n",
       "            color:  #000000;\n",
       "        }#T_e183e90f_30a4_11ec_88ee_ac1f6b871d7brow1_col6{\n",
       "            background-color:  #f0eaf4;\n",
       "            color:  #000000;\n",
       "        }#T_e183e90f_30a4_11ec_88ee_ac1f6b871d7brow1_col7{\n",
       "            background-color:  #045e94;\n",
       "            color:  #f1f1f1;\n",
       "        }#T_e183e90f_30a4_11ec_88ee_ac1f6b871d7brow2_col0,#T_e183e90f_30a4_11ec_88ee_ac1f6b871d7brow2_col7,#T_e183e90f_30a4_11ec_88ee_ac1f6b871d7brow4_col0{\n",
       "            background-color:  #034369;\n",
       "            color:  #f1f1f1;\n",
       "        }#T_e183e90f_30a4_11ec_88ee_ac1f6b871d7brow2_col1{\n",
       "            background-color:  #bcc7e1;\n",
       "            color:  #000000;\n",
       "        }#T_e183e90f_30a4_11ec_88ee_ac1f6b871d7brow2_col2,#T_e183e90f_30a4_11ec_88ee_ac1f6b871d7brow2_col4{\n",
       "            background-color:  #f8f1f8;\n",
       "            color:  #000000;\n",
       "        }#T_e183e90f_30a4_11ec_88ee_ac1f6b871d7brow2_col3,#T_e183e90f_30a4_11ec_88ee_ac1f6b871d7brow2_col6{\n",
       "            background-color:  #fdf5fa;\n",
       "            color:  #000000;\n",
       "        }#T_e183e90f_30a4_11ec_88ee_ac1f6b871d7brow2_col8{\n",
       "            background-color:  #e8e4f0;\n",
       "            color:  #000000;\n",
       "        }#T_e183e90f_30a4_11ec_88ee_ac1f6b871d7brow3_col1{\n",
       "            background-color:  #93b5d6;\n",
       "            color:  #000000;\n",
       "        }#T_e183e90f_30a4_11ec_88ee_ac1f6b871d7brow3_col4{\n",
       "            background-color:  #faf3f9;\n",
       "            color:  #000000;\n",
       "        }#T_e183e90f_30a4_11ec_88ee_ac1f6b871d7brow3_col5{\n",
       "            background-color:  #f6eff7;\n",
       "            color:  #000000;\n",
       "        }#T_e183e90f_30a4_11ec_88ee_ac1f6b871d7brow3_col7{\n",
       "            background-color:  #023b5d;\n",
       "            color:  #f1f1f1;\n",
       "        }#T_e183e90f_30a4_11ec_88ee_ac1f6b871d7brow3_col8,#T_e183e90f_30a4_11ec_88ee_ac1f6b871d7brow4_col8{\n",
       "            background-color:  #ede7f2;\n",
       "            color:  #000000;\n",
       "        }#T_e183e90f_30a4_11ec_88ee_ac1f6b871d7brow4_col1{\n",
       "            background-color:  #6ba5cd;\n",
       "            color:  #000000;\n",
       "        }#T_e183e90f_30a4_11ec_88ee_ac1f6b871d7brow4_col2,#T_e183e90f_30a4_11ec_88ee_ac1f6b871d7brow4_col4{\n",
       "            background-color:  #fbf4f9;\n",
       "            color:  #000000;\n",
       "        }#T_e183e90f_30a4_11ec_88ee_ac1f6b871d7brow4_col3{\n",
       "            background-color:  #faf2f8;\n",
       "            color:  #000000;\n",
       "        }#T_e183e90f_30a4_11ec_88ee_ac1f6b871d7brow4_col5{\n",
       "            background-color:  #e9e5f1;\n",
       "            color:  #000000;\n",
       "        }#T_e183e90f_30a4_11ec_88ee_ac1f6b871d7brow4_col6{\n",
       "            background-color:  #f9f2f8;\n",
       "            color:  #000000;\n",
       "        }</style><table id=\"T_e183e90f_30a4_11ec_88ee_ac1f6b871d7b\" ><thead>    <tr>        <th class=\"blank level0\" ></th>        <th class=\"col_heading level0 col0\" >0</th>        <th class=\"col_heading level0 col1\" >1</th>        <th class=\"col_heading level0 col2\" >2</th>        <th class=\"col_heading level0 col3\" >3</th>        <th class=\"col_heading level0 col4\" >4</th>        <th class=\"col_heading level0 col5\" >5</th>        <th class=\"col_heading level0 col6\" >6</th>        <th class=\"col_heading level0 col7\" >7</th>        <th class=\"col_heading level0 col8\" >8</th>    </tr></thead><tbody>\n",
       "                <tr>\n",
       "                        <th id=\"T_e183e90f_30a4_11ec_88ee_ac1f6b871d7blevel0_row0\" class=\"row_heading level0 row0\" >0</th>\n",
       "                        <td id=\"T_e183e90f_30a4_11ec_88ee_ac1f6b871d7brow0_col0\" class=\"data row0 col0\" >0.000779</td>\n",
       "                        <td id=\"T_e183e90f_30a4_11ec_88ee_ac1f6b871d7brow0_col1\" class=\"data row0 col1\" >0.813829</td>\n",
       "                        <td id=\"T_e183e90f_30a4_11ec_88ee_ac1f6b871d7brow0_col2\" class=\"data row0 col2\" >0.998219</td>\n",
       "                        <td id=\"T_e183e90f_30a4_11ec_88ee_ac1f6b871d7brow0_col3\" class=\"data row0 col3\" >0.790756</td>\n",
       "                        <td id=\"T_e183e90f_30a4_11ec_88ee_ac1f6b871d7brow0_col4\" class=\"data row0 col4\" >0.985082</td>\n",
       "                        <td id=\"T_e183e90f_30a4_11ec_88ee_ac1f6b871d7brow0_col5\" class=\"data row0 col5\" >0.998975</td>\n",
       "                        <td id=\"T_e183e90f_30a4_11ec_88ee_ac1f6b871d7brow0_col6\" class=\"data row0 col6\" >0.997153</td>\n",
       "                        <td id=\"T_e183e90f_30a4_11ec_88ee_ac1f6b871d7brow0_col7\" class=\"data row0 col7\" >0.215841</td>\n",
       "                        <td id=\"T_e183e90f_30a4_11ec_88ee_ac1f6b871d7brow0_col8\" class=\"data row0 col8\" >0.996454</td>\n",
       "            </tr>\n",
       "            <tr>\n",
       "                        <th id=\"T_e183e90f_30a4_11ec_88ee_ac1f6b871d7blevel0_row1\" class=\"row_heading level0 row1\" >1</th>\n",
       "                        <td id=\"T_e183e90f_30a4_11ec_88ee_ac1f6b871d7brow1_col0\" class=\"data row1 col0\" >0.000783</td>\n",
       "                        <td id=\"T_e183e90f_30a4_11ec_88ee_ac1f6b871d7brow1_col1\" class=\"data row1 col1\" >0.813747</td>\n",
       "                        <td id=\"T_e183e90f_30a4_11ec_88ee_ac1f6b871d7brow1_col2\" class=\"data row1 col2\" >0.998205</td>\n",
       "                        <td id=\"T_e183e90f_30a4_11ec_88ee_ac1f6b871d7brow1_col3\" class=\"data row1 col3\" >0.790636</td>\n",
       "                        <td id=\"T_e183e90f_30a4_11ec_88ee_ac1f6b871d7brow1_col4\" class=\"data row1 col4\" >0.985010</td>\n",
       "                        <td id=\"T_e183e90f_30a4_11ec_88ee_ac1f6b871d7brow1_col5\" class=\"data row1 col5\" >0.998968</td>\n",
       "                        <td id=\"T_e183e90f_30a4_11ec_88ee_ac1f6b871d7brow1_col6\" class=\"data row1 col6\" >0.997137</td>\n",
       "                        <td id=\"T_e183e90f_30a4_11ec_88ee_ac1f6b871d7brow1_col7\" class=\"data row1 col7\" >0.216520</td>\n",
       "                        <td id=\"T_e183e90f_30a4_11ec_88ee_ac1f6b871d7brow1_col8\" class=\"data row1 col8\" >0.996442</td>\n",
       "            </tr>\n",
       "            <tr>\n",
       "                        <th id=\"T_e183e90f_30a4_11ec_88ee_ac1f6b871d7blevel0_row2\" class=\"row_heading level0 row2\" >2</th>\n",
       "                        <td id=\"T_e183e90f_30a4_11ec_88ee_ac1f6b871d7brow2_col0\" class=\"data row2 col0\" >0.000785</td>\n",
       "                        <td id=\"T_e183e90f_30a4_11ec_88ee_ac1f6b871d7brow2_col1\" class=\"data row2 col1\" >0.813772</td>\n",
       "                        <td id=\"T_e183e90f_30a4_11ec_88ee_ac1f6b871d7brow2_col2\" class=\"data row2 col2\" >0.998203</td>\n",
       "                        <td id=\"T_e183e90f_30a4_11ec_88ee_ac1f6b871d7brow2_col3\" class=\"data row2 col3\" >0.790617</td>\n",
       "                        <td id=\"T_e183e90f_30a4_11ec_88ee_ac1f6b871d7brow2_col4\" class=\"data row2 col4\" >0.985013</td>\n",
       "                        <td id=\"T_e183e90f_30a4_11ec_88ee_ac1f6b871d7brow2_col5\" class=\"data row2 col5\" >0.998967</td>\n",
       "                        <td id=\"T_e183e90f_30a4_11ec_88ee_ac1f6b871d7brow2_col6\" class=\"data row2 col6\" >0.997135</td>\n",
       "                        <td id=\"T_e183e90f_30a4_11ec_88ee_ac1f6b871d7brow2_col7\" class=\"data row2 col7\" >0.216608</td>\n",
       "                        <td id=\"T_e183e90f_30a4_11ec_88ee_ac1f6b871d7brow2_col8\" class=\"data row2 col8\" >0.996444</td>\n",
       "            </tr>\n",
       "            <tr>\n",
       "                        <th id=\"T_e183e90f_30a4_11ec_88ee_ac1f6b871d7blevel0_row3\" class=\"row_heading level0 row3\" >3</th>\n",
       "                        <td id=\"T_e183e90f_30a4_11ec_88ee_ac1f6b871d7brow3_col0\" class=\"data row3 col0\" >0.000786</td>\n",
       "                        <td id=\"T_e183e90f_30a4_11ec_88ee_ac1f6b871d7brow3_col1\" class=\"data row3 col1\" >0.813782</td>\n",
       "                        <td id=\"T_e183e90f_30a4_11ec_88ee_ac1f6b871d7brow3_col2\" class=\"data row3 col2\" >0.998202</td>\n",
       "                        <td id=\"T_e183e90f_30a4_11ec_88ee_ac1f6b871d7brow3_col3\" class=\"data row3 col3\" >0.790615</td>\n",
       "                        <td id=\"T_e183e90f_30a4_11ec_88ee_ac1f6b871d7brow3_col4\" class=\"data row3 col4\" >0.985012</td>\n",
       "                        <td id=\"T_e183e90f_30a4_11ec_88ee_ac1f6b871d7brow3_col5\" class=\"data row3 col5\" >0.998968</td>\n",
       "                        <td id=\"T_e183e90f_30a4_11ec_88ee_ac1f6b871d7brow3_col6\" class=\"data row3 col6\" >0.997135</td>\n",
       "                        <td id=\"T_e183e90f_30a4_11ec_88ee_ac1f6b871d7brow3_col7\" class=\"data row3 col7\" >0.216630</td>\n",
       "                        <td id=\"T_e183e90f_30a4_11ec_88ee_ac1f6b871d7brow3_col8\" class=\"data row3 col8\" >0.996443</td>\n",
       "            </tr>\n",
       "            <tr>\n",
       "                        <th id=\"T_e183e90f_30a4_11ec_88ee_ac1f6b871d7blevel0_row4\" class=\"row_heading level0 row4\" >4</th>\n",
       "                        <td id=\"T_e183e90f_30a4_11ec_88ee_ac1f6b871d7brow4_col0\" class=\"data row4 col0\" >0.000785</td>\n",
       "                        <td id=\"T_e183e90f_30a4_11ec_88ee_ac1f6b871d7brow4_col1\" class=\"data row4 col1\" >0.813789</td>\n",
       "                        <td id=\"T_e183e90f_30a4_11ec_88ee_ac1f6b871d7brow4_col2\" class=\"data row4 col2\" >0.998202</td>\n",
       "                        <td id=\"T_e183e90f_30a4_11ec_88ee_ac1f6b871d7brow4_col3\" class=\"data row4 col3\" >0.790620</td>\n",
       "                        <td id=\"T_e183e90f_30a4_11ec_88ee_ac1f6b871d7brow4_col4\" class=\"data row4 col4\" >0.985012</td>\n",
       "                        <td id=\"T_e183e90f_30a4_11ec_88ee_ac1f6b871d7brow4_col5\" class=\"data row4 col5\" >0.998968</td>\n",
       "                        <td id=\"T_e183e90f_30a4_11ec_88ee_ac1f6b871d7brow4_col6\" class=\"data row4 col6\" >0.997136</td>\n",
       "                        <td id=\"T_e183e90f_30a4_11ec_88ee_ac1f6b871d7brow4_col7\" class=\"data row4 col7\" >0.216640</td>\n",
       "                        <td id=\"T_e183e90f_30a4_11ec_88ee_ac1f6b871d7brow4_col8\" class=\"data row4 col8\" >0.996443</td>\n",
       "            </tr>\n",
       "    </tbody></table>"
      ],
      "text/plain": [
       "<pandas.io.formats.style.Styler at 0x1259cd0bd30>"
      ]
     },
     "execution_count": 140,
     "metadata": {},
     "output_type": "execute_result"
    }
   ],
   "source": [
    "# 模型建議操作\n",
    "pd.DataFrame(a[0].detach().numpy()).head().style.background_gradient()"
   ]
  },
  {
   "cell_type": "code",
   "execution_count": 141,
   "metadata": {},
   "outputs": [
    {
     "name": "stdout",
     "output_type": "stream",
     "text": [
      "value:0.8802966475486755\n",
      "\n"
     ]
    }
   ],
   "source": [
    "# 模型預測根據上述操作應當的產出\n",
    "print(f'value:{v.detach().numpy()[0][0]}\\n')"
   ]
  },
  {
   "cell_type": "code",
   "execution_count": 143,
   "metadata": {},
   "outputs": [],
   "source": [
    "# save weight\n",
    "torch.save(model.actor.state_dict(),'../model/actor.pth')\n",
    "torch.save(model.critic.state_dict(),'../model/critic.pth')"
   ]
  },
  {
   "cell_type": "code",
   "execution_count": null,
   "metadata": {},
   "outputs": [],
   "source": []
  }
 ],
 "metadata": {
  "interpreter": {
   "hash": "2ccee5cc862501c1aad1cf19888c2a2eca4026b72d187db43d5e889cbdc6ee97"
  },
  "kernelspec": {
   "display_name": "Python 3.8.5 64-bit ('base': conda)",
   "name": "python3"
  },
  "language_info": {
   "codemirror_mode": {
    "name": "ipython",
    "version": 3
   },
   "file_extension": ".py",
   "mimetype": "text/x-python",
   "name": "python",
   "nbconvert_exporter": "python",
   "pygments_lexer": "ipython3",
   "version": "3.8.5"
  },
  "orig_nbformat": 4
 },
 "nbformat": 4,
 "nbformat_minor": 2
}
