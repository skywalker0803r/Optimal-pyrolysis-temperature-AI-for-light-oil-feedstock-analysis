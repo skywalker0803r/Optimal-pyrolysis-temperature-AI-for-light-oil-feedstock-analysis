{
 "cells": [
  {
   "cell_type": "code",
   "execution_count": 4,
   "metadata": {},
   "outputs": [
    {
     "name": "stderr",
     "output_type": "stream",
     "text": [
      "Global seed set to 42\n"
     ]
    }
   ],
   "source": [
    "\n",
    "import torch\n",
    "import torch.nn as nn\n",
    "import numpy as np\n",
    "from torch.optim import Adam\n",
    "import pandas as pd\n",
    "from torch.utils.data import TensorDataset,DataLoader\n",
    "import joblib\n",
    "import requests\n",
    "from tqdm import tqdm_notebook as tqdm\n",
    "from pytorch_lightning import seed_everything\n",
    "import random\n",
    "import warnings \n",
    "import matplotlib.pyplot as plt\n",
    "import seaborn as sns\n",
    "warnings.filterwarnings('ignore')\n",
    "exec(requests.get('https://raw.githubusercontent.com/facebookresearch/madgrad/main/madgrad/madgrad.py').text)\n",
    "\n",
    "def set_seed(seed = int):\n",
    "    '''Sets the seed of the entire notebook so results are the same every time we run.\n",
    "    This is for REPRODUCIBILITY.'''\n",
    "    np.random.seed(seed)\n",
    "    random_state = np.random.RandomState(seed)\n",
    "    random.seed(seed)\n",
    "    torch.manual_seed(seed)\n",
    "    torch.cuda.manual_seed(seed)\n",
    "    torch.backends.cudnn.deterministic = True\n",
    "    torch.backends.cudnn.benchmark = False\n",
    "    os.environ['PYTHONHASHSEED'] = str(seed)\n",
    "    seed_everything(seed)\n",
    "    return random_state\n",
    "random_state = set_seed(42)"
   ]
  },
  {
   "cell_type": "markdown",
   "metadata": {},
   "source": [
    "# config"
   ]
  },
  {
   "cell_type": "code",
   "execution_count": 5,
   "metadata": {},
   "outputs": [],
   "source": [
    "batch_size = 32\n",
    "hidden_size = 128\n",
    "state_size = 6\n",
    "request_size = 2\n",
    "value_size = 2\n",
    "action_size = 9\n",
    "time_step = 144"
   ]
  },
  {
   "cell_type": "code",
   "execution_count": 6,
   "metadata": {},
   "outputs": [
    {
     "data": {
      "text/html": [
       "<div>\n",
       "<style scoped>\n",
       "    .dataframe tbody tr th:only-of-type {\n",
       "        vertical-align: middle;\n",
       "    }\n",
       "\n",
       "    .dataframe tbody tr th {\n",
       "        vertical-align: top;\n",
       "    }\n",
       "\n",
       "    .dataframe thead th {\n",
       "        text-align: right;\n",
       "    }\n",
       "</style>\n",
       "<table border=\"1\" class=\"dataframe\">\n",
       "  <thead>\n",
       "    <tr style=\"text-align: right;\">\n",
       "      <th></th>\n",
       "      <th>0</th>\n",
       "      <th>1</th>\n",
       "    </tr>\n",
       "  </thead>\n",
       "  <tbody>\n",
       "    <tr>\n",
       "      <th>count</th>\n",
       "      <td>365.000000</td>\n",
       "      <td>365.000000</td>\n",
       "    </tr>\n",
       "    <tr>\n",
       "      <th>mean</th>\n",
       "      <td>0.829624</td>\n",
       "      <td>0.577700</td>\n",
       "    </tr>\n",
       "    <tr>\n",
       "      <th>std</th>\n",
       "      <td>0.138448</td>\n",
       "      <td>0.117761</td>\n",
       "    </tr>\n",
       "    <tr>\n",
       "      <th>min</th>\n",
       "      <td>0.000000</td>\n",
       "      <td>0.000000</td>\n",
       "    </tr>\n",
       "    <tr>\n",
       "      <th>25%</th>\n",
       "      <td>0.827393</td>\n",
       "      <td>0.515305</td>\n",
       "    </tr>\n",
       "    <tr>\n",
       "      <th>50%</th>\n",
       "      <td>0.867552</td>\n",
       "      <td>0.605195</td>\n",
       "    </tr>\n",
       "    <tr>\n",
       "      <th>75%</th>\n",
       "      <td>0.897141</td>\n",
       "      <td>0.655521</td>\n",
       "    </tr>\n",
       "    <tr>\n",
       "      <th>max</th>\n",
       "      <td>1.000000</td>\n",
       "      <td>1.000000</td>\n",
       "    </tr>\n",
       "  </tbody>\n",
       "</table>\n",
       "</div>"
      ],
      "text/plain": [
       "                0           1\n",
       "count  365.000000  365.000000\n",
       "mean     0.829624    0.577700\n",
       "std      0.138448    0.117761\n",
       "min      0.000000    0.000000\n",
       "25%      0.827393    0.515305\n",
       "50%      0.867552    0.605195\n",
       "75%      0.897141    0.655521\n",
       "max      1.000000    1.000000"
      ]
     },
     "metadata": {},
     "output_type": "display_data"
    },
    {
     "data": {
      "text/html": [
       "<div>\n",
       "<style scoped>\n",
       "    .dataframe tbody tr th:only-of-type {\n",
       "        vertical-align: middle;\n",
       "    }\n",
       "\n",
       "    .dataframe tbody tr th {\n",
       "        vertical-align: top;\n",
       "    }\n",
       "\n",
       "    .dataframe thead th {\n",
       "        text-align: right;\n",
       "    }\n",
       "</style>\n",
       "<table border=\"1\" class=\"dataframe\">\n",
       "  <thead>\n",
       "    <tr style=\"text-align: right;\">\n",
       "      <th></th>\n",
       "      <th>0</th>\n",
       "      <th>1</th>\n",
       "    </tr>\n",
       "  </thead>\n",
       "  <tbody>\n",
       "    <tr>\n",
       "      <th>count</th>\n",
       "      <td>365.000000</td>\n",
       "      <td>365.000000</td>\n",
       "    </tr>\n",
       "    <tr>\n",
       "      <th>mean</th>\n",
       "      <td>0.882096</td>\n",
       "      <td>0.630088</td>\n",
       "    </tr>\n",
       "    <tr>\n",
       "      <th>std</th>\n",
       "      <td>0.008612</td>\n",
       "      <td>0.015130</td>\n",
       "    </tr>\n",
       "    <tr>\n",
       "      <th>min</th>\n",
       "      <td>0.867702</td>\n",
       "      <td>0.605741</td>\n",
       "    </tr>\n",
       "    <tr>\n",
       "      <th>25%</th>\n",
       "      <td>0.874708</td>\n",
       "      <td>0.615913</td>\n",
       "    </tr>\n",
       "    <tr>\n",
       "      <th>50%</th>\n",
       "      <td>0.882682</td>\n",
       "      <td>0.629961</td>\n",
       "    </tr>\n",
       "    <tr>\n",
       "      <th>75%</th>\n",
       "      <td>0.889122</td>\n",
       "      <td>0.643518</td>\n",
       "    </tr>\n",
       "    <tr>\n",
       "      <th>max</th>\n",
       "      <td>0.896846</td>\n",
       "      <td>0.655506</td>\n",
       "    </tr>\n",
       "  </tbody>\n",
       "</table>\n",
       "</div>"
      ],
      "text/plain": [
       "                0           1\n",
       "count  365.000000  365.000000\n",
       "mean     0.882096    0.630088\n",
       "std      0.008612    0.015130\n",
       "min      0.867702    0.605741\n",
       "25%      0.874708    0.615913\n",
       "50%      0.882682    0.629961\n",
       "75%      0.889122    0.643518\n",
       "max      0.896846    0.655506"
      ]
     },
     "metadata": {},
     "output_type": "display_data"
    },
    {
     "data": {
      "text/html": [
       "<div>\n",
       "<style scoped>\n",
       "    .dataframe tbody tr th:only-of-type {\n",
       "        vertical-align: middle;\n",
       "    }\n",
       "\n",
       "    .dataframe tbody tr th {\n",
       "        vertical-align: top;\n",
       "    }\n",
       "\n",
       "    .dataframe thead th {\n",
       "        text-align: right;\n",
       "    }\n",
       "</style>\n",
       "<table border=\"1\" class=\"dataframe\">\n",
       "  <thead>\n",
       "    <tr style=\"text-align: right;\">\n",
       "      <th></th>\n",
       "      <th>Ethylene</th>\n",
       "      <th>Propene</th>\n",
       "    </tr>\n",
       "  </thead>\n",
       "  <tbody>\n",
       "    <tr>\n",
       "      <th>count</th>\n",
       "      <td>365.000000</td>\n",
       "      <td>365.000000</td>\n",
       "    </tr>\n",
       "    <tr>\n",
       "      <th>mean</th>\n",
       "      <td>0.829624</td>\n",
       "      <td>0.577700</td>\n",
       "    </tr>\n",
       "    <tr>\n",
       "      <th>std</th>\n",
       "      <td>0.138448</td>\n",
       "      <td>0.117761</td>\n",
       "    </tr>\n",
       "    <tr>\n",
       "      <th>min</th>\n",
       "      <td>0.000000</td>\n",
       "      <td>0.000000</td>\n",
       "    </tr>\n",
       "    <tr>\n",
       "      <th>25%</th>\n",
       "      <td>0.827393</td>\n",
       "      <td>0.515305</td>\n",
       "    </tr>\n",
       "    <tr>\n",
       "      <th>50%</th>\n",
       "      <td>0.867552</td>\n",
       "      <td>0.605195</td>\n",
       "    </tr>\n",
       "    <tr>\n",
       "      <th>75%</th>\n",
       "      <td>0.897141</td>\n",
       "      <td>0.655521</td>\n",
       "    </tr>\n",
       "    <tr>\n",
       "      <th>max</th>\n",
       "      <td>1.000000</td>\n",
       "      <td>1.000000</td>\n",
       "    </tr>\n",
       "  </tbody>\n",
       "</table>\n",
       "</div>"
      ],
      "text/plain": [
       "         Ethylene     Propene\n",
       "count  365.000000  365.000000\n",
       "mean     0.829624    0.577700\n",
       "std      0.138448    0.117761\n",
       "min      0.000000    0.000000\n",
       "25%      0.827393    0.515305\n",
       "50%      0.867552    0.605195\n",
       "75%      0.897141    0.655521\n",
       "max      1.000000    1.000000"
      ]
     },
     "metadata": {},
     "output_type": "display_data"
    },
    {
     "data": {
      "image/png": "[encoded data removed]",
      "text/plain": [
       "<Figure size 432x288 with 1 Axes>"
      ]
     },
     "metadata": {
      "needs_background": "light"
     },
     "output_type": "display_data"
    },
    {
     "data": {
      "image/png": "[encoded data removed]",
      "text/plain": [
       "<Figure size 432x288 with 1 Axes>"
      ]
     },
     "metadata": {
      "needs_background": "light"
     },
     "output_type": "display_data"
    },
    {
     "name": "stdout",
     "output_type": "stream",
     "text": [
      "(365, 144, 6)\n",
      "(365, 144, 9)\n",
      "(365, 2)\n",
      "(365, 2)\n"
     ]
    }
   ],
   "source": [
    "# Load data\n",
    "data = joblib.load('..\\data\\dataset.pkl')\n",
    "\n",
    "#for i in ['state','action','value']:\n",
    "#    data[i] = np.vstack([data[i],data[i],data[i],data[i]])\n",
    "\n",
    "a = pd.DataFrame(data['value']).describe()\n",
    "display(a)\n",
    "\n",
    "data['request'] = np.hstack([\n",
    "    np.random.uniform(low=a.loc['50%'][0],high=a.loc['75%'][0],size=(365,1)),\n",
    "    np.random.uniform(low=a.loc['50%'][1],high=a.loc['75%'][1],size=(365,1))])\n",
    "\n",
    "b = pd.DataFrame(data['request']).describe()\n",
    "display(b)\n",
    "\n",
    "a = pd.DataFrame(data['value'],columns=['Ethylene','Propene'])\n",
    "display(a.describe())\n",
    "for i in ['Ethylene','Propene']:\n",
    "    sns.kdeplot(a[i],color='b')\n",
    "    plt.axvline(x=a.describe().loc['50%',i], label= \"50%\"+i, c='r')\n",
    "    plt.axvline(x=a.describe().loc['75%',i], label= \"75%\"+i, c='r')\n",
    "    plt.legend()\n",
    "    plt.title(i)\n",
    "    plt.show()\n",
    "\n",
    "\n",
    "\n",
    "# shape\n",
    "print(data['state'].shape)\n",
    "print(data['action'].shape)\n",
    "print(data['value'].shape)\n",
    "print(data['request'].shape)\n",
    "\n",
    "# tensor\n",
    "data['state'] = torch.FloatTensor(data['state'])\n",
    "data['request'] = torch.FloatTensor(data['request'])\n",
    "data['action'] = torch.FloatTensor(data['action'])\n",
    "data['value'] = torch.FloatTensor(data['value'])\n",
    "\n",
    "\n",
    "\n",
    "# data_iter\n",
    "data = TensorDataset(data['state'],data['request'],data['action'],data['value'])\n",
    "train_iter = DataLoader(data,batch_size=batch_size,shuffle=True)"
   ]
  },
  {
   "cell_type": "markdown",
   "metadata": {},
   "source": [
    "# R2D2 MODEL"
   ]
  },
  {
   "cell_type": "code",
   "execution_count": 7,
   "metadata": {},
   "outputs": [],
   "source": [
    "\n",
    "class R2D2(nn.Module):\n",
    "  def __init__(self,obs_size,n_actions,hidden_size):\n",
    "    super().__init__()\n",
    "    self.hidden_size = hidden_size\n",
    "    self.l1 = nn.Linear(obs_size,self.hidden_size)\n",
    "    self.l2 = nn.LSTMCell(self.hidden_size,self.hidden_size)\n",
    "    self.l3 = nn.Linear(self.hidden_size,n_actions)\n",
    "  \n",
    "  def forward(self,x,hx,cx):\n",
    "    x = torch.tanh(self.l1(x))\n",
    "    hx,cx = self.l2(x,(hx,cx))\n",
    "    x = torch.tanh(hx)\n",
    "    x = torch.sigmoid(self.l3(x)) # to range[0,1]\n",
    "    return x,hx,cx\n"
   ]
  },
  {
   "cell_type": "markdown",
   "metadata": {},
   "source": [
    "# ActorCritic Model"
   ]
  },
  {
   "cell_type": "code",
   "execution_count": 8,
   "metadata": {},
   "outputs": [],
   "source": [
    "class ActorCritic(nn.Module):\n",
    "  def __init__(self,actor,critic,time_step):\n",
    "    super().__init__()\n",
    "    self.time_step = time_step\n",
    "    \n",
    "    self.actor = actor\n",
    "    self.actor_optimizer = MADGRAD(actor.parameters() ,lr = 1e-3)\n",
    "    \n",
    "    self.critic = critic\n",
    "    self.critic_optimizer = MADGRAD(critic.parameters() ,lr = 1e-3)\n",
    "  \n",
    "  def forward(self,state,request):\n",
    "    actions = self.actor_forward(state,request)\n",
    "    values = self.critic_forward(state,actions)\n",
    "    return values\n",
    "\n",
    "  def actor_forward(self,state,request,eval=False):\n",
    "    '''\n",
    "    # 給定狀態(不可控)和需求 輸出一系列動作\n",
    "    '''\n",
    "    # train or eval model\n",
    "    if eval == True:\n",
    "      self.actor.eval()\n",
    "    else:\n",
    "      self.actor.train()\n",
    "    \n",
    "    # initialize hx,cx\n",
    "    hx = torch.zeros((state.size()[0],actor.hidden_size))\n",
    "    cx = torch.zeros((state.size()[0],actor.hidden_size))\n",
    "    \n",
    "    # get actions shape(batch_size,time_step,action_size)\n",
    "    actions = torch.FloatTensor()\n",
    "    \n",
    "    # 對一定時間長度進行遍歷\n",
    "    for t in range(self.time_step):\n",
    "      # 在t時刻 根據t時刻的狀態,需求以及短期記憶hx,長期記憶cx當作輸入,得到輸出a(動作),更新後的短期記憶hx,更新後的長期記憶cx\n",
    "      a,hx,cx = self.actor(torch.cat((state[:,t,:],request),dim=1),hx,cx)\n",
    "      actions = torch.cat((actions,a),dim=1)\n",
    "    # 一系列動作 (Batch,Time,Features)\n",
    "    actions = actions.reshape(state.size()[0],self.time_step,-1)\n",
    "    \n",
    "    return actions\n",
    "  \n",
    "  def critic_forward(self,state,action,eval=False):\n",
    "    '''\n",
    "    # 輸入狀態(不可控)和一系列動作(可控),預測產出\n",
    "    '''\n",
    "\n",
    "    # train or eval model\n",
    "    if eval == True:\n",
    "      self.critic.eval()\n",
    "    else:\n",
    "      self.critic.train()\n",
    "    \n",
    "    # initialize hx,cx\n",
    "    hx = torch.zeros((state.size()[0],critic.hidden_size))\n",
    "    cx = torch.zeros((state.size()[0],critic.hidden_size))\n",
    "\n",
    "    # get values shape(batch_size,time_step,value_size)\n",
    "    values = torch.FloatTensor()\n",
    "    \n",
    "    # 對時間點遍歷\n",
    "    for t in range(self.time_step):\n",
    "      # 根據當前t時刻狀態,動作,hx,cx當輸入得到,v(產出),更新hx,cx\n",
    "      v,hx,cx = self.critic(torch.cat((state[:,t,:],action[:,t,:]),dim=1),hx,cx)\n",
    "      values = torch.cat((values,v),dim=1)\n",
    "    \n",
    "    # 一系列產出(Batch,Time,Features)\n",
    "    values = values.reshape(state.size()[0],self.time_step,-1)\n",
    "    \n",
    "    # 只取最後一個時間點\n",
    "    return values[:,-1,:] # return last time_step\n",
    "\n",
    "  def train_critic(self,state,action,value):\n",
    "    '''\n",
    "    x: [state,action]\n",
    "    y: [value]\n",
    "    '監督式學習'\n",
    "    '''\n",
    "    self.critic.train()\n",
    "    self.actor.eval()\n",
    "    value_hat = self.critic_forward(state,action)\n",
    "    \n",
    "    # 預測值跟label的平方差愈小愈好\n",
    "    loss = ((value_hat-value)**2).mean()\n",
    "    loss.backward()\n",
    "    self.critic_optimizer.step()\n",
    "    self.critic_optimizer.zero_grad()\n",
    "    return loss.item()\n",
    "  \n",
    "  def train_actor(self,state,request):\n",
    "    '''\n",
    "    x: [state,request]\n",
    "    y: maximum critic value\n",
    "    '最小化產出跟request的差異'\n",
    "    '''\n",
    "    self.actor.train()\n",
    "    self.critic.eval()\n",
    "    actions = self.actor_forward(state,request)\n",
    "    value_hat = self.critic_forward(state,actions)\n",
    "\n",
    "    # 首先預測值跟需求的平方差愈小愈好\n",
    "    loss1 = ((request-value_hat)**2).mean()\n",
    "\n",
    "    # 再來避免\"變異數太大(時間維度上)\" 因為盤控人員不可能突然調太多\n",
    "    loss2 = actions.reshape(-1,time_step,action_size).std(axis=1)\n",
    "    loss2 = loss2.sum(axis=-1).mean(axis=0)\n",
    "\n",
    "    loss = loss1 + loss2\n",
    "    loss.backward()\n",
    "    \n",
    "    self.actor_optimizer.step()\n",
    "    self.actor.zero_grad()\n",
    "\n",
    "    return loss.item()"
   ]
  },
  {
   "cell_type": "code",
   "execution_count": 9,
   "metadata": {},
   "outputs": [],
   "source": [
    "actor = R2D2(state_size+request_size,action_size,hidden_size)\n",
    "critic = R2D2(state_size+action_size,value_size,hidden_size)\n",
    "model = ActorCritic(actor,critic,time_step)"
   ]
  },
  {
   "cell_type": "markdown",
   "metadata": {},
   "source": [
    "# train loop"
   ]
  },
  {
   "cell_type": "code",
   "execution_count": 10,
   "metadata": {},
   "outputs": [],
   "source": [
    "def train_critic():\n",
    "  loss = 0\n",
    "  for i,(bs,br,ba,bv) in enumerate(train_iter):\n",
    "    loss += model.train_critic(bs,ba,bv)\n",
    "  return loss\n",
    "\n",
    "def train_actor():\n",
    "  loss = 0\n",
    "  for i,(bs,br,ba,bv) in enumerate(train_iter):\n",
    "    loss += model.train_actor(bs,br)\n",
    "  return loss\n",
    "\n",
    "def train(model,train_iter,epochs=100):\n",
    "  train_history = {}\n",
    "  train_history['actor'] = []\n",
    "  train_history['critic'] = []\n",
    "  \n",
    "  for epoch in tqdm(range(epochs)):\n",
    "    loss = train_critic()\n",
    "    train_history['critic'].append(loss)\n",
    "    if epoch % 10 == 0:\n",
    "      print('epoch:{} critic_loss:{}'.format(epoch,loss))\n",
    "    \n",
    "  for epoch in tqdm(range(epochs)):\n",
    "    loss = train_actor()\n",
    "    train_history['actor'].append(loss)\n",
    "    if epoch % 10 == 0:\n",
    "      print('epoch:{} actor_loss:{}'.format(epoch,loss))\n",
    "    \n",
    "  return model,train_history"
   ]
  },
  {
   "cell_type": "code",
   "execution_count": 11,
   "metadata": {},
   "outputs": [
    {
     "name": "stdout",
     "output_type": "stream",
     "text": [
      "torch.Size([32, 144, 9])\n"
     ]
    },
    {
     "data": {
      "text/html": [
       "<style  type=\"text/css\" >\n",
       "#T_4fb4b6e2_3221_11ec_a8ec_ac1f6b871d7brow0_col0,#T_4fb4b6e2_3221_11ec_a8ec_ac1f6b871d7brow0_col1,#T_4fb4b6e2_3221_11ec_a8ec_ac1f6b871d7brow0_col4,#T_4fb4b6e2_3221_11ec_a8ec_ac1f6b871d7brow0_col5,#T_4fb4b6e2_3221_11ec_a8ec_ac1f6b871d7brow3_col6,#T_4fb4b6e2_3221_11ec_a8ec_ac1f6b871d7brow4_col2,#T_4fb4b6e2_3221_11ec_a8ec_ac1f6b871d7brow4_col3,#T_4fb4b6e2_3221_11ec_a8ec_ac1f6b871d7brow4_col7,#T_4fb4b6e2_3221_11ec_a8ec_ac1f6b871d7brow4_col8{\n",
       "            background-color:  #fff7fb;\n",
       "            color:  #000000;\n",
       "        }#T_4fb4b6e2_3221_11ec_a8ec_ac1f6b871d7brow0_col2,#T_4fb4b6e2_3221_11ec_a8ec_ac1f6b871d7brow0_col3,#T_4fb4b6e2_3221_11ec_a8ec_ac1f6b871d7brow0_col6,#T_4fb4b6e2_3221_11ec_a8ec_ac1f6b871d7brow0_col7,#T_4fb4b6e2_3221_11ec_a8ec_ac1f6b871d7brow0_col8,#T_4fb4b6e2_3221_11ec_a8ec_ac1f6b871d7brow3_col1,#T_4fb4b6e2_3221_11ec_a8ec_ac1f6b871d7brow4_col0,#T_4fb4b6e2_3221_11ec_a8ec_ac1f6b871d7brow4_col4,#T_4fb4b6e2_3221_11ec_a8ec_ac1f6b871d7brow4_col5{\n",
       "            background-color:  #023858;\n",
       "            color:  #f1f1f1;\n",
       "        }#T_4fb4b6e2_3221_11ec_a8ec_ac1f6b871d7brow1_col0{\n",
       "            background-color:  #83afd3;\n",
       "            color:  #000000;\n",
       "        }#T_4fb4b6e2_3221_11ec_a8ec_ac1f6b871d7brow1_col1{\n",
       "            background-color:  #1278b4;\n",
       "            color:  #f1f1f1;\n",
       "        }#T_4fb4b6e2_3221_11ec_a8ec_ac1f6b871d7brow1_col2{\n",
       "            background-color:  #80aed2;\n",
       "            color:  #000000;\n",
       "        }#T_4fb4b6e2_3221_11ec_a8ec_ac1f6b871d7brow1_col3{\n",
       "            background-color:  #6fa7ce;\n",
       "            color:  #000000;\n",
       "        }#T_4fb4b6e2_3221_11ec_a8ec_ac1f6b871d7brow1_col4{\n",
       "            background-color:  #62a2cb;\n",
       "            color:  #000000;\n",
       "        }#T_4fb4b6e2_3221_11ec_a8ec_ac1f6b871d7brow1_col5{\n",
       "            background-color:  #71a8ce;\n",
       "            color:  #000000;\n",
       "        }#T_4fb4b6e2_3221_11ec_a8ec_ac1f6b871d7brow1_col6{\n",
       "            background-color:  #bbc7e0;\n",
       "            color:  #000000;\n",
       "        }#T_4fb4b6e2_3221_11ec_a8ec_ac1f6b871d7brow1_col7{\n",
       "            background-color:  #63a2cb;\n",
       "            color:  #000000;\n",
       "        }#T_4fb4b6e2_3221_11ec_a8ec_ac1f6b871d7brow1_col8{\n",
       "            background-color:  #69a5cc;\n",
       "            color:  #000000;\n",
       "        }#T_4fb4b6e2_3221_11ec_a8ec_ac1f6b871d7brow2_col0{\n",
       "            background-color:  #0c74b2;\n",
       "            color:  #f1f1f1;\n",
       "        }#T_4fb4b6e2_3221_11ec_a8ec_ac1f6b871d7brow2_col1{\n",
       "            background-color:  #034369;\n",
       "            color:  #f1f1f1;\n",
       "        }#T_4fb4b6e2_3221_11ec_a8ec_ac1f6b871d7brow2_col2{\n",
       "            background-color:  #dad9ea;\n",
       "            color:  #000000;\n",
       "        }#T_4fb4b6e2_3221_11ec_a8ec_ac1f6b871d7brow2_col3{\n",
       "            background-color:  #d2d3e7;\n",
       "            color:  #000000;\n",
       "        }#T_4fb4b6e2_3221_11ec_a8ec_ac1f6b871d7brow2_col4{\n",
       "            background-color:  #0569a5;\n",
       "            color:  #f1f1f1;\n",
       "        }#T_4fb4b6e2_3221_11ec_a8ec_ac1f6b871d7brow2_col5{\n",
       "            background-color:  #056ba9;\n",
       "            color:  #f1f1f1;\n",
       "        }#T_4fb4b6e2_3221_11ec_a8ec_ac1f6b871d7brow2_col6{\n",
       "            background-color:  #fbf3f9;\n",
       "            color:  #000000;\n",
       "        }#T_4fb4b6e2_3221_11ec_a8ec_ac1f6b871d7brow2_col7{\n",
       "            background-color:  #d1d2e6;\n",
       "            color:  #000000;\n",
       "        }#T_4fb4b6e2_3221_11ec_a8ec_ac1f6b871d7brow2_col8{\n",
       "            background-color:  #d9d8ea;\n",
       "            color:  #000000;\n",
       "        }#T_4fb4b6e2_3221_11ec_a8ec_ac1f6b871d7brow3_col0{\n",
       "            background-color:  #045483;\n",
       "            color:  #f1f1f1;\n",
       "        }#T_4fb4b6e2_3221_11ec_a8ec_ac1f6b871d7brow3_col2{\n",
       "            background-color:  #f5eef6;\n",
       "            color:  #000000;\n",
       "        }#T_4fb4b6e2_3221_11ec_a8ec_ac1f6b871d7brow3_col3,#T_4fb4b6e2_3221_11ec_a8ec_ac1f6b871d7brow3_col7,#T_4fb4b6e2_3221_11ec_a8ec_ac1f6b871d7brow4_col6{\n",
       "            background-color:  #f2ecf5;\n",
       "            color:  #000000;\n",
       "        }#T_4fb4b6e2_3221_11ec_a8ec_ac1f6b871d7brow3_col4,#T_4fb4b6e2_3221_11ec_a8ec_ac1f6b871d7brow3_col5{\n",
       "            background-color:  #034d79;\n",
       "            color:  #f1f1f1;\n",
       "        }#T_4fb4b6e2_3221_11ec_a8ec_ac1f6b871d7brow3_col8{\n",
       "            background-color:  #f6eff7;\n",
       "            color:  #000000;\n",
       "        }#T_4fb4b6e2_3221_11ec_a8ec_ac1f6b871d7brow4_col1{\n",
       "            background-color:  #034165;\n",
       "            color:  #f1f1f1;\n",
       "        }</style><table id=\"T_4fb4b6e2_3221_11ec_a8ec_ac1f6b871d7b\" ><thead>    <tr>        <th class=\"blank level0\" ></th>        <th class=\"col_heading level0 col0\" >0</th>        <th class=\"col_heading level0 col1\" >1</th>        <th class=\"col_heading level0 col2\" >2</th>        <th class=\"col_heading level0 col3\" >3</th>        <th class=\"col_heading level0 col4\" >4</th>        <th class=\"col_heading level0 col5\" >5</th>        <th class=\"col_heading level0 col6\" >6</th>        <th class=\"col_heading level0 col7\" >7</th>        <th class=\"col_heading level0 col8\" >8</th>    </tr></thead><tbody>\n",
       "                <tr>\n",
       "                        <th id=\"T_4fb4b6e2_3221_11ec_a8ec_ac1f6b871d7blevel0_row0\" class=\"row_heading level0 row0\" >0</th>\n",
       "                        <td id=\"T_4fb4b6e2_3221_11ec_a8ec_ac1f6b871d7brow0_col0\" class=\"data row0 col0\" >0.502087</td>\n",
       "                        <td id=\"T_4fb4b6e2_3221_11ec_a8ec_ac1f6b871d7brow0_col1\" class=\"data row0 col1\" >0.508360</td>\n",
       "                        <td id=\"T_4fb4b6e2_3221_11ec_a8ec_ac1f6b871d7brow0_col2\" class=\"data row0 col2\" >0.504921</td>\n",
       "                        <td id=\"T_4fb4b6e2_3221_11ec_a8ec_ac1f6b871d7brow0_col3\" class=\"data row0 col3\" >0.503552</td>\n",
       "                        <td id=\"T_4fb4b6e2_3221_11ec_a8ec_ac1f6b871d7brow0_col4\" class=\"data row0 col4\" >0.511091</td>\n",
       "                        <td id=\"T_4fb4b6e2_3221_11ec_a8ec_ac1f6b871d7brow0_col5\" class=\"data row0 col5\" >0.513761</td>\n",
       "                        <td id=\"T_4fb4b6e2_3221_11ec_a8ec_ac1f6b871d7brow0_col6\" class=\"data row0 col6\" >0.481228</td>\n",
       "                        <td id=\"T_4fb4b6e2_3221_11ec_a8ec_ac1f6b871d7brow0_col7\" class=\"data row0 col7\" >0.478758</td>\n",
       "                        <td id=\"T_4fb4b6e2_3221_11ec_a8ec_ac1f6b871d7brow0_col8\" class=\"data row0 col8\" >0.482656</td>\n",
       "            </tr>\n",
       "            <tr>\n",
       "                        <th id=\"T_4fb4b6e2_3221_11ec_a8ec_ac1f6b871d7blevel0_row1\" class=\"row_heading level0 row1\" >1</th>\n",
       "                        <td id=\"T_4fb4b6e2_3221_11ec_a8ec_ac1f6b871d7brow1_col0\" class=\"data row1 col0\" >0.504408</td>\n",
       "                        <td id=\"T_4fb4b6e2_3221_11ec_a8ec_ac1f6b871d7brow1_col1\" class=\"data row1 col1\" >0.509899</td>\n",
       "                        <td id=\"T_4fb4b6e2_3221_11ec_a8ec_ac1f6b871d7brow1_col2\" class=\"data row1 col2\" >0.499908</td>\n",
       "                        <td id=\"T_4fb4b6e2_3221_11ec_a8ec_ac1f6b871d7brow1_col3\" class=\"data row1 col3\" >0.499602</td>\n",
       "                        <td id=\"T_4fb4b6e2_3221_11ec_a8ec_ac1f6b871d7brow1_col4\" class=\"data row1 col4\" >0.513644</td>\n",
       "                        <td id=\"T_4fb4b6e2_3221_11ec_a8ec_ac1f6b871d7brow1_col5\" class=\"data row1 col5\" >0.516361</td>\n",
       "                        <td id=\"T_4fb4b6e2_3221_11ec_a8ec_ac1f6b871d7brow1_col6\" class=\"data row1 col6\" >0.479550</td>\n",
       "                        <td id=\"T_4fb4b6e2_3221_11ec_a8ec_ac1f6b871d7brow1_col7\" class=\"data row1 col7\" >0.473755</td>\n",
       "                        <td id=\"T_4fb4b6e2_3221_11ec_a8ec_ac1f6b871d7brow1_col8\" class=\"data row1 col8\" >0.481492</td>\n",
       "            </tr>\n",
       "            <tr>\n",
       "                        <th id=\"T_4fb4b6e2_3221_11ec_a8ec_ac1f6b871d7blevel0_row2\" class=\"row_heading level0 row2\" >2</th>\n",
       "                        <td id=\"T_4fb4b6e2_3221_11ec_a8ec_ac1f6b871d7brow2_col0\" class=\"data row2 col0\" >0.505750</td>\n",
       "                        <td id=\"T_4fb4b6e2_3221_11ec_a8ec_ac1f6b871d7brow2_col1\" class=\"data row2 col1\" >0.510417</td>\n",
       "                        <td id=\"T_4fb4b6e2_3221_11ec_a8ec_ac1f6b871d7brow2_col2\" class=\"data row2 col2\" >0.497384</td>\n",
       "                        <td id=\"T_4fb4b6e2_3221_11ec_a8ec_ac1f6b871d7brow2_col3\" class=\"data row2 col3\" >0.497409</td>\n",
       "                        <td id=\"T_4fb4b6e2_3221_11ec_a8ec_ac1f6b871d7brow2_col4\" class=\"data row2 col4\" >0.514844</td>\n",
       "                        <td id=\"T_4fb4b6e2_3221_11ec_a8ec_ac1f6b871d7brow2_col5\" class=\"data row2 col5\" >0.517728</td>\n",
       "                        <td id=\"T_4fb4b6e2_3221_11ec_a8ec_ac1f6b871d7brow2_col6\" class=\"data row2 col6\" >0.478855</td>\n",
       "                        <td id=\"T_4fb4b6e2_3221_11ec_a8ec_ac1f6b871d7brow2_col7\" class=\"data row2 col7\" >0.470724</td>\n",
       "                        <td id=\"T_4fb4b6e2_3221_11ec_a8ec_ac1f6b871d7brow2_col8\" class=\"data row2 col8\" >0.480735</td>\n",
       "            </tr>\n",
       "            <tr>\n",
       "                        <th id=\"T_4fb4b6e2_3221_11ec_a8ec_ac1f6b871d7blevel0_row3\" class=\"row_heading level0 row3\" >3</th>\n",
       "                        <td id=\"T_4fb4b6e2_3221_11ec_a8ec_ac1f6b871d7brow3_col0\" class=\"data row3 col0\" >0.506573</td>\n",
       "                        <td id=\"T_4fb4b6e2_3221_11ec_a8ec_ac1f6b871d7brow3_col1\" class=\"data row3 col1\" >0.510504</td>\n",
       "                        <td id=\"T_4fb4b6e2_3221_11ec_a8ec_ac1f6b871d7brow3_col2\" class=\"data row3 col2\" >0.496099</td>\n",
       "                        <td id=\"T_4fb4b6e2_3221_11ec_a8ec_ac1f6b871d7brow3_col3\" class=\"data row3 col3\" >0.496178</td>\n",
       "                        <td id=\"T_4fb4b6e2_3221_11ec_a8ec_ac1f6b871d7brow3_col4\" class=\"data row3 col4\" >0.515483</td>\n",
       "                        <td id=\"T_4fb4b6e2_3221_11ec_a8ec_ac1f6b871d7brow3_col5\" class=\"data row3 col5\" >0.518477</td>\n",
       "                        <td id=\"T_4fb4b6e2_3221_11ec_a8ec_ac1f6b871d7brow3_col6\" class=\"data row3 col6\" >0.478779</td>\n",
       "                        <td id=\"T_4fb4b6e2_3221_11ec_a8ec_ac1f6b871d7brow3_col7\" class=\"data row3 col7\" >0.469010</td>\n",
       "                        <td id=\"T_4fb4b6e2_3221_11ec_a8ec_ac1f6b871d7brow3_col8\" class=\"data row3 col8\" >0.480363</td>\n",
       "            </tr>\n",
       "            <tr>\n",
       "                        <th id=\"T_4fb4b6e2_3221_11ec_a8ec_ac1f6b871d7blevel0_row4\" class=\"row_heading level0 row4\" >4</th>\n",
       "                        <td id=\"T_4fb4b6e2_3221_11ec_a8ec_ac1f6b871d7brow4_col0\" class=\"data row4 col0\" >0.507087</td>\n",
       "                        <td id=\"T_4fb4b6e2_3221_11ec_a8ec_ac1f6b871d7brow4_col1\" class=\"data row4 col1\" >0.510437</td>\n",
       "                        <td id=\"T_4fb4b6e2_3221_11ec_a8ec_ac1f6b871d7brow4_col2\" class=\"data row4 col2\" >0.495432</td>\n",
       "                        <td id=\"T_4fb4b6e2_3221_11ec_a8ec_ac1f6b871d7brow4_col3\" class=\"data row4 col3\" >0.495467</td>\n",
       "                        <td id=\"T_4fb4b6e2_3221_11ec_a8ec_ac1f6b871d7brow4_col4\" class=\"data row4 col4\" >0.515859</td>\n",
       "                        <td id=\"T_4fb4b6e2_3221_11ec_a8ec_ac1f6b871d7brow4_col5\" class=\"data row4 col5\" >0.518887</td>\n",
       "                        <td id=\"T_4fb4b6e2_3221_11ec_a8ec_ac1f6b871d7brow4_col6\" class=\"data row4 col6\" >0.478985</td>\n",
       "                        <td id=\"T_4fb4b6e2_3221_11ec_a8ec_ac1f6b871d7brow4_col7\" class=\"data row4 col7\" >0.468081</td>\n",
       "                        <td id=\"T_4fb4b6e2_3221_11ec_a8ec_ac1f6b871d7brow4_col8\" class=\"data row4 col8\" >0.480216</td>\n",
       "            </tr>\n",
       "    </tbody></table>"
      ],
      "text/plain": [
       "<pandas.io.formats.style.Styler at 0x1cf27130b80>"
      ]
     },
     "execution_count": 11,
     "metadata": {},
     "output_type": "execute_result"
    }
   ],
   "source": [
    "s,r,a,v = next(iter(train_iter))\n",
    "actions = model.actor_forward(s,r,eval=True)\n",
    "print(actions.shape)\n",
    "pd.DataFrame(actions[0].detach().numpy()).head().style.background_gradient()"
   ]
  },
  {
   "cell_type": "code",
   "execution_count": 12,
   "metadata": {},
   "outputs": [
    {
     "data": {
      "application/vnd.jupyter.widget-view+json": {
       "model_id": "d408666f67a94aba8ca7ad2ecec98831",
       "version_major": 2,
       "version_minor": 0
      },
      "text/plain": [
       "HBox(children=(HTML(value=''), FloatProgress(value=0.0), HTML(value='')))"
      ]
     },
     "metadata": {},
     "output_type": "display_data"
    },
    {
     "name": "stdout",
     "output_type": "stream",
     "text": [
      "epoch:0 critic_loss:0.7081844247877598\n",
      "epoch:10 critic_loss:0.16732210107147694\n",
      "epoch:20 critic_loss:0.15505659859627485\n",
      "epoch:30 critic_loss:0.14008885901421309\n",
      "epoch:40 critic_loss:0.12184087885543704\n",
      "epoch:50 critic_loss:0.1425082739442587\n",
      "epoch:60 critic_loss:0.1539016435854137\n",
      "epoch:70 critic_loss:0.12009873706847429\n",
      "epoch:80 critic_loss:0.13196248398162425\n",
      "epoch:90 critic_loss:0.11454021884128451\n",
      "\n"
     ]
    },
    {
     "data": {
      "application/vnd.jupyter.widget-view+json": {
       "model_id": "9e0ab8999514457c99d0f4c3ca838057",
       "version_major": 2,
       "version_minor": 0
      },
      "text/plain": [
       "HBox(children=(HTML(value=''), FloatProgress(value=0.0), HTML(value='')))"
      ]
     },
     "metadata": {},
     "output_type": "display_data"
    },
    {
     "name": "stdout",
     "output_type": "stream",
     "text": [
      "epoch:0 actor_loss:0.0897389529272914\n",
      "epoch:10 actor_loss:0.05045960796996951\n",
      "epoch:20 actor_loss:0.041664703749120235\n",
      "epoch:30 actor_loss:0.031054766150191426\n",
      "epoch:40 actor_loss:0.018824824946932495\n",
      "epoch:50 actor_loss:0.015328253386542201\n",
      "epoch:60 actor_loss:0.01368354627629742\n",
      "epoch:70 actor_loss:0.012410937459208071\n",
      "epoch:80 actor_loss:0.012038174842018634\n",
      "epoch:90 actor_loss:0.012507387436926365\n",
      "\n"
     ]
    }
   ],
   "source": [
    "model,train_history = train(model,train_iter,epochs=100)"
   ]
  },
  {
   "cell_type": "code",
   "execution_count": 13,
   "metadata": {},
   "outputs": [
    {
     "data": {
      "image/png": "[encoded data removed]",
      "text/plain": [
       "<Figure size 432x288 with 1 Axes>"
      ]
     },
     "metadata": {
      "needs_background": "light"
     },
     "output_type": "display_data"
    },
    {
     "data": {
      "text/plain": [
       "[<matplotlib.lines.Line2D at 0x1cf273509a0>]"
      ]
     },
     "execution_count": 13,
     "metadata": {},
     "output_type": "execute_result"
    },
    {
     "data": {
      "image/png": "[encoded data removed]",
      "text/plain": [
       "<Figure size 432x288 with 1 Axes>"
      ]
     },
     "metadata": {
      "needs_background": "light"
     },
     "output_type": "display_data"
    }
   ],
   "source": [
    "import matplotlib.pyplot as plt\n",
    "\n",
    "plt.plot(train_history['critic'])\n",
    "plt.show()\n",
    "plt.plot(train_history['actor'])"
   ]
  },
  {
   "cell_type": "code",
   "execution_count": 14,
   "metadata": {},
   "outputs": [],
   "source": [
    "s,r,a,v = next(iter(train_iter))\n",
    "actions = model.actor_forward(s,r,eval=True)"
   ]
  },
  {
   "cell_type": "code",
   "execution_count": 15,
   "metadata": {},
   "outputs": [
    {
     "data": {
      "text/html": [
       "<style  type=\"text/css\" >\n",
       "#T_e69e6ad8_3222_11ec_8720_ac1f6b871d7brow0_col0,#T_e69e6ad8_3222_11ec_8720_ac1f6b871d7brow0_col2,#T_e69e6ad8_3222_11ec_8720_ac1f6b871d7brow0_col3,#T_e69e6ad8_3222_11ec_8720_ac1f6b871d7brow0_col6,#T_e69e6ad8_3222_11ec_8720_ac1f6b871d7brow3_col4,#T_e69e6ad8_3222_11ec_8720_ac1f6b871d7brow3_col5,#T_e69e6ad8_3222_11ec_8720_ac1f6b871d7brow4_col1,#T_e69e6ad8_3222_11ec_8720_ac1f6b871d7brow4_col7,#T_e69e6ad8_3222_11ec_8720_ac1f6b871d7brow4_col8{\n",
       "            background-color:  #fff7fb;\n",
       "            color:  #000000;\n",
       "        }#T_e69e6ad8_3222_11ec_8720_ac1f6b871d7brow0_col1,#T_e69e6ad8_3222_11ec_8720_ac1f6b871d7brow0_col4,#T_e69e6ad8_3222_11ec_8720_ac1f6b871d7brow0_col5,#T_e69e6ad8_3222_11ec_8720_ac1f6b871d7brow0_col7,#T_e69e6ad8_3222_11ec_8720_ac1f6b871d7brow0_col8,#T_e69e6ad8_3222_11ec_8720_ac1f6b871d7brow1_col2,#T_e69e6ad8_3222_11ec_8720_ac1f6b871d7brow3_col0,#T_e69e6ad8_3222_11ec_8720_ac1f6b871d7brow3_col3,#T_e69e6ad8_3222_11ec_8720_ac1f6b871d7brow4_col6{\n",
       "            background-color:  #023858;\n",
       "            color:  #f1f1f1;\n",
       "        }#T_e69e6ad8_3222_11ec_8720_ac1f6b871d7brow1_col0,#T_e69e6ad8_3222_11ec_8720_ac1f6b871d7brow1_col3{\n",
       "            background-color:  #9ebad9;\n",
       "            color:  #000000;\n",
       "        }#T_e69e6ad8_3222_11ec_8720_ac1f6b871d7brow1_col1{\n",
       "            background-color:  #b7c5df;\n",
       "            color:  #000000;\n",
       "        }#T_e69e6ad8_3222_11ec_8720_ac1f6b871d7brow1_col4{\n",
       "            background-color:  #f0eaf4;\n",
       "            color:  #000000;\n",
       "        }#T_e69e6ad8_3222_11ec_8720_ac1f6b871d7brow1_col5{\n",
       "            background-color:  #65a3cb;\n",
       "            color:  #000000;\n",
       "        }#T_e69e6ad8_3222_11ec_8720_ac1f6b871d7brow1_col6{\n",
       "            background-color:  #3790c0;\n",
       "            color:  #000000;\n",
       "        }#T_e69e6ad8_3222_11ec_8720_ac1f6b871d7brow1_col7{\n",
       "            background-color:  #a7bddb;\n",
       "            color:  #000000;\n",
       "        }#T_e69e6ad8_3222_11ec_8720_ac1f6b871d7brow1_col8{\n",
       "            background-color:  #96b6d7;\n",
       "            color:  #000000;\n",
       "        }#T_e69e6ad8_3222_11ec_8720_ac1f6b871d7brow2_col0{\n",
       "            background-color:  #1e80b8;\n",
       "            color:  #000000;\n",
       "        }#T_e69e6ad8_3222_11ec_8720_ac1f6b871d7brow2_col1{\n",
       "            background-color:  #ede7f2;\n",
       "            color:  #000000;\n",
       "        }#T_e69e6ad8_3222_11ec_8720_ac1f6b871d7brow2_col2{\n",
       "            background-color:  #03517e;\n",
       "            color:  #f1f1f1;\n",
       "        }#T_e69e6ad8_3222_11ec_8720_ac1f6b871d7brow2_col3{\n",
       "            background-color:  #056aa6;\n",
       "            color:  #f1f1f1;\n",
       "        }#T_e69e6ad8_3222_11ec_8720_ac1f6b871d7brow2_col4,#T_e69e6ad8_3222_11ec_8720_ac1f6b871d7brow3_col1,#T_e69e6ad8_3222_11ec_8720_ac1f6b871d7brow3_col8{\n",
       "            background-color:  #f7f0f7;\n",
       "            color:  #000000;\n",
       "        }#T_e69e6ad8_3222_11ec_8720_ac1f6b871d7brow2_col5{\n",
       "            background-color:  #d1d2e6;\n",
       "            color:  #000000;\n",
       "        }#T_e69e6ad8_3222_11ec_8720_ac1f6b871d7brow2_col6{\n",
       "            background-color:  #045c90;\n",
       "            color:  #f1f1f1;\n",
       "        }#T_e69e6ad8_3222_11ec_8720_ac1f6b871d7brow2_col7{\n",
       "            background-color:  #ece7f2;\n",
       "            color:  #000000;\n",
       "        }#T_e69e6ad8_3222_11ec_8720_ac1f6b871d7brow2_col8{\n",
       "            background-color:  #e1dfed;\n",
       "            color:  #000000;\n",
       "        }#T_e69e6ad8_3222_11ec_8720_ac1f6b871d7brow3_col2{\n",
       "            background-color:  #2987bc;\n",
       "            color:  #000000;\n",
       "        }#T_e69e6ad8_3222_11ec_8720_ac1f6b871d7brow3_col6{\n",
       "            background-color:  #03466e;\n",
       "            color:  #f1f1f1;\n",
       "        }#T_e69e6ad8_3222_11ec_8720_ac1f6b871d7brow3_col7{\n",
       "            background-color:  #f5eef6;\n",
       "            color:  #000000;\n",
       "        }#T_e69e6ad8_3222_11ec_8720_ac1f6b871d7brow4_col0{\n",
       "            background-color:  #023f64;\n",
       "            color:  #f1f1f1;\n",
       "        }#T_e69e6ad8_3222_11ec_8720_ac1f6b871d7brow4_col2{\n",
       "            background-color:  #034c78;\n",
       "            color:  #f1f1f1;\n",
       "        }#T_e69e6ad8_3222_11ec_8720_ac1f6b871d7brow4_col3{\n",
       "            background-color:  #023c5f;\n",
       "            color:  #f1f1f1;\n",
       "        }#T_e69e6ad8_3222_11ec_8720_ac1f6b871d7brow4_col4{\n",
       "            background-color:  #f4eef6;\n",
       "            color:  #000000;\n",
       "        }#T_e69e6ad8_3222_11ec_8720_ac1f6b871d7brow4_col5{\n",
       "            background-color:  #fef6fb;\n",
       "            color:  #000000;\n",
       "        }</style><table id=\"T_e69e6ad8_3222_11ec_8720_ac1f6b871d7b\" ><thead>    <tr>        <th class=\"blank level0\" ></th>        <th class=\"col_heading level0 col0\" >0</th>        <th class=\"col_heading level0 col1\" >1</th>        <th class=\"col_heading level0 col2\" >2</th>        <th class=\"col_heading level0 col3\" >3</th>        <th class=\"col_heading level0 col4\" >4</th>        <th class=\"col_heading level0 col5\" >5</th>        <th class=\"col_heading level0 col6\" >6</th>        <th class=\"col_heading level0 col7\" >7</th>        <th class=\"col_heading level0 col8\" >8</th>    </tr></thead><tbody>\n",
       "                <tr>\n",
       "                        <th id=\"T_e69e6ad8_3222_11ec_8720_ac1f6b871d7blevel0_row0\" class=\"row_heading level0 row0\" >0</th>\n",
       "                        <td id=\"T_e69e6ad8_3222_11ec_8720_ac1f6b871d7brow0_col0\" class=\"data row0 col0\" >0.218480</td>\n",
       "                        <td id=\"T_e69e6ad8_3222_11ec_8720_ac1f6b871d7brow0_col1\" class=\"data row0 col1\" >0.422462</td>\n",
       "                        <td id=\"T_e69e6ad8_3222_11ec_8720_ac1f6b871d7brow0_col2\" class=\"data row0 col2\" >0.817281</td>\n",
       "                        <td id=\"T_e69e6ad8_3222_11ec_8720_ac1f6b871d7brow0_col3\" class=\"data row0 col3\" >0.337685</td>\n",
       "                        <td id=\"T_e69e6ad8_3222_11ec_8720_ac1f6b871d7brow0_col4\" class=\"data row0 col4\" >0.489751</td>\n",
       "                        <td id=\"T_e69e6ad8_3222_11ec_8720_ac1f6b871d7brow0_col5\" class=\"data row0 col5\" >0.799388</td>\n",
       "                        <td id=\"T_e69e6ad8_3222_11ec_8720_ac1f6b871d7brow0_col6\" class=\"data row0 col6\" >0.579703</td>\n",
       "                        <td id=\"T_e69e6ad8_3222_11ec_8720_ac1f6b871d7brow0_col7\" class=\"data row0 col7\" >0.377988</td>\n",
       "                        <td id=\"T_e69e6ad8_3222_11ec_8720_ac1f6b871d7brow0_col8\" class=\"data row0 col8\" >0.462319</td>\n",
       "            </tr>\n",
       "            <tr>\n",
       "                        <th id=\"T_e69e6ad8_3222_11ec_8720_ac1f6b871d7blevel0_row1\" class=\"row_heading level0 row1\" >1</th>\n",
       "                        <td id=\"T_e69e6ad8_3222_11ec_8720_ac1f6b871d7brow1_col0\" class=\"data row1 col0\" >0.218557</td>\n",
       "                        <td id=\"T_e69e6ad8_3222_11ec_8720_ac1f6b871d7brow1_col1\" class=\"data row1 col1\" >0.422256</td>\n",
       "                        <td id=\"T_e69e6ad8_3222_11ec_8720_ac1f6b871d7brow1_col2\" class=\"data row1 col2\" >0.817377</td>\n",
       "                        <td id=\"T_e69e6ad8_3222_11ec_8720_ac1f6b871d7brow1_col3\" class=\"data row1 col3\" >0.337740</td>\n",
       "                        <td id=\"T_e69e6ad8_3222_11ec_8720_ac1f6b871d7brow1_col4\" class=\"data row1 col4\" >0.489733</td>\n",
       "                        <td id=\"T_e69e6ad8_3222_11ec_8720_ac1f6b871d7brow1_col5\" class=\"data row1 col5\" >0.799227</td>\n",
       "                        <td id=\"T_e69e6ad8_3222_11ec_8720_ac1f6b871d7brow1_col6\" class=\"data row1 col6\" >0.579990</td>\n",
       "                        <td id=\"T_e69e6ad8_3222_11ec_8720_ac1f6b871d7brow1_col7\" class=\"data row1 col7\" >0.377908</td>\n",
       "                        <td id=\"T_e69e6ad8_3222_11ec_8720_ac1f6b871d7brow1_col8\" class=\"data row1 col8\" >0.462192</td>\n",
       "            </tr>\n",
       "            <tr>\n",
       "                        <th id=\"T_e69e6ad8_3222_11ec_8720_ac1f6b871d7blevel0_row2\" class=\"row_heading level0 row2\" >2</th>\n",
       "                        <td id=\"T_e69e6ad8_3222_11ec_8720_ac1f6b871d7brow2_col0\" class=\"data row2 col0\" >0.218613</td>\n",
       "                        <td id=\"T_e69e6ad8_3222_11ec_8720_ac1f6b871d7brow2_col1\" class=\"data row2 col1\" >0.422194</td>\n",
       "                        <td id=\"T_e69e6ad8_3222_11ec_8720_ac1f6b871d7brow2_col2\" class=\"data row2 col2\" >0.817368</td>\n",
       "                        <td id=\"T_e69e6ad8_3222_11ec_8720_ac1f6b871d7brow2_col3\" class=\"data row2 col3\" >0.337794</td>\n",
       "                        <td id=\"T_e69e6ad8_3222_11ec_8720_ac1f6b871d7brow2_col4\" class=\"data row2 col4\" >0.489732</td>\n",
       "                        <td id=\"T_e69e6ad8_3222_11ec_8720_ac1f6b871d7brow2_col5\" class=\"data row2 col5\" >0.799130</td>\n",
       "                        <td id=\"T_e69e6ad8_3222_11ec_8720_ac1f6b871d7brow2_col6\" class=\"data row2 col6\" >0.580099</td>\n",
       "                        <td id=\"T_e69e6ad8_3222_11ec_8720_ac1f6b871d7brow2_col7\" class=\"data row2 col7\" >0.377877</td>\n",
       "                        <td id=\"T_e69e6ad8_3222_11ec_8720_ac1f6b871d7brow2_col8\" class=\"data row2 col8\" >0.462138</td>\n",
       "            </tr>\n",
       "            <tr>\n",
       "                        <th id=\"T_e69e6ad8_3222_11ec_8720_ac1f6b871d7blevel0_row3\" class=\"row_heading level0 row3\" >3</th>\n",
       "                        <td id=\"T_e69e6ad8_3222_11ec_8720_ac1f6b871d7brow3_col0\" class=\"data row3 col0\" >0.218675</td>\n",
       "                        <td id=\"T_e69e6ad8_3222_11ec_8720_ac1f6b871d7brow3_col1\" class=\"data row3 col1\" >0.422174</td>\n",
       "                        <td id=\"T_e69e6ad8_3222_11ec_8720_ac1f6b871d7brow3_col2\" class=\"data row3 col2\" >0.817345</td>\n",
       "                        <td id=\"T_e69e6ad8_3222_11ec_8720_ac1f6b871d7brow3_col3\" class=\"data row3 col3\" >0.337824</td>\n",
       "                        <td id=\"T_e69e6ad8_3222_11ec_8720_ac1f6b871d7brow3_col4\" class=\"data row3 col4\" >0.489731</td>\n",
       "                        <td id=\"T_e69e6ad8_3222_11ec_8720_ac1f6b871d7brow3_col5\" class=\"data row3 col5\" >0.799045</td>\n",
       "                        <td id=\"T_e69e6ad8_3222_11ec_8720_ac1f6b871d7brow3_col6\" class=\"data row3 col6\" >0.580138</td>\n",
       "                        <td id=\"T_e69e6ad8_3222_11ec_8720_ac1f6b871d7brow3_col7\" class=\"data row3 col7\" >0.377870</td>\n",
       "                        <td id=\"T_e69e6ad8_3222_11ec_8720_ac1f6b871d7brow3_col8\" class=\"data row3 col8\" >0.462112</td>\n",
       "            </tr>\n",
       "            <tr>\n",
       "                        <th id=\"T_e69e6ad8_3222_11ec_8720_ac1f6b871d7blevel0_row4\" class=\"row_heading level0 row4\" >4</th>\n",
       "                        <td id=\"T_e69e6ad8_3222_11ec_8720_ac1f6b871d7brow4_col0\" class=\"data row4 col0\" >0.218669</td>\n",
       "                        <td id=\"T_e69e6ad8_3222_11ec_8720_ac1f6b871d7brow4_col1\" class=\"data row4 col1\" >0.422156</td>\n",
       "                        <td id=\"T_e69e6ad8_3222_11ec_8720_ac1f6b871d7brow4_col2\" class=\"data row4 col2\" >0.817370</td>\n",
       "                        <td id=\"T_e69e6ad8_3222_11ec_8720_ac1f6b871d7brow4_col3\" class=\"data row4 col3\" >0.337821</td>\n",
       "                        <td id=\"T_e69e6ad8_3222_11ec_8720_ac1f6b871d7brow4_col4\" class=\"data row4 col4\" >0.489732</td>\n",
       "                        <td id=\"T_e69e6ad8_3222_11ec_8720_ac1f6b871d7brow4_col5\" class=\"data row4 col5\" >0.799046</td>\n",
       "                        <td id=\"T_e69e6ad8_3222_11ec_8720_ac1f6b871d7brow4_col6\" class=\"data row4 col6\" >0.580163</td>\n",
       "                        <td id=\"T_e69e6ad8_3222_11ec_8720_ac1f6b871d7brow4_col7\" class=\"data row4 col7\" >0.377861</td>\n",
       "                        <td id=\"T_e69e6ad8_3222_11ec_8720_ac1f6b871d7brow4_col8\" class=\"data row4 col8\" >0.462100</td>\n",
       "            </tr>\n",
       "    </tbody></table>"
      ],
      "text/plain": [
       "<pandas.io.formats.style.Styler at 0x1cf2738cca0>"
      ]
     },
     "execution_count": 15,
     "metadata": {},
     "output_type": "execute_result"
    }
   ],
   "source": [
    "pd.DataFrame(actions[0].detach().numpy()).head().style.background_gradient()"
   ]
  },
  {
   "cell_type": "code",
   "execution_count": 16,
   "metadata": {},
   "outputs": [
    {
     "data": {
      "text/plain": [
       "tensor([[0.8655, 0.6669]], grad_fn=<SliceBackward>)"
      ]
     },
     "execution_count": 16,
     "metadata": {},
     "output_type": "execute_result"
    }
   ],
   "source": [
    "values = model.critic_forward(s[[0]],actions[[0]],eval=True)\n",
    "values"
   ]
  },
  {
   "cell_type": "markdown",
   "metadata": {},
   "source": [
    "# 令廠商想要控制某種產出率為[0.897141,0.655521],其中state(s)不可控,則用法為"
   ]
  },
  {
   "cell_type": "code",
   "execution_count": 17,
   "metadata": {},
   "outputs": [],
   "source": [
    "wanna_ouput = [0.897141,0.655521]\n",
    "s,r,a,v = next(iter(train_iter))\n",
    "s = s[0].reshape(-1,time_step,state_size)\n",
    "r = torch.hstack([torch.full((1,1),wanna_ouput[0]),torch.full((1,1),wanna_ouput[1])])\n",
    "a = model.actor_forward(s,r,eval=True)\n",
    "v = model.critic_forward(s,a,eval=True)"
   ]
  },
  {
   "cell_type": "code",
   "execution_count": 18,
   "metadata": {},
   "outputs": [
    {
     "data": {
      "text/html": [
       "<style  type=\"text/css\" >\n",
       "#T_e6cbefac_3222_11ec_8199_ac1f6b871d7brow0_col0,#T_e6cbefac_3222_11ec_8199_ac1f6b871d7brow0_col3,#T_e6cbefac_3222_11ec_8199_ac1f6b871d7brow0_col6,#T_e6cbefac_3222_11ec_8199_ac1f6b871d7brow1_col2,#T_e6cbefac_3222_11ec_8199_ac1f6b871d7brow2_col7,#T_e6cbefac_3222_11ec_8199_ac1f6b871d7brow3_col4,#T_e6cbefac_3222_11ec_8199_ac1f6b871d7brow3_col5,#T_e6cbefac_3222_11ec_8199_ac1f6b871d7brow4_col1,#T_e6cbefac_3222_11ec_8199_ac1f6b871d7brow4_col5,#T_e6cbefac_3222_11ec_8199_ac1f6b871d7brow4_col8{\n",
       "            background-color:  #fff7fb;\n",
       "            color:  #000000;\n",
       "        }#T_e6cbefac_3222_11ec_8199_ac1f6b871d7brow0_col1,#T_e6cbefac_3222_11ec_8199_ac1f6b871d7brow0_col4,#T_e6cbefac_3222_11ec_8199_ac1f6b871d7brow0_col5,#T_e6cbefac_3222_11ec_8199_ac1f6b871d7brow0_col8,#T_e6cbefac_3222_11ec_8199_ac1f6b871d7brow1_col7,#T_e6cbefac_3222_11ec_8199_ac1f6b871d7brow2_col2,#T_e6cbefac_3222_11ec_8199_ac1f6b871d7brow3_col0,#T_e6cbefac_3222_11ec_8199_ac1f6b871d7brow4_col3,#T_e6cbefac_3222_11ec_8199_ac1f6b871d7brow4_col6{\n",
       "            background-color:  #023858;\n",
       "            color:  #f1f1f1;\n",
       "        }#T_e6cbefac_3222_11ec_8199_ac1f6b871d7brow0_col2{\n",
       "            background-color:  #97b7d7;\n",
       "            color:  #000000;\n",
       "        }#T_e6cbefac_3222_11ec_8199_ac1f6b871d7brow0_col7{\n",
       "            background-color:  #03456c;\n",
       "            color:  #f1f1f1;\n",
       "        }#T_e6cbefac_3222_11ec_8199_ac1f6b871d7brow1_col0{\n",
       "            background-color:  #056dac;\n",
       "            color:  #f1f1f1;\n",
       "        }#T_e6cbefac_3222_11ec_8199_ac1f6b871d7brow1_col1{\n",
       "            background-color:  #73a9cf;\n",
       "            color:  #000000;\n",
       "        }#T_e6cbefac_3222_11ec_8199_ac1f6b871d7brow1_col3{\n",
       "            background-color:  #0f76b3;\n",
       "            color:  #f1f1f1;\n",
       "        }#T_e6cbefac_3222_11ec_8199_ac1f6b871d7brow1_col4{\n",
       "            background-color:  #f8f1f8;\n",
       "            color:  #000000;\n",
       "        }#T_e6cbefac_3222_11ec_8199_ac1f6b871d7brow1_col5{\n",
       "            background-color:  #bfc9e1;\n",
       "            color:  #000000;\n",
       "        }#T_e6cbefac_3222_11ec_8199_ac1f6b871d7brow1_col6{\n",
       "            background-color:  #3d93c2;\n",
       "            color:  #000000;\n",
       "        }#T_e6cbefac_3222_11ec_8199_ac1f6b871d7brow1_col8{\n",
       "            background-color:  #67a4cc;\n",
       "            color:  #000000;\n",
       "        }#T_e6cbefac_3222_11ec_8199_ac1f6b871d7brow2_col0{\n",
       "            background-color:  #056dab;\n",
       "            color:  #f1f1f1;\n",
       "        }#T_e6cbefac_3222_11ec_8199_ac1f6b871d7brow2_col1{\n",
       "            background-color:  #e6e2ef;\n",
       "            color:  #000000;\n",
       "        }#T_e6cbefac_3222_11ec_8199_ac1f6b871d7brow2_col3{\n",
       "            background-color:  #045b8f;\n",
       "            color:  #f1f1f1;\n",
       "        }#T_e6cbefac_3222_11ec_8199_ac1f6b871d7brow2_col4{\n",
       "            background-color:  #fbf4f9;\n",
       "            color:  #000000;\n",
       "        }#T_e6cbefac_3222_11ec_8199_ac1f6b871d7brow2_col5{\n",
       "            background-color:  #dfddec;\n",
       "            color:  #000000;\n",
       "        }#T_e6cbefac_3222_11ec_8199_ac1f6b871d7brow2_col6{\n",
       "            background-color:  #04588a;\n",
       "            color:  #f1f1f1;\n",
       "        }#T_e6cbefac_3222_11ec_8199_ac1f6b871d7brow2_col8{\n",
       "            background-color:  #d8d7e9;\n",
       "            color:  #000000;\n",
       "        }#T_e6cbefac_3222_11ec_8199_ac1f6b871d7brow3_col1{\n",
       "            background-color:  #f0eaf4;\n",
       "            color:  #000000;\n",
       "        }#T_e6cbefac_3222_11ec_8199_ac1f6b871d7brow3_col2{\n",
       "            background-color:  #63a2cb;\n",
       "            color:  #000000;\n",
       "        }#T_e6cbefac_3222_11ec_8199_ac1f6b871d7brow3_col3{\n",
       "            background-color:  #023a5b;\n",
       "            color:  #f1f1f1;\n",
       "        }#T_e6cbefac_3222_11ec_8199_ac1f6b871d7brow3_col6{\n",
       "            background-color:  #03466e;\n",
       "            color:  #f1f1f1;\n",
       "        }#T_e6cbefac_3222_11ec_8199_ac1f6b871d7brow3_col7{\n",
       "            background-color:  #4e9ac6;\n",
       "            color:  #000000;\n",
       "        }#T_e6cbefac_3222_11ec_8199_ac1f6b871d7brow3_col8{\n",
       "            background-color:  #f4eef6;\n",
       "            color:  #000000;\n",
       "        }#T_e6cbefac_3222_11ec_8199_ac1f6b871d7brow4_col0{\n",
       "            background-color:  #023e62;\n",
       "            color:  #f1f1f1;\n",
       "        }#T_e6cbefac_3222_11ec_8199_ac1f6b871d7brow4_col2{\n",
       "            background-color:  #034d79;\n",
       "            color:  #f1f1f1;\n",
       "        }#T_e6cbefac_3222_11ec_8199_ac1f6b871d7brow4_col4{\n",
       "            background-color:  #fdf5fa;\n",
       "            color:  #000000;\n",
       "        }#T_e6cbefac_3222_11ec_8199_ac1f6b871d7brow4_col7{\n",
       "            background-color:  #9ab8d8;\n",
       "            color:  #000000;\n",
       "        }</style><table id=\"T_e6cbefac_3222_11ec_8199_ac1f6b871d7b\" ><thead>    <tr>        <th class=\"blank level0\" ></th>        <th class=\"col_heading level0 col0\" >0</th>        <th class=\"col_heading level0 col1\" >1</th>        <th class=\"col_heading level0 col2\" >2</th>        <th class=\"col_heading level0 col3\" >3</th>        <th class=\"col_heading level0 col4\" >4</th>        <th class=\"col_heading level0 col5\" >5</th>        <th class=\"col_heading level0 col6\" >6</th>        <th class=\"col_heading level0 col7\" >7</th>        <th class=\"col_heading level0 col8\" >8</th>    </tr></thead><tbody>\n",
       "                <tr>\n",
       "                        <th id=\"T_e6cbefac_3222_11ec_8199_ac1f6b871d7blevel0_row0\" class=\"row_heading level0 row0\" >0</th>\n",
       "                        <td id=\"T_e6cbefac_3222_11ec_8199_ac1f6b871d7brow0_col0\" class=\"data row0 col0\" >0.215377</td>\n",
       "                        <td id=\"T_e6cbefac_3222_11ec_8199_ac1f6b871d7brow0_col1\" class=\"data row0 col1\" >0.421855</td>\n",
       "                        <td id=\"T_e6cbefac_3222_11ec_8199_ac1f6b871d7brow0_col2\" class=\"data row0 col2\" >0.820803</td>\n",
       "                        <td id=\"T_e6cbefac_3222_11ec_8199_ac1f6b871d7brow0_col3\" class=\"data row0 col3\" >0.336286</td>\n",
       "                        <td id=\"T_e6cbefac_3222_11ec_8199_ac1f6b871d7brow0_col4\" class=\"data row0 col4\" >0.490393</td>\n",
       "                        <td id=\"T_e6cbefac_3222_11ec_8199_ac1f6b871d7brow0_col5\" class=\"data row0 col5\" >0.802820</td>\n",
       "                        <td id=\"T_e6cbefac_3222_11ec_8199_ac1f6b871d7brow0_col6\" class=\"data row0 col6\" >0.580587</td>\n",
       "                        <td id=\"T_e6cbefac_3222_11ec_8199_ac1f6b871d7brow0_col7\" class=\"data row0 col7\" >0.377294</td>\n",
       "                        <td id=\"T_e6cbefac_3222_11ec_8199_ac1f6b871d7brow0_col8\" class=\"data row0 col8\" >0.462055</td>\n",
       "            </tr>\n",
       "            <tr>\n",
       "                        <th id=\"T_e6cbefac_3222_11ec_8199_ac1f6b871d7blevel0_row1\" class=\"row_heading level0 row1\" >1</th>\n",
       "                        <td id=\"T_e6cbefac_3222_11ec_8199_ac1f6b871d7brow1_col0\" class=\"data row1 col0\" >0.215539</td>\n",
       "                        <td id=\"T_e6cbefac_3222_11ec_8199_ac1f6b871d7brow1_col1\" class=\"data row1 col1\" >0.421800</td>\n",
       "                        <td id=\"T_e6cbefac_3222_11ec_8199_ac1f6b871d7brow1_col2\" class=\"data row1 col2\" >0.820784</td>\n",
       "                        <td id=\"T_e6cbefac_3222_11ec_8199_ac1f6b871d7brow1_col3\" class=\"data row1 col3\" >0.336472</td>\n",
       "                        <td id=\"T_e6cbefac_3222_11ec_8199_ac1f6b871d7brow1_col4\" class=\"data row1 col4\" >0.490303</td>\n",
       "                        <td id=\"T_e6cbefac_3222_11ec_8199_ac1f6b871d7brow1_col5\" class=\"data row1 col5\" >0.802546</td>\n",
       "                        <td id=\"T_e6cbefac_3222_11ec_8199_ac1f6b871d7brow1_col6\" class=\"data row1 col6\" >0.580749</td>\n",
       "                        <td id=\"T_e6cbefac_3222_11ec_8199_ac1f6b871d7brow1_col7\" class=\"data row1 col7\" >0.377294</td>\n",
       "                        <td id=\"T_e6cbefac_3222_11ec_8199_ac1f6b871d7brow1_col8\" class=\"data row1 col8\" >0.461996</td>\n",
       "            </tr>\n",
       "            <tr>\n",
       "                        <th id=\"T_e6cbefac_3222_11ec_8199_ac1f6b871d7blevel0_row2\" class=\"row_heading level0 row2\" >2</th>\n",
       "                        <td id=\"T_e6cbefac_3222_11ec_8199_ac1f6b871d7brow2_col0\" class=\"data row2 col0\" >0.215539</td>\n",
       "                        <td id=\"T_e6cbefac_3222_11ec_8199_ac1f6b871d7brow2_col1\" class=\"data row2 col1\" >0.421762</td>\n",
       "                        <td id=\"T_e6cbefac_3222_11ec_8199_ac1f6b871d7brow2_col2\" class=\"data row2 col2\" >0.820831</td>\n",
       "                        <td id=\"T_e6cbefac_3222_11ec_8199_ac1f6b871d7brow2_col3\" class=\"data row2 col3\" >0.336508</td>\n",
       "                        <td id=\"T_e6cbefac_3222_11ec_8199_ac1f6b871d7brow2_col4\" class=\"data row2 col4\" >0.490301</td>\n",
       "                        <td id=\"T_e6cbefac_3222_11ec_8199_ac1f6b871d7brow2_col5\" class=\"data row2 col5\" >0.802499</td>\n",
       "                        <td id=\"T_e6cbefac_3222_11ec_8199_ac1f6b871d7brow2_col6\" class=\"data row2 col6\" >0.580820</td>\n",
       "                        <td id=\"T_e6cbefac_3222_11ec_8199_ac1f6b871d7brow2_col7\" class=\"data row2 col7\" >0.377282</td>\n",
       "                        <td id=\"T_e6cbefac_3222_11ec_8199_ac1f6b871d7brow2_col8\" class=\"data row2 col8\" >0.461958</td>\n",
       "            </tr>\n",
       "            <tr>\n",
       "                        <th id=\"T_e6cbefac_3222_11ec_8199_ac1f6b871d7blevel0_row3\" class=\"row_heading level0 row3\" >3</th>\n",
       "                        <td id=\"T_e6cbefac_3222_11ec_8199_ac1f6b871d7brow3_col0\" class=\"data row3 col0\" >0.215588</td>\n",
       "                        <td id=\"T_e6cbefac_3222_11ec_8199_ac1f6b871d7brow3_col1\" class=\"data row3 col1\" >0.421756</td>\n",
       "                        <td id=\"T_e6cbefac_3222_11ec_8199_ac1f6b871d7brow3_col2\" class=\"data row3 col2\" >0.820809</td>\n",
       "                        <td id=\"T_e6cbefac_3222_11ec_8199_ac1f6b871d7brow3_col3\" class=\"data row3 col3\" >0.336541</td>\n",
       "                        <td id=\"T_e6cbefac_3222_11ec_8199_ac1f6b871d7brow3_col4\" class=\"data row3 col4\" >0.490299</td>\n",
       "                        <td id=\"T_e6cbefac_3222_11ec_8199_ac1f6b871d7brow3_col5\" class=\"data row3 col5\" >0.802427</td>\n",
       "                        <td id=\"T_e6cbefac_3222_11ec_8199_ac1f6b871d7brow3_col6\" class=\"data row3 col6\" >0.580838</td>\n",
       "                        <td id=\"T_e6cbefac_3222_11ec_8199_ac1f6b871d7brow3_col7\" class=\"data row3 col7\" >0.377289</td>\n",
       "                        <td id=\"T_e6cbefac_3222_11ec_8199_ac1f6b871d7brow3_col8\" class=\"data row3 col8\" >0.461940</td>\n",
       "            </tr>\n",
       "            <tr>\n",
       "                        <th id=\"T_e6cbefac_3222_11ec_8199_ac1f6b871d7blevel0_row4\" class=\"row_heading level0 row4\" >4</th>\n",
       "                        <td id=\"T_e6cbefac_3222_11ec_8199_ac1f6b871d7brow4_col0\" class=\"data row4 col0\" >0.215583</td>\n",
       "                        <td id=\"T_e6cbefac_3222_11ec_8199_ac1f6b871d7brow4_col1\" class=\"data row4 col1\" >0.421745</td>\n",
       "                        <td id=\"T_e6cbefac_3222_11ec_8199_ac1f6b871d7brow4_col2\" class=\"data row4 col2\" >0.820827</td>\n",
       "                        <td id=\"T_e6cbefac_3222_11ec_8199_ac1f6b871d7brow4_col3\" class=\"data row4 col3\" >0.336543</td>\n",
       "                        <td id=\"T_e6cbefac_3222_11ec_8199_ac1f6b871d7brow4_col4\" class=\"data row4 col4\" >0.490300</td>\n",
       "                        <td id=\"T_e6cbefac_3222_11ec_8199_ac1f6b871d7brow4_col5\" class=\"data row4 col5\" >0.802428</td>\n",
       "                        <td id=\"T_e6cbefac_3222_11ec_8199_ac1f6b871d7brow4_col6\" class=\"data row4 col6\" >0.580851</td>\n",
       "                        <td id=\"T_e6cbefac_3222_11ec_8199_ac1f6b871d7brow4_col7\" class=\"data row4 col7\" >0.377287</td>\n",
       "                        <td id=\"T_e6cbefac_3222_11ec_8199_ac1f6b871d7brow4_col8\" class=\"data row4 col8\" >0.461931</td>\n",
       "            </tr>\n",
       "    </tbody></table>"
      ],
      "text/plain": [
       "<pandas.io.formats.style.Styler at 0x1cf27384ca0>"
      ]
     },
     "execution_count": 18,
     "metadata": {},
     "output_type": "execute_result"
    }
   ],
   "source": [
    "# 模型建議操作\n",
    "pd.DataFrame(a[0].detach().numpy()).head().style.background_gradient()"
   ]
  },
  {
   "cell_type": "code",
   "execution_count": 19,
   "metadata": {},
   "outputs": [
    {
     "name": "stdout",
     "output_type": "stream",
     "text": [
      "value:[[0.88857734 0.61668706]]\n",
      "\n"
     ]
    }
   ],
   "source": [
    "# 模型預測根據上述操作應當的產出\n",
    "print(f'value:{v.detach().numpy()}\\n')"
   ]
  },
  {
   "cell_type": "code",
   "execution_count": 20,
   "metadata": {},
   "outputs": [
    {
     "data": {
      "application/vnd.jupyter.widget-view+json": {
       "model_id": "b86c4998a762410fb3dea264f30aa76c",
       "version_major": 2,
       "version_minor": 0
      },
      "text/plain": [
       "HBox(children=(HTML(value=''), FloatProgress(value=0.0, max=365.0), HTML(value='')))"
      ]
     },
     "metadata": {},
     "output_type": "display_data"
    },
    {
     "name": "stdout",
     "output_type": "stream",
     "text": [
      "\n"
     ]
    }
   ],
   "source": [
    "wanna_ouput = [0.897141,0.655521]\n",
    "values_list = []\n",
    "for i in tqdm(range(365)):\n",
    "    s,r,a,v = next(iter(train_iter))\n",
    "    s = s[0].reshape(-1,time_step,state_size)\n",
    "    r = torch.hstack([torch.full((1,1),wanna_ouput[0]),torch.full((1,1),wanna_ouput[1])])\n",
    "    a = model.actor_forward(s,r,eval=True)# 模型建議操作\n",
    "    v = model.critic_forward(s,a,eval=True)\n",
    "    values_list.append(v.detach().numpy()[0])\n",
    "values_list = np.array(values_list)"
   ]
  },
  {
   "cell_type": "code",
   "execution_count": 31,
   "metadata": {},
   "outputs": [
    {
     "data": {
      "image/png": "[encoded data removed]",
      "text/plain": [
       "<Figure size 432x288 with 1 Axes>"
      ]
     },
     "metadata": {
      "needs_background": "light"
     },
     "output_type": "display_data"
    },
    {
     "data": {
      "image/png": "[encoded data removed]",
      "text/plain": [
       "<Figure size 432x288 with 1 Axes>"
      ]
     },
     "metadata": {
      "needs_background": "light"
     },
     "output_type": "display_data"
    }
   ],
   "source": [
    "data = joblib.load('..\\data\\dataset.pkl')\n",
    "a = pd.DataFrame(data['value'],columns=['Ethylene','Propene'])\n",
    "\n",
    "sns.kdeplot(values_list[:,0],label='AI Ethylene',color='r')\n",
    "sns.kdeplot(data['value'][:,0],label='ORIGINAL Ethylene',color='b')\n",
    "plt.axvline(x=a.describe().loc['50%','Ethylene'], label= \"50%\"+'Ethylene', c='k',alpha=0.5)\n",
    "plt.axvline(x=a.describe().loc['75%','Ethylene'], label= \"75%\"+'Ethylene', c='k',alpha=0.5)\n",
    "plt.legend()\n",
    "plt.title('Ethylene')\n",
    "plt.show()\n",
    "\n",
    "sns.kdeplot(values_list[:,1],label='AI Propene',color='r')\n",
    "sns.kdeplot(data['value'][:,1],label='ORIGINAL Propene',color='b')\n",
    "plt.axvline(x=a.describe().loc['50%','Propene'], label= \"50%\"+'Propene', c='k',alpha=0.5)\n",
    "plt.axvline(x=a.describe().loc['75%','Propene'], label= \"75%\"+'Propene', c='k',alpha=0.5)\n",
    "plt.legend()\n",
    "plt.title('Propene')\n",
    "plt.show()"
   ]
  },
  {
   "cell_type": "code",
   "execution_count": 32,
   "metadata": {},
   "outputs": [],
   "source": [
    "# save weight\n",
    "torch.save(model.actor.state_dict(),'../model/actor.pth')\n",
    "torch.save(model.critic.state_dict(),'../model/critic.pth')"
   ]
  },
  {
   "cell_type": "code",
   "execution_count": null,
   "metadata": {},
   "outputs": [],
   "source": []
  }
 ],
 "metadata": {
  "interpreter": {
   "hash": "2ccee5cc862501c1aad1cf19888c2a2eca4026b72d187db43d5e889cbdc6ee97"
  },
  "kernelspec": {
   "display_name": "Python 3.8.5 64-bit ('base': conda)",
   "name": "python3"
  },
  "language_info": {
   "codemirror_mode": {
    "name": "ipython",
    "version": 3
   },
   "file_extension": ".py",
   "mimetype": "text/x-python",
   "name": "python",
   "nbconvert_exporter": "python",
   "pygments_lexer": "ipython3",
   "version": "3.8.5"
  },
  "orig_nbformat": 4
 },
 "nbformat": 4,
 "nbformat_minor": 2
}
