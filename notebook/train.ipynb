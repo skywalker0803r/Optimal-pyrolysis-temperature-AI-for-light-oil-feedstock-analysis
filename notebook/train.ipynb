{
 "cells": [
  {
   "cell_type": "code",
   "execution_count": 141,
   "metadata": {},
   "outputs": [
    {
     "name": "stderr",
     "output_type": "stream",
     "text": [
      "Global seed set to 42\n"
     ]
    }
   ],
   "source": [
    "\n",
    "import torch\n",
    "import torch.nn as nn\n",
    "import numpy as np\n",
    "from torch.optim import Adam\n",
    "import pandas as pd\n",
    "from torch.utils.data import TensorDataset,DataLoader\n",
    "import joblib\n",
    "import requests\n",
    "from tqdm import tqdm_notebook as tqdm\n",
    "from pytorch_lightning import seed_everything\n",
    "import random\n",
    "import warnings \n",
    "import matplotlib.pyplot as plt\n",
    "import seaborn as sns\n",
    "warnings.filterwarnings('ignore')\n",
    "exec(requests.get('https://raw.githubusercontent.com/facebookresearch/madgrad/main/madgrad/madgrad.py').text)\n",
    "\n",
    "def set_seed(seed = int):\n",
    "    '''Sets the seed of the entire notebook so results are the same every time we run.\n",
    "    This is for REPRODUCIBILITY.'''\n",
    "    np.random.seed(seed)\n",
    "    random_state = np.random.RandomState(seed)\n",
    "    random.seed(seed)\n",
    "    torch.manual_seed(seed)\n",
    "    torch.cuda.manual_seed(seed)\n",
    "    torch.backends.cudnn.deterministic = True\n",
    "    torch.backends.cudnn.benchmark = False\n",
    "    os.environ['PYTHONHASHSEED'] = str(seed)\n",
    "    seed_everything(seed)\n",
    "    return random_state\n",
    "random_state = set_seed(42)"
   ]
  },
  {
   "cell_type": "markdown",
   "metadata": {},
   "source": [
    "# config"
   ]
  },
  {
   "cell_type": "code",
   "execution_count": 142,
   "metadata": {},
   "outputs": [],
   "source": [
    "batch_size = 32\n",
    "hidden_size = 128\n",
    "state_size = 6\n",
    "request_size = 2\n",
    "value_size = 2\n",
    "action_size = 9\n",
    "time_step = 144"
   ]
  },
  {
   "cell_type": "code",
   "execution_count": 143,
   "metadata": {},
   "outputs": [
    {
     "data": {
      "text/html": [
       "<div>\n",
       "<style scoped>\n",
       "    .dataframe tbody tr th:only-of-type {\n",
       "        vertical-align: middle;\n",
       "    }\n",
       "\n",
       "    .dataframe tbody tr th {\n",
       "        vertical-align: top;\n",
       "    }\n",
       "\n",
       "    .dataframe thead th {\n",
       "        text-align: right;\n",
       "    }\n",
       "</style>\n",
       "<table border=\"1\" class=\"dataframe\">\n",
       "  <thead>\n",
       "    <tr style=\"text-align: right;\">\n",
       "      <th></th>\n",
       "      <th>0</th>\n",
       "      <th>1</th>\n",
       "    </tr>\n",
       "  </thead>\n",
       "  <tbody>\n",
       "    <tr>\n",
       "      <th>count</th>\n",
       "      <td>1064.000000</td>\n",
       "      <td>1064.000000</td>\n",
       "    </tr>\n",
       "    <tr>\n",
       "      <th>mean</th>\n",
       "      <td>0.930448</td>\n",
       "      <td>0.847975</td>\n",
       "    </tr>\n",
       "    <tr>\n",
       "      <th>std</th>\n",
       "      <td>0.146101</td>\n",
       "      <td>0.133349</td>\n",
       "    </tr>\n",
       "    <tr>\n",
       "      <th>min</th>\n",
       "      <td>0.000000</td>\n",
       "      <td>0.000000</td>\n",
       "    </tr>\n",
       "    <tr>\n",
       "      <th>25%</th>\n",
       "      <td>0.955266</td>\n",
       "      <td>0.847202</td>\n",
       "    </tr>\n",
       "    <tr>\n",
       "      <th>50%</th>\n",
       "      <td>0.965813</td>\n",
       "      <td>0.875300</td>\n",
       "    </tr>\n",
       "    <tr>\n",
       "      <th>75%</th>\n",
       "      <td>0.973432</td>\n",
       "      <td>0.896507</td>\n",
       "    </tr>\n",
       "    <tr>\n",
       "      <th>max</th>\n",
       "      <td>1.000000</td>\n",
       "      <td>1.000000</td>\n",
       "    </tr>\n",
       "  </tbody>\n",
       "</table>\n",
       "</div>"
      ],
      "text/plain": [
       "                 0            1\n",
       "count  1064.000000  1064.000000\n",
       "mean      0.930448     0.847975\n",
       "std       0.146101     0.133349\n",
       "min       0.000000     0.000000\n",
       "25%       0.955266     0.847202\n",
       "50%       0.965813     0.875300\n",
       "75%       0.973432     0.896507\n",
       "max       1.000000     1.000000"
      ]
     },
     "metadata": {},
     "output_type": "display_data"
    },
    {
     "data": {
      "text/html": [
       "<div>\n",
       "<style scoped>\n",
       "    .dataframe tbody tr th:only-of-type {\n",
       "        vertical-align: middle;\n",
       "    }\n",
       "\n",
       "    .dataframe tbody tr th {\n",
       "        vertical-align: top;\n",
       "    }\n",
       "\n",
       "    .dataframe thead th {\n",
       "        text-align: right;\n",
       "    }\n",
       "</style>\n",
       "<table border=\"1\" class=\"dataframe\">\n",
       "  <thead>\n",
       "    <tr style=\"text-align: right;\">\n",
       "      <th></th>\n",
       "      <th>0</th>\n",
       "      <th>1</th>\n",
       "    </tr>\n",
       "  </thead>\n",
       "  <tbody>\n",
       "    <tr>\n",
       "      <th>count</th>\n",
       "      <td>1064.000000</td>\n",
       "      <td>1064.000000</td>\n",
       "    </tr>\n",
       "    <tr>\n",
       "      <th>mean</th>\n",
       "      <td>0.982744</td>\n",
       "      <td>0.938077</td>\n",
       "    </tr>\n",
       "    <tr>\n",
       "      <th>std</th>\n",
       "      <td>0.010038</td>\n",
       "      <td>0.036302</td>\n",
       "    </tr>\n",
       "    <tr>\n",
       "      <th>min</th>\n",
       "      <td>0.965971</td>\n",
       "      <td>0.875702</td>\n",
       "    </tr>\n",
       "    <tr>\n",
       "      <th>25%</th>\n",
       "      <td>0.973951</td>\n",
       "      <td>0.905114</td>\n",
       "    </tr>\n",
       "    <tr>\n",
       "      <th>50%</th>\n",
       "      <td>0.982999</td>\n",
       "      <td>0.939365</td>\n",
       "    </tr>\n",
       "    <tr>\n",
       "      <th>75%</th>\n",
       "      <td>0.991476</td>\n",
       "      <td>0.969612</td>\n",
       "    </tr>\n",
       "    <tr>\n",
       "      <th>max</th>\n",
       "      <td>0.999990</td>\n",
       "      <td>0.999927</td>\n",
       "    </tr>\n",
       "  </tbody>\n",
       "</table>\n",
       "</div>"
      ],
      "text/plain": [
       "                 0            1\n",
       "count  1064.000000  1064.000000\n",
       "mean      0.982744     0.938077\n",
       "std       0.010038     0.036302\n",
       "min       0.965971     0.875702\n",
       "25%       0.973951     0.905114\n",
       "50%       0.982999     0.939365\n",
       "75%       0.991476     0.969612\n",
       "max       0.999990     0.999927"
      ]
     },
     "metadata": {},
     "output_type": "display_data"
    },
    {
     "data": {
      "text/html": [
       "<div>\n",
       "<style scoped>\n",
       "    .dataframe tbody tr th:only-of-type {\n",
       "        vertical-align: middle;\n",
       "    }\n",
       "\n",
       "    .dataframe tbody tr th {\n",
       "        vertical-align: top;\n",
       "    }\n",
       "\n",
       "    .dataframe thead th {\n",
       "        text-align: right;\n",
       "    }\n",
       "</style>\n",
       "<table border=\"1\" class=\"dataframe\">\n",
       "  <thead>\n",
       "    <tr style=\"text-align: right;\">\n",
       "      <th></th>\n",
       "      <th>Ethylene</th>\n",
       "      <th>Propene</th>\n",
       "    </tr>\n",
       "  </thead>\n",
       "  <tbody>\n",
       "    <tr>\n",
       "      <th>count</th>\n",
       "      <td>1064.000000</td>\n",
       "      <td>1064.000000</td>\n",
       "    </tr>\n",
       "    <tr>\n",
       "      <th>mean</th>\n",
       "      <td>0.930448</td>\n",
       "      <td>0.847975</td>\n",
       "    </tr>\n",
       "    <tr>\n",
       "      <th>std</th>\n",
       "      <td>0.146101</td>\n",
       "      <td>0.133349</td>\n",
       "    </tr>\n",
       "    <tr>\n",
       "      <th>min</th>\n",
       "      <td>0.000000</td>\n",
       "      <td>0.000000</td>\n",
       "    </tr>\n",
       "    <tr>\n",
       "      <th>25%</th>\n",
       "      <td>0.955266</td>\n",
       "      <td>0.847202</td>\n",
       "    </tr>\n",
       "    <tr>\n",
       "      <th>50%</th>\n",
       "      <td>0.965813</td>\n",
       "      <td>0.875300</td>\n",
       "    </tr>\n",
       "    <tr>\n",
       "      <th>75%</th>\n",
       "      <td>0.973432</td>\n",
       "      <td>0.896507</td>\n",
       "    </tr>\n",
       "    <tr>\n",
       "      <th>max</th>\n",
       "      <td>1.000000</td>\n",
       "      <td>1.000000</td>\n",
       "    </tr>\n",
       "  </tbody>\n",
       "</table>\n",
       "</div>"
      ],
      "text/plain": [
       "          Ethylene      Propene\n",
       "count  1064.000000  1064.000000\n",
       "mean      0.930448     0.847975\n",
       "std       0.146101     0.133349\n",
       "min       0.000000     0.000000\n",
       "25%       0.955266     0.847202\n",
       "50%       0.965813     0.875300\n",
       "75%       0.973432     0.896507\n",
       "max       1.000000     1.000000"
      ]
     },
     "metadata": {},
     "output_type": "display_data"
    },
    {
     "data": {
      "image/png": "[encoded data removed]",
      "text/plain": [
       "<Figure size 432x288 with 1 Axes>"
      ]
     },
     "metadata": {
      "needs_background": "light"
     },
     "output_type": "display_data"
    },
    {
     "data": {
      "image/png": "[encoded data removed]",
      "text/plain": [
       "<Figure size 432x288 with 1 Axes>"
      ]
     },
     "metadata": {
      "needs_background": "light"
     },
     "output_type": "display_data"
    },
    {
     "name": "stdout",
     "output_type": "stream",
     "text": [
      "(1064, 144, 6)\n",
      "(1064, 144, 9)\n",
      "(1064, 2)\n",
      "(1064, 2)\n"
     ]
    }
   ],
   "source": [
    "# Load data\n",
    "data = joblib.load('..\\data\\dataset.pkl')\n",
    "\n",
    "#for i in ['state','action','value']:\n",
    "#    data[i] = np.vstack([data[i],data[i],data[i],data[i]])\n",
    "\n",
    "a = pd.DataFrame(data['value']).describe()\n",
    "display(a)\n",
    "\n",
    "data['request'] = np.hstack([\n",
    "    np.random.uniform(low=a.loc['50%'][0],high=a.loc['max'][0],size=(data['value'].shape[0],1)),\n",
    "    np.random.uniform(low=a.loc['50%'][1],high=a.loc['max'][1],size=(data['value'].shape[0],1))])\n",
    "\n",
    "b = pd.DataFrame(data['request']).describe()\n",
    "display(b)\n",
    "\n",
    "a = pd.DataFrame(data['value'],columns=['Ethylene','Propene'])\n",
    "display(a.describe())\n",
    "for i in ['Ethylene','Propene']:\n",
    "    sns.kdeplot(a[i],color='b')\n",
    "    plt.axvline(x=a.describe().loc['50%',i], label= \"50%\"+i, c='r')\n",
    "    plt.axvline(x=a.describe().loc['max',i], label= \"max\"+i, c='r')\n",
    "    plt.legend()\n",
    "    plt.title(i)\n",
    "    plt.show()\n",
    "describe = a.describe()\n",
    "\n",
    "\n",
    "\n",
    "# shape\n",
    "print(data['state'].shape)\n",
    "print(data['action'].shape)\n",
    "print(data['value'].shape)\n",
    "print(data['request'].shape)\n",
    "\n",
    "# tensor\n",
    "data['state'] = torch.FloatTensor(data['state'])\n",
    "data['request'] = torch.FloatTensor(data['request'])\n",
    "data['action'] = torch.FloatTensor(data['action'])\n",
    "data['value'] = torch.FloatTensor(data['value'])\n",
    "\n",
    "\n",
    "\n",
    "# data_iter\n",
    "data = TensorDataset(data['state'],data['request'],data['action'],data['value'])\n",
    "train_iter = DataLoader(data,batch_size=batch_size,shuffle=True)"
   ]
  },
  {
   "cell_type": "markdown",
   "metadata": {},
   "source": [
    "# R2D2 MODEL"
   ]
  },
  {
   "cell_type": "code",
   "execution_count": 144,
   "metadata": {},
   "outputs": [],
   "source": [
    "\n",
    "class R2D2(nn.Module):\n",
    "  def __init__(self,obs_size,n_actions,hidden_size):\n",
    "    super().__init__()\n",
    "    self.hidden_size = hidden_size\n",
    "    self.l1 = nn.Linear(obs_size,self.hidden_size)\n",
    "    self.l2 = nn.LSTMCell(self.hidden_size,self.hidden_size)\n",
    "    self.l3 = nn.Linear(self.hidden_size,n_actions)\n",
    "  \n",
    "  def forward(self,x,hx,cx):\n",
    "    x = torch.tanh(self.l1(x))\n",
    "    hx,cx = self.l2(x,(hx,cx))\n",
    "    x = torch.tanh(hx)\n",
    "    x = torch.sigmoid(self.l3(x)) # to range[0,1]\n",
    "    return x,hx,cx\n"
   ]
  },
  {
   "cell_type": "markdown",
   "metadata": {},
   "source": [
    "# ActorCritic Model"
   ]
  },
  {
   "cell_type": "code",
   "execution_count": 145,
   "metadata": {},
   "outputs": [],
   "source": [
    "class ActorCritic(nn.Module):\n",
    "  def __init__(self,actor,critic,time_step):\n",
    "    super().__init__()\n",
    "    self.time_step = time_step\n",
    "    \n",
    "    self.actor = actor\n",
    "    self.actor_optimizer = MADGRAD(actor.parameters() ,lr = 1e-3)\n",
    "    \n",
    "    self.critic = critic\n",
    "    self.critic_optimizer = MADGRAD(critic.parameters() ,lr = 1e-3)\n",
    "  \n",
    "  def forward(self,state,request):\n",
    "    actions = self.actor_forward(state,request)\n",
    "    values = self.critic_forward(state,actions)\n",
    "    return values\n",
    "\n",
    "  def actor_forward(self,state,request,eval=False):\n",
    "    '''\n",
    "    # 給定狀態(不可控)和需求 輸出一系列動作\n",
    "    '''\n",
    "    # train or eval model\n",
    "    if eval == True:\n",
    "      self.actor.eval()\n",
    "    else:\n",
    "      self.actor.train()\n",
    "    \n",
    "    # initialize hx,cx\n",
    "    hx = torch.zeros((state.size()[0],actor.hidden_size))\n",
    "    cx = torch.zeros((state.size()[0],actor.hidden_size))\n",
    "    \n",
    "    # get actions shape(batch_size,time_step,action_size)\n",
    "    actions = torch.FloatTensor()\n",
    "    \n",
    "    # 對一定時間長度進行遍歷\n",
    "    for t in range(self.time_step):\n",
    "      # 在t時刻 根據t時刻的狀態,需求以及短期記憶hx,長期記憶cx當作輸入,得到輸出a(動作),更新後的短期記憶hx,更新後的長期記憶cx\n",
    "      a,hx,cx = self.actor(torch.cat((state[:,t,:],request),dim=1),hx,cx)\n",
    "      actions = torch.cat((actions,a),dim=1)\n",
    "    # 一系列動作 (Batch,Time,Features)\n",
    "    actions = actions.reshape(state.size()[0],self.time_step,-1)\n",
    "    \n",
    "    return actions\n",
    "  \n",
    "  def critic_forward(self,state,action,eval=False):\n",
    "    '''\n",
    "    # 輸入狀態(不可控)和一系列動作(可控),預測產出\n",
    "    '''\n",
    "\n",
    "    # train or eval model\n",
    "    if eval == True:\n",
    "      self.critic.eval()\n",
    "    else:\n",
    "      self.critic.train()\n",
    "    \n",
    "    # initialize hx,cx\n",
    "    hx = torch.zeros((state.size()[0],critic.hidden_size))\n",
    "    cx = torch.zeros((state.size()[0],critic.hidden_size))\n",
    "\n",
    "    # get values shape(batch_size,time_step,value_size)\n",
    "    values = torch.FloatTensor()\n",
    "    \n",
    "    # 對時間點遍歷\n",
    "    for t in range(self.time_step):\n",
    "      # 根據當前t時刻狀態,動作,hx,cx當輸入得到,v(產出),更新hx,cx\n",
    "      v,hx,cx = self.critic(torch.cat((state[:,t,:],action[:,t,:]),dim=1),hx,cx)\n",
    "      values = torch.cat((values,v),dim=1)\n",
    "    \n",
    "    # 一系列產出(Batch,Time,Features)\n",
    "    values = values.reshape(state.size()[0],self.time_step,-1)\n",
    "    \n",
    "    # 只取最後一個時間點\n",
    "    return values[:,-1,:] # return last time_step\n",
    "\n",
    "  def train_critic(self,state,action,value):\n",
    "    '''\n",
    "    x: [state,action]\n",
    "    y: [value]\n",
    "    '監督式學習'\n",
    "    '''\n",
    "    self.critic.train()\n",
    "    self.actor.eval()\n",
    "    value_hat = self.critic_forward(state,action)\n",
    "    \n",
    "    # 預測值跟label的平方差愈小愈好\n",
    "    loss = ((value_hat-value)**2).mean()\n",
    "    loss.backward()\n",
    "    self.critic_optimizer.step()\n",
    "    self.critic_optimizer.zero_grad()\n",
    "    return loss.item()\n",
    "  \n",
    "  def train_actor(self,state,request):\n",
    "    '''\n",
    "    x: [state,request]\n",
    "    y: maximum critic value\n",
    "    '最小化產出跟request的差異'\n",
    "    '''\n",
    "    self.actor.train()\n",
    "    self.critic.eval()\n",
    "    actions = self.actor_forward(state,request)\n",
    "    value_hat = self.critic_forward(state,actions)\n",
    "\n",
    "    # 首先預測值跟需求的平方差愈小愈好\n",
    "    loss1 = ((request-value_hat)**2).mean()\n",
    "\n",
    "    # 再來避免\"變異數太大(時間維度上)\" 因為盤控人員不可能突然調太多\n",
    "    loss2 = actions.reshape(-1,time_step,action_size).std(axis=1)\n",
    "    loss2 = loss2.sum(axis=-1).mean(axis=0)\n",
    "\n",
    "    loss = loss1 + loss2\n",
    "    loss.backward()\n",
    "    \n",
    "    self.actor_optimizer.step()\n",
    "    self.actor.zero_grad()\n",
    "\n",
    "    return loss.item()"
   ]
  },
  {
   "cell_type": "code",
   "execution_count": 146,
   "metadata": {},
   "outputs": [],
   "source": [
    "actor = R2D2(state_size+request_size,action_size,hidden_size)\n",
    "critic = R2D2(state_size+action_size,value_size,hidden_size)\n",
    "model = ActorCritic(actor,critic,time_step)"
   ]
  },
  {
   "cell_type": "markdown",
   "metadata": {},
   "source": [
    "# train loop"
   ]
  },
  {
   "cell_type": "code",
   "execution_count": 147,
   "metadata": {},
   "outputs": [],
   "source": [
    "def train_critic():\n",
    "  loss = 0\n",
    "  for i,(bs,br,ba,bv) in enumerate(train_iter):\n",
    "    loss += model.train_critic(bs,ba,bv)\n",
    "  return loss\n",
    "\n",
    "def train_actor():\n",
    "  loss = 0\n",
    "  for i,(bs,br,ba,bv) in enumerate(train_iter):\n",
    "    loss += model.train_actor(bs,br)\n",
    "  return loss\n",
    "\n",
    "def train(model,train_iter,epochs=100):\n",
    "  train_history = {}\n",
    "  train_history['actor'] = []\n",
    "  train_history['critic'] = []\n",
    "  \n",
    "  for epoch in tqdm(range(epochs)):\n",
    "    loss = train_critic()\n",
    "    train_history['critic'].append(loss)\n",
    "    if epoch % 10 == 0:\n",
    "      print('epoch:{} critic_loss:{}'.format(epoch,loss))\n",
    "    \n",
    "  for epoch in tqdm(range(epochs)):\n",
    "    loss = train_actor()\n",
    "    train_history['actor'].append(loss)\n",
    "    if epoch % 10 == 0:\n",
    "      print('epoch:{} actor_loss:{}'.format(epoch,loss))\n",
    "    \n",
    "  return model,train_history"
   ]
  },
  {
   "cell_type": "code",
   "execution_count": 148,
   "metadata": {},
   "outputs": [
    {
     "name": "stdout",
     "output_type": "stream",
     "text": [
      "torch.Size([32, 144, 9])\n"
     ]
    },
    {
     "data": {
      "text/html": [
       "<style  type=\"text/css\" >\n",
       "#T_bcb29bcc_4822_11ec_a8ec_ac1f6b871d7brow0_col0,#T_bcb29bcc_4822_11ec_a8ec_ac1f6b871d7brow0_col1,#T_bcb29bcc_4822_11ec_a8ec_ac1f6b871d7brow0_col4,#T_bcb29bcc_4822_11ec_a8ec_ac1f6b871d7brow0_col5,#T_bcb29bcc_4822_11ec_a8ec_ac1f6b871d7brow1_col6,#T_bcb29bcc_4822_11ec_a8ec_ac1f6b871d7brow2_col2,#T_bcb29bcc_4822_11ec_a8ec_ac1f6b871d7brow4_col3,#T_bcb29bcc_4822_11ec_a8ec_ac1f6b871d7brow4_col7,#T_bcb29bcc_4822_11ec_a8ec_ac1f6b871d7brow4_col8{\n",
       "            background-color:  #fff7fb;\n",
       "            color:  #000000;\n",
       "        }#T_bcb29bcc_4822_11ec_a8ec_ac1f6b871d7brow0_col2,#T_bcb29bcc_4822_11ec_a8ec_ac1f6b871d7brow0_col3,#T_bcb29bcc_4822_11ec_a8ec_ac1f6b871d7brow0_col6,#T_bcb29bcc_4822_11ec_a8ec_ac1f6b871d7brow0_col7,#T_bcb29bcc_4822_11ec_a8ec_ac1f6b871d7brow1_col8,#T_bcb29bcc_4822_11ec_a8ec_ac1f6b871d7brow3_col1,#T_bcb29bcc_4822_11ec_a8ec_ac1f6b871d7brow4_col0,#T_bcb29bcc_4822_11ec_a8ec_ac1f6b871d7brow4_col4,#T_bcb29bcc_4822_11ec_a8ec_ac1f6b871d7brow4_col5{\n",
       "            background-color:  #023858;\n",
       "            color:  #f1f1f1;\n",
       "        }#T_bcb29bcc_4822_11ec_a8ec_ac1f6b871d7brow0_col8{\n",
       "            background-color:  #2484ba;\n",
       "            color:  #000000;\n",
       "        }#T_bcb29bcc_4822_11ec_a8ec_ac1f6b871d7brow1_col0{\n",
       "            background-color:  #81aed2;\n",
       "            color:  #000000;\n",
       "        }#T_bcb29bcc_4822_11ec_a8ec_ac1f6b871d7brow1_col1,#T_bcb29bcc_4822_11ec_a8ec_ac1f6b871d7brow1_col4{\n",
       "            background-color:  #1e80b8;\n",
       "            color:  #000000;\n",
       "        }#T_bcb29bcc_4822_11ec_a8ec_ac1f6b871d7brow1_col2{\n",
       "            background-color:  #dddbec;\n",
       "            color:  #000000;\n",
       "        }#T_bcb29bcc_4822_11ec_a8ec_ac1f6b871d7brow1_col3{\n",
       "            background-color:  #7bacd1;\n",
       "            color:  #000000;\n",
       "        }#T_bcb29bcc_4822_11ec_a8ec_ac1f6b871d7brow1_col5{\n",
       "            background-color:  #4697c4;\n",
       "            color:  #000000;\n",
       "        }#T_bcb29bcc_4822_11ec_a8ec_ac1f6b871d7brow1_col7{\n",
       "            background-color:  #63a2cb;\n",
       "            color:  #000000;\n",
       "        }#T_bcb29bcc_4822_11ec_a8ec_ac1f6b871d7brow2_col0{\n",
       "            background-color:  #0570b0;\n",
       "            color:  #f1f1f1;\n",
       "        }#T_bcb29bcc_4822_11ec_a8ec_ac1f6b871d7brow2_col1{\n",
       "            background-color:  #034973;\n",
       "            color:  #f1f1f1;\n",
       "        }#T_bcb29bcc_4822_11ec_a8ec_ac1f6b871d7brow2_col3{\n",
       "            background-color:  #d8d7e9;\n",
       "            color:  #000000;\n",
       "        }#T_bcb29bcc_4822_11ec_a8ec_ac1f6b871d7brow2_col4{\n",
       "            background-color:  #034f7d;\n",
       "            color:  #f1f1f1;\n",
       "        }#T_bcb29bcc_4822_11ec_a8ec_ac1f6b871d7brow2_col5{\n",
       "            background-color:  #046299;\n",
       "            color:  #f1f1f1;\n",
       "        }#T_bcb29bcc_4822_11ec_a8ec_ac1f6b871d7brow2_col6{\n",
       "            background-color:  #faf3f9;\n",
       "            color:  #000000;\n",
       "        }#T_bcb29bcc_4822_11ec_a8ec_ac1f6b871d7brow2_col7{\n",
       "            background-color:  #d3d4e7;\n",
       "            color:  #000000;\n",
       "        }#T_bcb29bcc_4822_11ec_a8ec_ac1f6b871d7brow2_col8{\n",
       "            background-color:  #3790c0;\n",
       "            color:  #000000;\n",
       "        }#T_bcb29bcc_4822_11ec_a8ec_ac1f6b871d7brow3_col0{\n",
       "            background-color:  #03517e;\n",
       "            color:  #f1f1f1;\n",
       "        }#T_bcb29bcc_4822_11ec_a8ec_ac1f6b871d7brow3_col2{\n",
       "            background-color:  #f9f2f8;\n",
       "            color:  #000000;\n",
       "        }#T_bcb29bcc_4822_11ec_a8ec_ac1f6b871d7brow3_col3,#T_bcb29bcc_4822_11ec_a8ec_ac1f6b871d7brow3_col7{\n",
       "            background-color:  #f4edf6;\n",
       "            color:  #000000;\n",
       "        }#T_bcb29bcc_4822_11ec_a8ec_ac1f6b871d7brow3_col4{\n",
       "            background-color:  #023c5f;\n",
       "            color:  #f1f1f1;\n",
       "        }#T_bcb29bcc_4822_11ec_a8ec_ac1f6b871d7brow3_col5{\n",
       "            background-color:  #03476f;\n",
       "            color:  #f1f1f1;\n",
       "        }#T_bcb29bcc_4822_11ec_a8ec_ac1f6b871d7brow3_col6{\n",
       "            background-color:  #84b0d3;\n",
       "            color:  #000000;\n",
       "        }#T_bcb29bcc_4822_11ec_a8ec_ac1f6b871d7brow3_col8{\n",
       "            background-color:  #d0d1e6;\n",
       "            color:  #000000;\n",
       "        }#T_bcb29bcc_4822_11ec_a8ec_ac1f6b871d7brow4_col1{\n",
       "            background-color:  #02395a;\n",
       "            color:  #f1f1f1;\n",
       "        }#T_bcb29bcc_4822_11ec_a8ec_ac1f6b871d7brow4_col2{\n",
       "            background-color:  #e9e5f1;\n",
       "            color:  #000000;\n",
       "        }#T_bcb29bcc_4822_11ec_a8ec_ac1f6b871d7brow4_col6{\n",
       "            background-color:  #034165;\n",
       "            color:  #f1f1f1;\n",
       "        }</style><table id=\"T_bcb29bcc_4822_11ec_a8ec_ac1f6b871d7b\" ><thead>    <tr>        <th class=\"blank level0\" ></th>        <th class=\"col_heading level0 col0\" >0</th>        <th class=\"col_heading level0 col1\" >1</th>        <th class=\"col_heading level0 col2\" >2</th>        <th class=\"col_heading level0 col3\" >3</th>        <th class=\"col_heading level0 col4\" >4</th>        <th class=\"col_heading level0 col5\" >5</th>        <th class=\"col_heading level0 col6\" >6</th>        <th class=\"col_heading level0 col7\" >7</th>        <th class=\"col_heading level0 col8\" >8</th>    </tr></thead><tbody>\n",
       "                <tr>\n",
       "                        <th id=\"T_bcb29bcc_4822_11ec_a8ec_ac1f6b871d7blevel0_row0\" class=\"row_heading level0 row0\" >0</th>\n",
       "                        <td id=\"T_bcb29bcc_4822_11ec_a8ec_ac1f6b871d7brow0_col0\" class=\"data row0 col0\" >0.503951</td>\n",
       "                        <td id=\"T_bcb29bcc_4822_11ec_a8ec_ac1f6b871d7brow0_col1\" class=\"data row0 col1\" >0.510814</td>\n",
       "                        <td id=\"T_bcb29bcc_4822_11ec_a8ec_ac1f6b871d7brow0_col2\" class=\"data row0 col2\" >0.510655</td>\n",
       "                        <td id=\"T_bcb29bcc_4822_11ec_a8ec_ac1f6b871d7brow0_col3\" class=\"data row0 col3\" >0.499888</td>\n",
       "                        <td id=\"T_bcb29bcc_4822_11ec_a8ec_ac1f6b871d7brow0_col4\" class=\"data row0 col4\" >0.513530</td>\n",
       "                        <td id=\"T_bcb29bcc_4822_11ec_a8ec_ac1f6b871d7brow0_col5\" class=\"data row0 col5\" >0.514947</td>\n",
       "                        <td id=\"T_bcb29bcc_4822_11ec_a8ec_ac1f6b871d7brow0_col6\" class=\"data row0 col6\" >0.480405</td>\n",
       "                        <td id=\"T_bcb29bcc_4822_11ec_a8ec_ac1f6b871d7brow0_col7\" class=\"data row0 col7\" >0.483429</td>\n",
       "                        <td id=\"T_bcb29bcc_4822_11ec_a8ec_ac1f6b871d7brow0_col8\" class=\"data row0 col8\" >0.485691</td>\n",
       "            </tr>\n",
       "            <tr>\n",
       "                        <th id=\"T_bcb29bcc_4822_11ec_a8ec_ac1f6b871d7blevel0_row1\" class=\"row_heading level0 row1\" >1</th>\n",
       "                        <td id=\"T_bcb29bcc_4822_11ec_a8ec_ac1f6b871d7brow1_col0\" class=\"data row1 col0\" >0.508264</td>\n",
       "                        <td id=\"T_bcb29bcc_4822_11ec_a8ec_ac1f6b871d7brow1_col1\" class=\"data row1 col1\" >0.513524</td>\n",
       "                        <td id=\"T_bcb29bcc_4822_11ec_a8ec_ac1f6b871d7brow1_col2\" class=\"data row1 col2\" >0.509060</td>\n",
       "                        <td id=\"T_bcb29bcc_4822_11ec_a8ec_ac1f6b871d7brow1_col3\" class=\"data row1 col3\" >0.494358</td>\n",
       "                        <td id=\"T_bcb29bcc_4822_11ec_a8ec_ac1f6b871d7brow1_col4\" class=\"data row1 col4\" >0.516500</td>\n",
       "                        <td id=\"T_bcb29bcc_4822_11ec_a8ec_ac1f6b871d7brow1_col5\" class=\"data row1 col5\" >0.517435</td>\n",
       "                        <td id=\"T_bcb29bcc_4822_11ec_a8ec_ac1f6b871d7brow1_col6\" class=\"data row1 col6\" >0.479494</td>\n",
       "                        <td id=\"T_bcb29bcc_4822_11ec_a8ec_ac1f6b871d7brow1_col7\" class=\"data row1 col7\" >0.480915</td>\n",
       "                        <td id=\"T_bcb29bcc_4822_11ec_a8ec_ac1f6b871d7brow1_col8\" class=\"data row1 col8\" >0.485894</td>\n",
       "            </tr>\n",
       "            <tr>\n",
       "                        <th id=\"T_bcb29bcc_4822_11ec_a8ec_ac1f6b871d7blevel0_row2\" class=\"row_heading level0 row2\" >2</th>\n",
       "                        <td id=\"T_bcb29bcc_4822_11ec_a8ec_ac1f6b871d7brow2_col0\" class=\"data row2 col0\" >0.510862</td>\n",
       "                        <td id=\"T_bcb29bcc_4822_11ec_a8ec_ac1f6b871d7brow2_col1\" class=\"data row2 col1\" >0.514512</td>\n",
       "                        <td id=\"T_bcb29bcc_4822_11ec_a8ec_ac1f6b871d7brow2_col2\" class=\"data row2 col2\" >0.508679</td>\n",
       "                        <td id=\"T_bcb29bcc_4822_11ec_a8ec_ac1f6b871d7brow2_col3\" class=\"data row2 col3\" >0.491502</td>\n",
       "                        <td id=\"T_bcb29bcc_4822_11ec_a8ec_ac1f6b871d7brow2_col4\" class=\"data row2 col4\" >0.517476</td>\n",
       "                        <td id=\"T_bcb29bcc_4822_11ec_a8ec_ac1f6b871d7brow2_col5\" class=\"data row2 col5\" >0.518445</td>\n",
       "                        <td id=\"T_bcb29bcc_4822_11ec_a8ec_ac1f6b871d7brow2_col6\" class=\"data row2 col6\" >0.479524</td>\n",
       "                        <td id=\"T_bcb29bcc_4822_11ec_a8ec_ac1f6b871d7brow2_col7\" class=\"data row2 col7\" >0.479314</td>\n",
       "                        <td id=\"T_bcb29bcc_4822_11ec_a8ec_ac1f6b871d7brow2_col8\" class=\"data row2 col8\" >0.485660</td>\n",
       "            </tr>\n",
       "            <tr>\n",
       "                        <th id=\"T_bcb29bcc_4822_11ec_a8ec_ac1f6b871d7blevel0_row3\" class=\"row_heading level0 row3\" >3</th>\n",
       "                        <td id=\"T_bcb29bcc_4822_11ec_a8ec_ac1f6b871d7brow3_col0\" class=\"data row3 col0\" >0.512353</td>\n",
       "                        <td id=\"T_bcb29bcc_4822_11ec_a8ec_ac1f6b871d7brow3_col1\" class=\"data row3 col1\" >0.514764</td>\n",
       "                        <td id=\"T_bcb29bcc_4822_11ec_a8ec_ac1f6b871d7brow3_col2\" class=\"data row3 col2\" >0.508759</td>\n",
       "                        <td id=\"T_bcb29bcc_4822_11ec_a8ec_ac1f6b871d7brow3_col3\" class=\"data row3 col3\" >0.490009</td>\n",
       "                        <td id=\"T_bcb29bcc_4822_11ec_a8ec_ac1f6b871d7brow3_col4\" class=\"data row3 col4\" >0.517775</td>\n",
       "                        <td id=\"T_bcb29bcc_4822_11ec_a8ec_ac1f6b871d7brow3_col5\" class=\"data row3 col5\" >0.518909</td>\n",
       "                        <td id=\"T_bcb29bcc_4822_11ec_a8ec_ac1f6b871d7brow3_col6\" class=\"data row3 col6\" >0.479911</td>\n",
       "                        <td id=\"T_bcb29bcc_4822_11ec_a8ec_ac1f6b871d7brow3_col7\" class=\"data row3 col7\" >0.478450</td>\n",
       "                        <td id=\"T_bcb29bcc_4822_11ec_a8ec_ac1f6b871d7brow3_col8\" class=\"data row3 col8\" >0.485431</td>\n",
       "            </tr>\n",
       "            <tr>\n",
       "                        <th id=\"T_bcb29bcc_4822_11ec_a8ec_ac1f6b871d7blevel0_row4\" class=\"row_heading level0 row4\" >4</th>\n",
       "                        <td id=\"T_bcb29bcc_4822_11ec_a8ec_ac1f6b871d7brow4_col0\" class=\"data row4 col0\" >0.513198</td>\n",
       "                        <td id=\"T_bcb29bcc_4822_11ec_a8ec_ac1f6b871d7brow4_col1\" class=\"data row4 col1\" >0.514746</td>\n",
       "                        <td id=\"T_bcb29bcc_4822_11ec_a8ec_ac1f6b871d7brow4_col2\" class=\"data row4 col2\" >0.508955</td>\n",
       "                        <td id=\"T_bcb29bcc_4822_11ec_a8ec_ac1f6b871d7brow4_col3\" class=\"data row4 col3\" >0.489202</td>\n",
       "                        <td id=\"T_bcb29bcc_4822_11ec_a8ec_ac1f6b871d7brow4_col4\" class=\"data row4 col4\" >0.517857</td>\n",
       "                        <td id=\"T_bcb29bcc_4822_11ec_a8ec_ac1f6b871d7brow4_col5\" class=\"data row4 col5\" >0.519155</td>\n",
       "                        <td id=\"T_bcb29bcc_4822_11ec_a8ec_ac1f6b871d7brow4_col6\" class=\"data row4 col6\" >0.480376</td>\n",
       "                        <td id=\"T_bcb29bcc_4822_11ec_a8ec_ac1f6b871d7brow4_col7\" class=\"data row4 col7\" >0.478039</td>\n",
       "                        <td id=\"T_bcb29bcc_4822_11ec_a8ec_ac1f6b871d7brow4_col8\" class=\"data row4 col8\" >0.485276</td>\n",
       "            </tr>\n",
       "    </tbody></table>"
      ],
      "text/plain": [
       "<pandas.io.formats.style.Styler at 0x260905c7760>"
      ]
     },
     "execution_count": 148,
     "metadata": {},
     "output_type": "execute_result"
    }
   ],
   "source": [
    "s,r,a,v = next(iter(train_iter))\n",
    "actions = model.actor_forward(s,r,eval=True)\n",
    "print(actions.shape)\n",
    "pd.DataFrame(actions[0].detach().numpy()).head().style.background_gradient()"
   ]
  },
  {
   "cell_type": "code",
   "execution_count": 149,
   "metadata": {},
   "outputs": [
    {
     "data": {
      "application/vnd.jupyter.widget-view+json": {
       "model_id": "482f5289fe73481ebd8ded79ac4d90fd",
       "version_major": 2,
       "version_minor": 0
      },
      "text/plain": [
       "HBox(children=(FloatProgress(value=0.0, max=42.0), HTML(value='')))"
      ]
     },
     "metadata": {},
     "output_type": "display_data"
    },
    {
     "name": "stdout",
     "output_type": "stream",
     "text": [
      "epoch:0 critic_loss:2.2648473720182665\n",
      "epoch:10 critic_loss:0.12653007853077725\n",
      "epoch:20 critic_loss:0.12373866070993245\n",
      "epoch:30 critic_loss:0.20882866950705647\n",
      "epoch:40 critic_loss:0.11187872634036466\n",
      "\n"
     ]
    },
    {
     "data": {
      "application/vnd.jupyter.widget-view+json": {
       "model_id": "bdfeaa5d83d64a8cbe99d3bfa4849e67",
       "version_major": 2,
       "version_minor": 0
      },
      "text/plain": [
       "HBox(children=(FloatProgress(value=0.0, max=42.0), HTML(value='')))"
      ]
     },
     "metadata": {},
     "output_type": "display_data"
    },
    {
     "name": "stdout",
     "output_type": "stream",
     "text": [
      "epoch:0 actor_loss:1.0184657387435436\n",
      "epoch:10 actor_loss:0.12602956290356815\n",
      "epoch:20 actor_loss:0.09580834023654461\n",
      "epoch:30 actor_loss:0.0876007160404697\n",
      "epoch:40 actor_loss:0.0836831999476999\n",
      "\n"
     ]
    }
   ],
   "source": [
    "model,train_history = train(model,train_iter,epochs=42)"
   ]
  },
  {
   "cell_type": "code",
   "execution_count": 150,
   "metadata": {},
   "outputs": [
    {
     "data": {
      "image/png": "[encoded data removed]",
      "text/plain": [
       "<Figure size 432x288 with 1 Axes>"
      ]
     },
     "metadata": {
      "needs_background": "light"
     },
     "output_type": "display_data"
    },
    {
     "data": {
      "text/plain": [
       "[<matplotlib.lines.Line2D at 0x26094edab80>]"
      ]
     },
     "execution_count": 150,
     "metadata": {},
     "output_type": "execute_result"
    },
    {
     "data": {
      "image/png": "[encoded data removed]",
      "text/plain": [
       "<Figure size 432x288 with 1 Axes>"
      ]
     },
     "metadata": {
      "needs_background": "light"
     },
     "output_type": "display_data"
    }
   ],
   "source": [
    "import matplotlib.pyplot as plt\n",
    "\n",
    "plt.plot(train_history['critic'])\n",
    "plt.show()\n",
    "plt.plot(train_history['actor'])"
   ]
  },
  {
   "cell_type": "code",
   "execution_count": 151,
   "metadata": {},
   "outputs": [],
   "source": [
    "s,r,a,v = next(iter(train_iter))\n",
    "actions = model.actor_forward(s,r,eval=True)"
   ]
  },
  {
   "cell_type": "code",
   "execution_count": 152,
   "metadata": {},
   "outputs": [
    {
     "data": {
      "text/html": [
       "<style  type=\"text/css\" >\n",
       "#T_b512aecd_4824_11ec_8720_ac1f6b871d7brow0_col0,#T_b512aecd_4824_11ec_8720_ac1f6b871d7brow0_col2,#T_b512aecd_4824_11ec_8720_ac1f6b871d7brow0_col3,#T_b512aecd_4824_11ec_8720_ac1f6b871d7brow0_col4,#T_b512aecd_4824_11ec_8720_ac1f6b871d7brow0_col5,#T_b512aecd_4824_11ec_8720_ac1f6b871d7brow0_col6,#T_b512aecd_4824_11ec_8720_ac1f6b871d7brow0_col7,#T_b512aecd_4824_11ec_8720_ac1f6b871d7brow0_col8,#T_b512aecd_4824_11ec_8720_ac1f6b871d7brow4_col1{\n",
       "            background-color:  #fff7fb;\n",
       "            color:  #000000;\n",
       "        }#T_b512aecd_4824_11ec_8720_ac1f6b871d7brow0_col1,#T_b512aecd_4824_11ec_8720_ac1f6b871d7brow2_col0,#T_b512aecd_4824_11ec_8720_ac1f6b871d7brow2_col2,#T_b512aecd_4824_11ec_8720_ac1f6b871d7brow2_col4,#T_b512aecd_4824_11ec_8720_ac1f6b871d7brow3_col3,#T_b512aecd_4824_11ec_8720_ac1f6b871d7brow3_col5,#T_b512aecd_4824_11ec_8720_ac1f6b871d7brow4_col5,#T_b512aecd_4824_11ec_8720_ac1f6b871d7brow4_col6,#T_b512aecd_4824_11ec_8720_ac1f6b871d7brow4_col7,#T_b512aecd_4824_11ec_8720_ac1f6b871d7brow4_col8{\n",
       "            background-color:  #023858;\n",
       "            color:  #f1f1f1;\n",
       "        }#T_b512aecd_4824_11ec_8720_ac1f6b871d7brow1_col0{\n",
       "            background-color:  #03476f;\n",
       "            color:  #f1f1f1;\n",
       "        }#T_b512aecd_4824_11ec_8720_ac1f6b871d7brow1_col1{\n",
       "            background-color:  #cccfe5;\n",
       "            color:  #000000;\n",
       "        }#T_b512aecd_4824_11ec_8720_ac1f6b871d7brow1_col2{\n",
       "            background-color:  #328dbf;\n",
       "            color:  #000000;\n",
       "        }#T_b512aecd_4824_11ec_8720_ac1f6b871d7brow1_col3{\n",
       "            background-color:  #056ba7;\n",
       "            color:  #f1f1f1;\n",
       "        }#T_b512aecd_4824_11ec_8720_ac1f6b871d7brow1_col4,#T_b512aecd_4824_11ec_8720_ac1f6b871d7brow1_col5{\n",
       "            background-color:  #045b8f;\n",
       "            color:  #f1f1f1;\n",
       "        }#T_b512aecd_4824_11ec_8720_ac1f6b871d7brow1_col6{\n",
       "            background-color:  #056ba9;\n",
       "            color:  #f1f1f1;\n",
       "        }#T_b512aecd_4824_11ec_8720_ac1f6b871d7brow1_col7{\n",
       "            background-color:  #1379b5;\n",
       "            color:  #f1f1f1;\n",
       "        }#T_b512aecd_4824_11ec_8720_ac1f6b871d7brow1_col8{\n",
       "            background-color:  #0a73b2;\n",
       "            color:  #f1f1f1;\n",
       "        }#T_b512aecd_4824_11ec_8720_ac1f6b871d7brow2_col1{\n",
       "            background-color:  #e6e2ef;\n",
       "            color:  #000000;\n",
       "        }#T_b512aecd_4824_11ec_8720_ac1f6b871d7brow2_col3{\n",
       "            background-color:  #03456c;\n",
       "            color:  #f1f1f1;\n",
       "        }#T_b512aecd_4824_11ec_8720_ac1f6b871d7brow2_col5,#T_b512aecd_4824_11ec_8720_ac1f6b871d7brow2_col6{\n",
       "            background-color:  #034c78;\n",
       "            color:  #f1f1f1;\n",
       "        }#T_b512aecd_4824_11ec_8720_ac1f6b871d7brow2_col7{\n",
       "            background-color:  #034d79;\n",
       "            color:  #f1f1f1;\n",
       "        }#T_b512aecd_4824_11ec_8720_ac1f6b871d7brow2_col8{\n",
       "            background-color:  #034b76;\n",
       "            color:  #f1f1f1;\n",
       "        }#T_b512aecd_4824_11ec_8720_ac1f6b871d7brow3_col0{\n",
       "            background-color:  #045382;\n",
       "            color:  #f1f1f1;\n",
       "        }#T_b512aecd_4824_11ec_8720_ac1f6b871d7brow3_col1{\n",
       "            background-color:  #f1ebf4;\n",
       "            color:  #000000;\n",
       "        }#T_b512aecd_4824_11ec_8720_ac1f6b871d7brow3_col2{\n",
       "            background-color:  #045d92;\n",
       "            color:  #f1f1f1;\n",
       "        }#T_b512aecd_4824_11ec_8720_ac1f6b871d7brow3_col4,#T_b512aecd_4824_11ec_8720_ac1f6b871d7brow3_col7,#T_b512aecd_4824_11ec_8720_ac1f6b871d7brow3_col8{\n",
       "            background-color:  #023d60;\n",
       "            color:  #f1f1f1;\n",
       "        }#T_b512aecd_4824_11ec_8720_ac1f6b871d7brow3_col6{\n",
       "            background-color:  #023a5b;\n",
       "            color:  #f1f1f1;\n",
       "        }#T_b512aecd_4824_11ec_8720_ac1f6b871d7brow4_col0{\n",
       "            background-color:  #046096;\n",
       "            color:  #f1f1f1;\n",
       "        }#T_b512aecd_4824_11ec_8720_ac1f6b871d7brow4_col2{\n",
       "            background-color:  #056ead;\n",
       "            color:  #f1f1f1;\n",
       "        }#T_b512aecd_4824_11ec_8720_ac1f6b871d7brow4_col3{\n",
       "            background-color:  #02395a;\n",
       "            color:  #f1f1f1;\n",
       "        }#T_b512aecd_4824_11ec_8720_ac1f6b871d7brow4_col4{\n",
       "            background-color:  #023f64;\n",
       "            color:  #f1f1f1;\n",
       "        }</style><table id=\"T_b512aecd_4824_11ec_8720_ac1f6b871d7b\" ><thead>    <tr>        <th class=\"blank level0\" ></th>        <th class=\"col_heading level0 col0\" >0</th>        <th class=\"col_heading level0 col1\" >1</th>        <th class=\"col_heading level0 col2\" >2</th>        <th class=\"col_heading level0 col3\" >3</th>        <th class=\"col_heading level0 col4\" >4</th>        <th class=\"col_heading level0 col5\" >5</th>        <th class=\"col_heading level0 col6\" >6</th>        <th class=\"col_heading level0 col7\" >7</th>        <th class=\"col_heading level0 col8\" >8</th>    </tr></thead><tbody>\n",
       "                <tr>\n",
       "                        <th id=\"T_b512aecd_4824_11ec_8720_ac1f6b871d7blevel0_row0\" class=\"row_heading level0 row0\" >0</th>\n",
       "                        <td id=\"T_b512aecd_4824_11ec_8720_ac1f6b871d7brow0_col0\" class=\"data row0 col0\" >0.921019</td>\n",
       "                        <td id=\"T_b512aecd_4824_11ec_8720_ac1f6b871d7brow0_col1\" class=\"data row0 col1\" >0.953641</td>\n",
       "                        <td id=\"T_b512aecd_4824_11ec_8720_ac1f6b871d7brow0_col2\" class=\"data row0 col2\" >0.979315</td>\n",
       "                        <td id=\"T_b512aecd_4824_11ec_8720_ac1f6b871d7brow0_col3\" class=\"data row0 col3\" >0.910396</td>\n",
       "                        <td id=\"T_b512aecd_4824_11ec_8720_ac1f6b871d7brow0_col4\" class=\"data row0 col4\" >0.955643</td>\n",
       "                        <td id=\"T_b512aecd_4824_11ec_8720_ac1f6b871d7brow0_col5\" class=\"data row0 col5\" >0.981202</td>\n",
       "                        <td id=\"T_b512aecd_4824_11ec_8720_ac1f6b871d7brow0_col6\" class=\"data row0 col6\" >0.978894</td>\n",
       "                        <td id=\"T_b512aecd_4824_11ec_8720_ac1f6b871d7brow0_col7\" class=\"data row0 col7\" >0.468460</td>\n",
       "                        <td id=\"T_b512aecd_4824_11ec_8720_ac1f6b871d7brow0_col8\" class=\"data row0 col8\" >0.618401</td>\n",
       "            </tr>\n",
       "            <tr>\n",
       "                        <th id=\"T_b512aecd_4824_11ec_8720_ac1f6b871d7blevel0_row1\" class=\"row_heading level0 row1\" >1</th>\n",
       "                        <td id=\"T_b512aecd_4824_11ec_8720_ac1f6b871d7brow1_col0\" class=\"data row1 col0\" >0.921065</td>\n",
       "                        <td id=\"T_b512aecd_4824_11ec_8720_ac1f6b871d7brow1_col1\" class=\"data row1 col1\" >0.953618</td>\n",
       "                        <td id=\"T_b512aecd_4824_11ec_8720_ac1f6b871d7brow1_col2\" class=\"data row1 col2\" >0.979325</td>\n",
       "                        <td id=\"T_b512aecd_4824_11ec_8720_ac1f6b871d7brow1_col3\" class=\"data row1 col3\" >0.910476</td>\n",
       "                        <td id=\"T_b512aecd_4824_11ec_8720_ac1f6b871d7brow1_col4\" class=\"data row1 col4\" >0.955678</td>\n",
       "                        <td id=\"T_b512aecd_4824_11ec_8720_ac1f6b871d7brow1_col5\" class=\"data row1 col5\" >0.981255</td>\n",
       "                        <td id=\"T_b512aecd_4824_11ec_8720_ac1f6b871d7brow1_col6\" class=\"data row1 col6\" >0.978978</td>\n",
       "                        <td id=\"T_b512aecd_4824_11ec_8720_ac1f6b871d7brow1_col7\" class=\"data row1 col7\" >0.468779</td>\n",
       "                        <td id=\"T_b512aecd_4824_11ec_8720_ac1f6b871d7brow1_col8\" class=\"data row1 col8\" >0.619009</td>\n",
       "            </tr>\n",
       "            <tr>\n",
       "                        <th id=\"T_b512aecd_4824_11ec_8720_ac1f6b871d7blevel0_row2\" class=\"row_heading level0 row2\" >2</th>\n",
       "                        <td id=\"T_b512aecd_4824_11ec_8720_ac1f6b871d7brow2_col0\" class=\"data row2 col0\" >0.921068</td>\n",
       "                        <td id=\"T_b512aecd_4824_11ec_8720_ac1f6b871d7brow2_col1\" class=\"data row2 col1\" >0.953615</td>\n",
       "                        <td id=\"T_b512aecd_4824_11ec_8720_ac1f6b871d7brow2_col2\" class=\"data row2 col2\" >0.979331</td>\n",
       "                        <td id=\"T_b512aecd_4824_11ec_8720_ac1f6b871d7brow2_col3\" class=\"data row2 col3\" >0.910494</td>\n",
       "                        <td id=\"T_b512aecd_4824_11ec_8720_ac1f6b871d7brow2_col4\" class=\"data row2 col4\" >0.955683</td>\n",
       "                        <td id=\"T_b512aecd_4824_11ec_8720_ac1f6b871d7brow2_col5\" class=\"data row2 col5\" >0.981258</td>\n",
       "                        <td id=\"T_b512aecd_4824_11ec_8720_ac1f6b871d7brow2_col6\" class=\"data row2 col6\" >0.978994</td>\n",
       "                        <td id=\"T_b512aecd_4824_11ec_8720_ac1f6b871d7brow2_col7\" class=\"data row2 col7\" >0.468873</td>\n",
       "                        <td id=\"T_b512aecd_4824_11ec_8720_ac1f6b871d7brow2_col8\" class=\"data row2 col8\" >0.619169</td>\n",
       "            </tr>\n",
       "            <tr>\n",
       "                        <th id=\"T_b512aecd_4824_11ec_8720_ac1f6b871d7blevel0_row3\" class=\"row_heading level0 row3\" >3</th>\n",
       "                        <td id=\"T_b512aecd_4824_11ec_8720_ac1f6b871d7brow3_col0\" class=\"data row3 col0\" >0.921063</td>\n",
       "                        <td id=\"T_b512aecd_4824_11ec_8720_ac1f6b871d7brow3_col1\" class=\"data row3 col1\" >0.953613</td>\n",
       "                        <td id=\"T_b512aecd_4824_11ec_8720_ac1f6b871d7brow3_col2\" class=\"data row3 col2\" >0.979329</td>\n",
       "                        <td id=\"T_b512aecd_4824_11ec_8720_ac1f6b871d7brow3_col3\" class=\"data row3 col3\" >0.910499</td>\n",
       "                        <td id=\"T_b512aecd_4824_11ec_8720_ac1f6b871d7brow3_col4\" class=\"data row3 col4\" >0.955682</td>\n",
       "                        <td id=\"T_b512aecd_4824_11ec_8720_ac1f6b871d7brow3_col5\" class=\"data row3 col5\" >0.981263</td>\n",
       "                        <td id=\"T_b512aecd_4824_11ec_8720_ac1f6b871d7brow3_col6\" class=\"data row3 col6\" >0.979001</td>\n",
       "                        <td id=\"T_b512aecd_4824_11ec_8720_ac1f6b871d7brow3_col7\" class=\"data row3 col7\" >0.468898</td>\n",
       "                        <td id=\"T_b512aecd_4824_11ec_8720_ac1f6b871d7brow3_col8\" class=\"data row3 col8\" >0.619211</td>\n",
       "            </tr>\n",
       "            <tr>\n",
       "                        <th id=\"T_b512aecd_4824_11ec_8720_ac1f6b871d7blevel0_row4\" class=\"row_heading level0 row4\" >4</th>\n",
       "                        <td id=\"T_b512aecd_4824_11ec_8720_ac1f6b871d7brow4_col0\" class=\"data row4 col0\" >0.921060</td>\n",
       "                        <td id=\"T_b512aecd_4824_11ec_8720_ac1f6b871d7brow4_col1\" class=\"data row4 col1\" >0.953610</td>\n",
       "                        <td id=\"T_b512aecd_4824_11ec_8720_ac1f6b871d7brow4_col2\" class=\"data row4 col2\" >0.979327</td>\n",
       "                        <td id=\"T_b512aecd_4824_11ec_8720_ac1f6b871d7brow4_col3\" class=\"data row4 col3\" >0.910499</td>\n",
       "                        <td id=\"T_b512aecd_4824_11ec_8720_ac1f6b871d7brow4_col4\" class=\"data row4 col4\" >0.955682</td>\n",
       "                        <td id=\"T_b512aecd_4824_11ec_8720_ac1f6b871d7brow4_col5\" class=\"data row4 col5\" >0.981263</td>\n",
       "                        <td id=\"T_b512aecd_4824_11ec_8720_ac1f6b871d7brow4_col6\" class=\"data row4 col6\" >0.979002</td>\n",
       "                        <td id=\"T_b512aecd_4824_11ec_8720_ac1f6b871d7brow4_col7\" class=\"data row4 col7\" >0.468908</td>\n",
       "                        <td id=\"T_b512aecd_4824_11ec_8720_ac1f6b871d7brow4_col8\" class=\"data row4 col8\" >0.619228</td>\n",
       "            </tr>\n",
       "    </tbody></table>"
      ],
      "text/plain": [
       "<pandas.io.formats.style.Styler at 0x260a60aa0a0>"
      ]
     },
     "execution_count": 152,
     "metadata": {},
     "output_type": "execute_result"
    }
   ],
   "source": [
    "pd.DataFrame(actions[0].detach().numpy()).head().style.background_gradient()"
   ]
  },
  {
   "cell_type": "code",
   "execution_count": null,
   "metadata": {},
   "outputs": [
    {
     "data": {
      "text/plain": [
       "tensor([[0.9497, 0.8741]], grad_fn=<SliceBackward>)"
      ]
     },
     "execution_count": 93,
     "metadata": {},
     "output_type": "execute_result"
    }
   ],
   "source": [
    "values = model.critic_forward(s[[0]],actions[[0]],eval=True)\n",
    "values"
   ]
  },
  {
   "cell_type": "markdown",
   "metadata": {},
   "source": [
    "# 令廠商想要控制某種產出率,其中state(s)不可控,則用法為"
   ]
  },
  {
   "cell_type": "code",
   "execution_count": 153,
   "metadata": {},
   "outputs": [
    {
     "name": "stdout",
     "output_type": "stream",
     "text": [
      "[0.9734319180731766, 0.8965066193650328]\n"
     ]
    }
   ],
   "source": [
    "wanna_ouput = [describe.loc['75%','Ethylene'],describe.loc['75%','Propene']]\n",
    "print(wanna_ouput)\n",
    "s,r,a,v = next(iter(train_iter))\n",
    "s = s[0].reshape(-1,time_step,state_size)\n",
    "r = torch.hstack([torch.full((1,1),wanna_ouput[0]),torch.full((1,1),wanna_ouput[1])])\n",
    "a = model.actor_forward(s,r,eval=True)\n",
    "v = model.critic_forward(s,a,eval=True)"
   ]
  },
  {
   "cell_type": "code",
   "execution_count": 154,
   "metadata": {},
   "outputs": [
    {
     "data": {
      "text/html": [
       "<style  type=\"text/css\" >\n",
       "#T_bdf0d3dd_4824_11ec_8199_ac1f6b871d7brow0_col0,#T_bdf0d3dd_4824_11ec_8199_ac1f6b871d7brow0_col2,#T_bdf0d3dd_4824_11ec_8199_ac1f6b871d7brow0_col3,#T_bdf0d3dd_4824_11ec_8199_ac1f6b871d7brow0_col4,#T_bdf0d3dd_4824_11ec_8199_ac1f6b871d7brow0_col5,#T_bdf0d3dd_4824_11ec_8199_ac1f6b871d7brow0_col6,#T_bdf0d3dd_4824_11ec_8199_ac1f6b871d7brow0_col7,#T_bdf0d3dd_4824_11ec_8199_ac1f6b871d7brow0_col8,#T_bdf0d3dd_4824_11ec_8199_ac1f6b871d7brow4_col1{\n",
       "            background-color:  #fff7fb;\n",
       "            color:  #000000;\n",
       "        }#T_bdf0d3dd_4824_11ec_8199_ac1f6b871d7brow0_col1,#T_bdf0d3dd_4824_11ec_8199_ac1f6b871d7brow1_col0,#T_bdf0d3dd_4824_11ec_8199_ac1f6b871d7brow1_col4,#T_bdf0d3dd_4824_11ec_8199_ac1f6b871d7brow2_col2,#T_bdf0d3dd_4824_11ec_8199_ac1f6b871d7brow2_col3,#T_bdf0d3dd_4824_11ec_8199_ac1f6b871d7brow3_col3,#T_bdf0d3dd_4824_11ec_8199_ac1f6b871d7brow3_col5,#T_bdf0d3dd_4824_11ec_8199_ac1f6b871d7brow4_col5,#T_bdf0d3dd_4824_11ec_8199_ac1f6b871d7brow4_col6,#T_bdf0d3dd_4824_11ec_8199_ac1f6b871d7brow4_col7,#T_bdf0d3dd_4824_11ec_8199_ac1f6b871d7brow4_col8{\n",
       "            background-color:  #023858;\n",
       "            color:  #f1f1f1;\n",
       "        }#T_bdf0d3dd_4824_11ec_8199_ac1f6b871d7brow1_col1{\n",
       "            background-color:  #6fa7ce;\n",
       "            color:  #000000;\n",
       "        }#T_bdf0d3dd_4824_11ec_8199_ac1f6b871d7brow1_col2,#T_bdf0d3dd_4824_11ec_8199_ac1f6b871d7brow4_col2{\n",
       "            background-color:  #046198;\n",
       "            color:  #f1f1f1;\n",
       "        }#T_bdf0d3dd_4824_11ec_8199_ac1f6b871d7brow1_col3{\n",
       "            background-color:  #045b8f;\n",
       "            color:  #f1f1f1;\n",
       "        }#T_bdf0d3dd_4824_11ec_8199_ac1f6b871d7brow1_col5{\n",
       "            background-color:  #045585;\n",
       "            color:  #f1f1f1;\n",
       "        }#T_bdf0d3dd_4824_11ec_8199_ac1f6b871d7brow1_col6{\n",
       "            background-color:  #0569a5;\n",
       "            color:  #f1f1f1;\n",
       "        }#T_bdf0d3dd_4824_11ec_8199_ac1f6b871d7brow1_col7{\n",
       "            background-color:  #056faf;\n",
       "            color:  #f1f1f1;\n",
       "        }#T_bdf0d3dd_4824_11ec_8199_ac1f6b871d7brow1_col8{\n",
       "            background-color:  #0771b1;\n",
       "            color:  #f1f1f1;\n",
       "        }#T_bdf0d3dd_4824_11ec_8199_ac1f6b871d7brow2_col0{\n",
       "            background-color:  #045483;\n",
       "            color:  #f1f1f1;\n",
       "        }#T_bdf0d3dd_4824_11ec_8199_ac1f6b871d7brow2_col1{\n",
       "            background-color:  #a8bedc;\n",
       "            color:  #000000;\n",
       "        }#T_bdf0d3dd_4824_11ec_8199_ac1f6b871d7brow2_col4,#T_bdf0d3dd_4824_11ec_8199_ac1f6b871d7brow3_col6{\n",
       "            background-color:  #02395a;\n",
       "            color:  #f1f1f1;\n",
       "        }#T_bdf0d3dd_4824_11ec_8199_ac1f6b871d7brow2_col5{\n",
       "            background-color:  #03466e;\n",
       "            color:  #f1f1f1;\n",
       "        }#T_bdf0d3dd_4824_11ec_8199_ac1f6b871d7brow2_col6{\n",
       "            background-color:  #034b76;\n",
       "            color:  #f1f1f1;\n",
       "        }#T_bdf0d3dd_4824_11ec_8199_ac1f6b871d7brow2_col7,#T_bdf0d3dd_4824_11ec_8199_ac1f6b871d7brow2_col8{\n",
       "            background-color:  #034a74;\n",
       "            color:  #f1f1f1;\n",
       "        }#T_bdf0d3dd_4824_11ec_8199_ac1f6b871d7brow3_col0{\n",
       "            background-color:  #056dab;\n",
       "            color:  #f1f1f1;\n",
       "        }#T_bdf0d3dd_4824_11ec_8199_ac1f6b871d7brow3_col1{\n",
       "            background-color:  #d8d7e9;\n",
       "            color:  #000000;\n",
       "        }#T_bdf0d3dd_4824_11ec_8199_ac1f6b871d7brow3_col2{\n",
       "            background-color:  #045382;\n",
       "            color:  #f1f1f1;\n",
       "        }#T_bdf0d3dd_4824_11ec_8199_ac1f6b871d7brow3_col4{\n",
       "            background-color:  #03517e;\n",
       "            color:  #f1f1f1;\n",
       "        }#T_bdf0d3dd_4824_11ec_8199_ac1f6b871d7brow3_col7{\n",
       "            background-color:  #023d60;\n",
       "            color:  #f1f1f1;\n",
       "        }#T_bdf0d3dd_4824_11ec_8199_ac1f6b871d7brow3_col8{\n",
       "            background-color:  #023c5f;\n",
       "            color:  #f1f1f1;\n",
       "        }#T_bdf0d3dd_4824_11ec_8199_ac1f6b871d7brow4_col0{\n",
       "            background-color:  #167bb6;\n",
       "            color:  #000000;\n",
       "        }#T_bdf0d3dd_4824_11ec_8199_ac1f6b871d7brow4_col3{\n",
       "            background-color:  #023f64;\n",
       "            color:  #f1f1f1;\n",
       "        }#T_bdf0d3dd_4824_11ec_8199_ac1f6b871d7brow4_col4{\n",
       "            background-color:  #045b8e;\n",
       "            color:  #f1f1f1;\n",
       "        }</style><table id=\"T_bdf0d3dd_4824_11ec_8199_ac1f6b871d7b\" ><thead>    <tr>        <th class=\"blank level0\" ></th>        <th class=\"col_heading level0 col0\" >0</th>        <th class=\"col_heading level0 col1\" >1</th>        <th class=\"col_heading level0 col2\" >2</th>        <th class=\"col_heading level0 col3\" >3</th>        <th class=\"col_heading level0 col4\" >4</th>        <th class=\"col_heading level0 col5\" >5</th>        <th class=\"col_heading level0 col6\" >6</th>        <th class=\"col_heading level0 col7\" >7</th>        <th class=\"col_heading level0 col8\" >8</th>    </tr></thead><tbody>\n",
       "                <tr>\n",
       "                        <th id=\"T_bdf0d3dd_4824_11ec_8199_ac1f6b871d7blevel0_row0\" class=\"row_heading level0 row0\" >0</th>\n",
       "                        <td id=\"T_bdf0d3dd_4824_11ec_8199_ac1f6b871d7brow0_col0\" class=\"data row0 col0\" >0.920169</td>\n",
       "                        <td id=\"T_bdf0d3dd_4824_11ec_8199_ac1f6b871d7brow0_col1\" class=\"data row0 col1\" >0.952989</td>\n",
       "                        <td id=\"T_bdf0d3dd_4824_11ec_8199_ac1f6b871d7brow0_col2\" class=\"data row0 col2\" >0.978962</td>\n",
       "                        <td id=\"T_bdf0d3dd_4824_11ec_8199_ac1f6b871d7brow0_col3\" class=\"data row0 col3\" >0.909612</td>\n",
       "                        <td id=\"T_bdf0d3dd_4824_11ec_8199_ac1f6b871d7brow0_col4\" class=\"data row0 col4\" >0.955001</td>\n",
       "                        <td id=\"T_bdf0d3dd_4824_11ec_8199_ac1f6b871d7brow0_col5\" class=\"data row0 col5\" >0.980854</td>\n",
       "                        <td id=\"T_bdf0d3dd_4824_11ec_8199_ac1f6b871d7brow0_col6\" class=\"data row0 col6\" >0.978488</td>\n",
       "                        <td id=\"T_bdf0d3dd_4824_11ec_8199_ac1f6b871d7brow0_col7\" class=\"data row0 col7\" >0.468444</td>\n",
       "                        <td id=\"T_bdf0d3dd_4824_11ec_8199_ac1f6b871d7brow0_col8\" class=\"data row0 col8\" >0.617664</td>\n",
       "            </tr>\n",
       "            <tr>\n",
       "                        <th id=\"T_bdf0d3dd_4824_11ec_8199_ac1f6b871d7blevel0_row1\" class=\"row_heading level0 row1\" >1</th>\n",
       "                        <td id=\"T_bdf0d3dd_4824_11ec_8199_ac1f6b871d7brow1_col0\" class=\"data row1 col0\" >0.920229</td>\n",
       "                        <td id=\"T_bdf0d3dd_4824_11ec_8199_ac1f6b871d7brow1_col1\" class=\"data row1 col1\" >0.952982</td>\n",
       "                        <td id=\"T_bdf0d3dd_4824_11ec_8199_ac1f6b871d7brow1_col2\" class=\"data row1 col2\" >0.978986</td>\n",
       "                        <td id=\"T_bdf0d3dd_4824_11ec_8199_ac1f6b871d7brow1_col3\" class=\"data row1 col3\" >0.909714</td>\n",
       "                        <td id=\"T_bdf0d3dd_4824_11ec_8199_ac1f6b871d7brow1_col4\" class=\"data row1 col4\" >0.955063</td>\n",
       "                        <td id=\"T_bdf0d3dd_4824_11ec_8199_ac1f6b871d7brow1_col5\" class=\"data row1 col5\" >0.980918</td>\n",
       "                        <td id=\"T_bdf0d3dd_4824_11ec_8199_ac1f6b871d7brow1_col6\" class=\"data row1 col6\" >0.978585</td>\n",
       "                        <td id=\"T_bdf0d3dd_4824_11ec_8199_ac1f6b871d7brow1_col7\" class=\"data row1 col7\" >0.468881</td>\n",
       "                        <td id=\"T_bdf0d3dd_4824_11ec_8199_ac1f6b871d7brow1_col8\" class=\"data row1 col8\" >0.618257</td>\n",
       "            </tr>\n",
       "            <tr>\n",
       "                        <th id=\"T_bdf0d3dd_4824_11ec_8199_ac1f6b871d7blevel0_row2\" class=\"row_heading level0 row2\" >2</th>\n",
       "                        <td id=\"T_bdf0d3dd_4824_11ec_8199_ac1f6b871d7brow2_col0\" class=\"data row2 col0\" >0.920223</td>\n",
       "                        <td id=\"T_bdf0d3dd_4824_11ec_8199_ac1f6b871d7brow2_col1\" class=\"data row2 col1\" >0.952980</td>\n",
       "                        <td id=\"T_bdf0d3dd_4824_11ec_8199_ac1f6b871d7brow2_col2\" class=\"data row2 col2\" >0.978991</td>\n",
       "                        <td id=\"T_bdf0d3dd_4824_11ec_8199_ac1f6b871d7brow2_col3\" class=\"data row2 col3\" >0.909730</td>\n",
       "                        <td id=\"T_bdf0d3dd_4824_11ec_8199_ac1f6b871d7brow2_col4\" class=\"data row2 col4\" >0.955063</td>\n",
       "                        <td id=\"T_bdf0d3dd_4824_11ec_8199_ac1f6b871d7brow2_col5\" class=\"data row2 col5\" >0.980922</td>\n",
       "                        <td id=\"T_bdf0d3dd_4824_11ec_8199_ac1f6b871d7brow2_col6\" class=\"data row2 col6\" >0.978602</td>\n",
       "                        <td id=\"T_bdf0d3dd_4824_11ec_8199_ac1f6b871d7brow2_col7\" class=\"data row2 col7\" >0.468987</td>\n",
       "                        <td id=\"T_bdf0d3dd_4824_11ec_8199_ac1f6b871d7brow2_col8\" class=\"data row2 col8\" >0.618408</td>\n",
       "            </tr>\n",
       "            <tr>\n",
       "                        <th id=\"T_bdf0d3dd_4824_11ec_8199_ac1f6b871d7blevel0_row3\" class=\"row_heading level0 row3\" >3</th>\n",
       "                        <td id=\"T_bdf0d3dd_4824_11ec_8199_ac1f6b871d7brow3_col0\" class=\"data row3 col0\" >0.920215</td>\n",
       "                        <td id=\"T_bdf0d3dd_4824_11ec_8199_ac1f6b871d7brow3_col1\" class=\"data row3 col1\" >0.952978</td>\n",
       "                        <td id=\"T_bdf0d3dd_4824_11ec_8199_ac1f6b871d7brow3_col2\" class=\"data row3 col2\" >0.978988</td>\n",
       "                        <td id=\"T_bdf0d3dd_4824_11ec_8199_ac1f6b871d7brow3_col3\" class=\"data row3 col3\" >0.909729</td>\n",
       "                        <td id=\"T_bdf0d3dd_4824_11ec_8199_ac1f6b871d7brow3_col4\" class=\"data row3 col4\" >0.955057</td>\n",
       "                        <td id=\"T_bdf0d3dd_4824_11ec_8199_ac1f6b871d7brow3_col5\" class=\"data row3 col5\" >0.980926</td>\n",
       "                        <td id=\"T_bdf0d3dd_4824_11ec_8199_ac1f6b871d7brow3_col6\" class=\"data row3 col6\" >0.978610</td>\n",
       "                        <td id=\"T_bdf0d3dd_4824_11ec_8199_ac1f6b871d7brow3_col7\" class=\"data row3 col7\" >0.469015</td>\n",
       "                        <td id=\"T_bdf0d3dd_4824_11ec_8199_ac1f6b871d7brow3_col8\" class=\"data row3 col8\" >0.618449</td>\n",
       "            </tr>\n",
       "            <tr>\n",
       "                        <th id=\"T_bdf0d3dd_4824_11ec_8199_ac1f6b871d7blevel0_row4\" class=\"row_heading level0 row4\" >4</th>\n",
       "                        <td id=\"T_bdf0d3dd_4824_11ec_8199_ac1f6b871d7brow4_col0\" class=\"data row4 col0\" >0.920211</td>\n",
       "                        <td id=\"T_bdf0d3dd_4824_11ec_8199_ac1f6b871d7brow4_col1\" class=\"data row4 col1\" >0.952975</td>\n",
       "                        <td id=\"T_bdf0d3dd_4824_11ec_8199_ac1f6b871d7brow4_col2\" class=\"data row4 col2\" >0.978986</td>\n",
       "                        <td id=\"T_bdf0d3dd_4824_11ec_8199_ac1f6b871d7brow4_col3\" class=\"data row4 col3\" >0.909726</td>\n",
       "                        <td id=\"T_bdf0d3dd_4824_11ec_8199_ac1f6b871d7brow4_col4\" class=\"data row4 col4\" >0.955055</td>\n",
       "                        <td id=\"T_bdf0d3dd_4824_11ec_8199_ac1f6b871d7brow4_col5\" class=\"data row4 col5\" >0.980925</td>\n",
       "                        <td id=\"T_bdf0d3dd_4824_11ec_8199_ac1f6b871d7brow4_col6\" class=\"data row4 col6\" >0.978611</td>\n",
       "                        <td id=\"T_bdf0d3dd_4824_11ec_8199_ac1f6b871d7brow4_col7\" class=\"data row4 col7\" >0.469027</td>\n",
       "                        <td id=\"T_bdf0d3dd_4824_11ec_8199_ac1f6b871d7brow4_col8\" class=\"data row4 col8\" >0.618463</td>\n",
       "            </tr>\n",
       "    </tbody></table>"
      ],
      "text/plain": [
       "<pandas.io.formats.style.Styler at 0x260905c7310>"
      ]
     },
     "execution_count": 154,
     "metadata": {},
     "output_type": "execute_result"
    }
   ],
   "source": [
    "# 模型建議操作\n",
    "pd.DataFrame(a[0].detach().numpy()).head().style.background_gradient()"
   ]
  },
  {
   "cell_type": "code",
   "execution_count": 155,
   "metadata": {},
   "outputs": [
    {
     "name": "stdout",
     "output_type": "stream",
     "text": [
      "value:[[0.9639705 0.8784564]]\n",
      "\n"
     ]
    }
   ],
   "source": [
    "# 模型預測根據上述操作應當的產出\n",
    "print(f'value:{v.detach().numpy()}\\n')"
   ]
  },
  {
   "cell_type": "code",
   "execution_count": 156,
   "metadata": {},
   "outputs": [
    {
     "data": {
      "application/vnd.jupyter.widget-view+json": {
       "model_id": "d121b45636494614bec6b90ae82c78c3",
       "version_major": 2,
       "version_minor": 0
      },
      "text/plain": [
       "HBox(children=(FloatProgress(value=0.0, max=365.0), HTML(value='')))"
      ]
     },
     "metadata": {},
     "output_type": "display_data"
    },
    {
     "name": "stdout",
     "output_type": "stream",
     "text": [
      "\n"
     ]
    }
   ],
   "source": [
    "values_list = []\n",
    "for i in tqdm(range(365)):\n",
    "    s,r,a,v = next(iter(train_iter))\n",
    "    s = s[0].reshape(-1,time_step,state_size)\n",
    "    r = torch.hstack([torch.full((1,1),wanna_ouput[0]),torch.full((1,1),wanna_ouput[1])])\n",
    "    a = model.actor_forward(s,r,eval=True)# 模型建議操作\n",
    "    v = model.critic_forward(s,a,eval=True)\n",
    "    values_list.append(v.detach().numpy()[0])\n",
    "values_list = np.array(values_list)"
   ]
  },
  {
   "cell_type": "code",
   "execution_count": 158,
   "metadata": {},
   "outputs": [
    {
     "data": {
      "image/png": "[encoded data removed]",
      "text/plain": [
       "<Figure size 432x288 with 1 Axes>"
      ]
     },
     "metadata": {
      "needs_background": "light"
     },
     "output_type": "display_data"
    },
    {
     "data": {
      "image/png": "[encoded data removed]",
      "text/plain": [
       "<Figure size 432x288 with 1 Axes>"
      ]
     },
     "metadata": {
      "needs_background": "light"
     },
     "output_type": "display_data"
    }
   ],
   "source": [
    "data = joblib.load('..\\data\\dataset.pkl')\n",
    "a = pd.DataFrame(data['value'],columns=['Ethylene','Propene'])\n",
    "\n",
    "sns.kdeplot(values_list[:,0],label='AI Ethylene',color='r')\n",
    "sns.kdeplot(data['value'][:,0],label='ORIGINAL Ethylene',color='b')\n",
    "plt.axvline(x=a.describe().loc['50%','Ethylene'], label= \"50%\"+'Ethylene', c='k',alpha=0.5)\n",
    "plt.axvline(x=a.describe().loc['75%','Ethylene'], label= \"75%\"+'Ethylene', c='k',alpha=0.5)\n",
    "plt.legend()\n",
    "plt.title('Ethylene')\n",
    "plt.show()\n",
    "\n",
    "sns.kdeplot(values_list[:,1],label='AI Propene',color='r')\n",
    "sns.kdeplot(data['value'][:,1],label='ORIGINAL Propene',color='b')\n",
    "plt.axvline(x=a.describe().loc['50%','Propene'], label= \"50%\"+'Propene', c='k',alpha=0.5)\n",
    "plt.axvline(x=a.describe().loc['75%','Propene'], label= \"75%\"+'Propene', c='k',alpha=0.5)\n",
    "plt.legend()\n",
    "plt.title('Propene')\n",
    "plt.show()"
   ]
  },
  {
   "cell_type": "code",
   "execution_count": 159,
   "metadata": {},
   "outputs": [],
   "source": [
    "# save weight\n",
    "torch.save(model.actor.state_dict(),'../model/actor.pth')\n",
    "torch.save(model.critic.state_dict(),'../model/critic.pth')"
   ]
  },
  {
   "cell_type": "code",
   "execution_count": null,
   "metadata": {},
   "outputs": [],
   "source": []
  }
 ],
 "metadata": {
  "interpreter": {
   "hash": "2ccee5cc862501c1aad1cf19888c2a2eca4026b72d187db43d5e889cbdc6ee97"
  },
  "kernelspec": {
   "display_name": "Python 3.8.5 64-bit ('base': conda)",
   "name": "python3"
  },
  "language_info": {
   "codemirror_mode": {
    "name": "ipython",
    "version": 3
   },
   "file_extension": ".py",
   "mimetype": "text/x-python",
   "name": "python",
   "nbconvert_exporter": "python",
   "pygments_lexer": "ipython3",
   "version": "3.8.5"
  },
  "orig_nbformat": 4
 },
 "nbformat": 4,
 "nbformat_minor": 2
}
