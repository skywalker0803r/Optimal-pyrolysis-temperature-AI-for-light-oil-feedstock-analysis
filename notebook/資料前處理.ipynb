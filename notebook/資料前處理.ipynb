{
 "cells": [
  {
   "cell_type": "code",
   "execution_count": 27,
   "metadata": {},
   "outputs": [
    {
     "data": {
      "text/html": [
       "<div>\n",
       "<style scoped>\n",
       "    .dataframe tbody tr th:only-of-type {\n",
       "        vertical-align: middle;\n",
       "    }\n",
       "\n",
       "    .dataframe tbody tr th {\n",
       "        vertical-align: top;\n",
       "    }\n",
       "\n",
       "    .dataframe thead th {\n",
       "        text-align: right;\n",
       "    }\n",
       "</style>\n",
       "<table border=\"1\" class=\"dataframe\">\n",
       "  <thead>\n",
       "    <tr style=\"text-align: right;\">\n",
       "      <th></th>\n",
       "      <th>H-110 COT</th>\n",
       "      <th>H-120 COT</th>\n",
       "      <th>H-130 COT</th>\n",
       "      <th>H-140 COT</th>\n",
       "      <th>H-150 COT</th>\n",
       "      <th>H-160 COT</th>\n",
       "      <th>H-170 COT</th>\n",
       "      <th>H-180 COT</th>\n",
       "      <th>H-190 COT</th>\n",
       "      <th>n-P值</th>\n",
       "      <th>i-P值</th>\n",
       "      <th>n+i  P值</th>\n",
       "      <th>Aromatics</th>\n",
       "      <th>N</th>\n",
       "      <th>O</th>\n",
       "      <th>乙烯產量</th>\n",
       "      <th>丙烯產量</th>\n",
       "    </tr>\n",
       "    <tr>\n",
       "      <th>日期</th>\n",
       "      <th></th>\n",
       "      <th></th>\n",
       "      <th></th>\n",
       "      <th></th>\n",
       "      <th></th>\n",
       "      <th></th>\n",
       "      <th></th>\n",
       "      <th></th>\n",
       "      <th></th>\n",
       "      <th></th>\n",
       "      <th></th>\n",
       "      <th></th>\n",
       "      <th></th>\n",
       "      <th></th>\n",
       "      <th></th>\n",
       "      <th></th>\n",
       "      <th></th>\n",
       "    </tr>\n",
       "  </thead>\n",
       "  <tbody>\n",
       "    <tr>\n",
       "      <th>2018-08-01 00:00:00</th>\n",
       "      <td>820.046387</td>\n",
       "      <td>29.800571</td>\n",
       "      <td>820.729370</td>\n",
       "      <td>820.600525</td>\n",
       "      <td>820.039612</td>\n",
       "      <td>819.586975</td>\n",
       "      <td>820.273438</td>\n",
       "      <td>821.509033</td>\n",
       "      <td>820.206848</td>\n",
       "      <td>42.89</td>\n",
       "      <td>39.77</td>\n",
       "      <td>82.66</td>\n",
       "      <td>3.24</td>\n",
       "      <td>13.31</td>\n",
       "      <td>0.48</td>\n",
       "      <td>2125.68</td>\n",
       "      <td>944.59</td>\n",
       "    </tr>\n",
       "    <tr>\n",
       "      <th>2018-08-01 00:10:00</th>\n",
       "      <td>818.146851</td>\n",
       "      <td>29.580025</td>\n",
       "      <td>818.534668</td>\n",
       "      <td>818.692932</td>\n",
       "      <td>818.604431</td>\n",
       "      <td>816.963257</td>\n",
       "      <td>818.849060</td>\n",
       "      <td>816.913757</td>\n",
       "      <td>819.320862</td>\n",
       "      <td>42.89</td>\n",
       "      <td>39.77</td>\n",
       "      <td>82.66</td>\n",
       "      <td>3.24</td>\n",
       "      <td>13.31</td>\n",
       "      <td>0.48</td>\n",
       "      <td>2125.68</td>\n",
       "      <td>944.59</td>\n",
       "    </tr>\n",
       "    <tr>\n",
       "      <th>2018-08-01 00:20:00</th>\n",
       "      <td>818.323975</td>\n",
       "      <td>29.494396</td>\n",
       "      <td>819.611572</td>\n",
       "      <td>819.289856</td>\n",
       "      <td>820.808228</td>\n",
       "      <td>819.384216</td>\n",
       "      <td>819.460083</td>\n",
       "      <td>820.118835</td>\n",
       "      <td>819.244202</td>\n",
       "      <td>42.89</td>\n",
       "      <td>39.77</td>\n",
       "      <td>82.66</td>\n",
       "      <td>3.24</td>\n",
       "      <td>13.31</td>\n",
       "      <td>0.48</td>\n",
       "      <td>2125.68</td>\n",
       "      <td>944.59</td>\n",
       "    </tr>\n",
       "    <tr>\n",
       "      <th>2018-08-01 00:30:00</th>\n",
       "      <td>819.604675</td>\n",
       "      <td>29.330263</td>\n",
       "      <td>819.857727</td>\n",
       "      <td>819.296204</td>\n",
       "      <td>819.349243</td>\n",
       "      <td>819.066467</td>\n",
       "      <td>818.818909</td>\n",
       "      <td>818.713257</td>\n",
       "      <td>819.158691</td>\n",
       "      <td>42.89</td>\n",
       "      <td>39.77</td>\n",
       "      <td>82.66</td>\n",
       "      <td>3.24</td>\n",
       "      <td>13.31</td>\n",
       "      <td>0.48</td>\n",
       "      <td>2125.68</td>\n",
       "      <td>944.59</td>\n",
       "    </tr>\n",
       "    <tr>\n",
       "      <th>2018-08-01 00:40:00</th>\n",
       "      <td>821.526184</td>\n",
       "      <td>29.456963</td>\n",
       "      <td>819.666077</td>\n",
       "      <td>820.332581</td>\n",
       "      <td>820.627075</td>\n",
       "      <td>820.719360</td>\n",
       "      <td>819.730835</td>\n",
       "      <td>821.595703</td>\n",
       "      <td>820.747253</td>\n",
       "      <td>42.89</td>\n",
       "      <td>39.77</td>\n",
       "      <td>82.66</td>\n",
       "      <td>3.24</td>\n",
       "      <td>13.31</td>\n",
       "      <td>0.48</td>\n",
       "      <td>2125.68</td>\n",
       "      <td>944.59</td>\n",
       "    </tr>\n",
       "  </tbody>\n",
       "</table>\n",
       "</div>"
      ],
      "text/plain": [
       "                      H-110 COT  H-120 COT   H-130 COT   H-140 COT  \\\n",
       "日期                                                                   \n",
       "2018-08-01 00:00:00  820.046387  29.800571  820.729370  820.600525   \n",
       "2018-08-01 00:10:00  818.146851  29.580025  818.534668  818.692932   \n",
       "2018-08-01 00:20:00  818.323975  29.494396  819.611572  819.289856   \n",
       "2018-08-01 00:30:00  819.604675  29.330263  819.857727  819.296204   \n",
       "2018-08-01 00:40:00  821.526184  29.456963  819.666077  820.332581   \n",
       "\n",
       "                      H-150 COT   H-160 COT   H-170 COT   H-180 COT  \\\n",
       "日期                                                                    \n",
       "2018-08-01 00:00:00  820.039612  819.586975  820.273438  821.509033   \n",
       "2018-08-01 00:10:00  818.604431  816.963257  818.849060  816.913757   \n",
       "2018-08-01 00:20:00  820.808228  819.384216  819.460083  820.118835   \n",
       "2018-08-01 00:30:00  819.349243  819.066467  818.818909  818.713257   \n",
       "2018-08-01 00:40:00  820.627075  820.719360  819.730835  821.595703   \n",
       "\n",
       "                      H-190 COT   n-P值   i-P值  n+i  P值  Aromatics      N  \\\n",
       "日期                                                                         \n",
       "2018-08-01 00:00:00  820.206848  42.89  39.77    82.66       3.24  13.31   \n",
       "2018-08-01 00:10:00  819.320862  42.89  39.77    82.66       3.24  13.31   \n",
       "2018-08-01 00:20:00  819.244202  42.89  39.77    82.66       3.24  13.31   \n",
       "2018-08-01 00:30:00  819.158691  42.89  39.77    82.66       3.24  13.31   \n",
       "2018-08-01 00:40:00  820.747253  42.89  39.77    82.66       3.24  13.31   \n",
       "\n",
       "                        O     乙烯產量    丙烯產量  \n",
       "日期                                          \n",
       "2018-08-01 00:00:00  0.48  2125.68  944.59  \n",
       "2018-08-01 00:10:00  0.48  2125.68  944.59  \n",
       "2018-08-01 00:20:00  0.48  2125.68  944.59  \n",
       "2018-08-01 00:30:00  0.48  2125.68  944.59  \n",
       "2018-08-01 00:40:00  0.48  2125.68  944.59  "
      ]
     },
     "metadata": {},
     "output_type": "display_data"
    },
    {
     "data": {
      "text/html": [
       "<div>\n",
       "<style scoped>\n",
       "    .dataframe tbody tr th:only-of-type {\n",
       "        vertical-align: middle;\n",
       "    }\n",
       "\n",
       "    .dataframe tbody tr th {\n",
       "        vertical-align: top;\n",
       "    }\n",
       "\n",
       "    .dataframe thead th {\n",
       "        text-align: right;\n",
       "    }\n",
       "</style>\n",
       "<table border=\"1\" class=\"dataframe\">\n",
       "  <thead>\n",
       "    <tr style=\"text-align: right;\">\n",
       "      <th></th>\n",
       "      <th>H-110 COT</th>\n",
       "      <th>H-120 COT</th>\n",
       "      <th>H-130 COT</th>\n",
       "      <th>H-140 COT</th>\n",
       "      <th>H-150 COT</th>\n",
       "      <th>H-160 COT</th>\n",
       "      <th>H-170 COT</th>\n",
       "      <th>H-180 COT</th>\n",
       "      <th>H-190 COT</th>\n",
       "      <th>n-P值</th>\n",
       "      <th>i-P值</th>\n",
       "      <th>n+i  P值</th>\n",
       "      <th>Aromatics</th>\n",
       "      <th>N</th>\n",
       "      <th>O</th>\n",
       "      <th>乙烯產量</th>\n",
       "      <th>丙烯產量</th>\n",
       "    </tr>\n",
       "    <tr>\n",
       "      <th>日期</th>\n",
       "      <th></th>\n",
       "      <th></th>\n",
       "      <th></th>\n",
       "      <th></th>\n",
       "      <th></th>\n",
       "      <th></th>\n",
       "      <th></th>\n",
       "      <th></th>\n",
       "      <th></th>\n",
       "      <th></th>\n",
       "      <th></th>\n",
       "      <th></th>\n",
       "      <th></th>\n",
       "      <th></th>\n",
       "      <th></th>\n",
       "      <th></th>\n",
       "      <th></th>\n",
       "    </tr>\n",
       "  </thead>\n",
       "  <tbody>\n",
       "    <tr>\n",
       "      <th>2021-06-30 23:10:00</th>\n",
       "      <td>27.408436</td>\n",
       "      <td>27.526560</td>\n",
       "      <td>27.766571</td>\n",
       "      <td>27.404127</td>\n",
       "      <td>26.939030</td>\n",
       "      <td>27.202906</td>\n",
       "      <td>26.899256</td>\n",
       "      <td>26.655487</td>\n",
       "      <td>27.490553</td>\n",
       "      <td>37.91</td>\n",
       "      <td>38.61</td>\n",
       "      <td>76.52</td>\n",
       "      <td>3.93</td>\n",
       "      <td>17.36</td>\n",
       "      <td>1.11</td>\n",
       "      <td>572.235</td>\n",
       "      <td>316.125</td>\n",
       "    </tr>\n",
       "    <tr>\n",
       "      <th>2021-06-30 23:20:00</th>\n",
       "      <td>27.407352</td>\n",
       "      <td>27.488029</td>\n",
       "      <td>27.798372</td>\n",
       "      <td>27.398758</td>\n",
       "      <td>26.901344</td>\n",
       "      <td>27.243582</td>\n",
       "      <td>26.871965</td>\n",
       "      <td>26.637991</td>\n",
       "      <td>27.498505</td>\n",
       "      <td>37.91</td>\n",
       "      <td>38.61</td>\n",
       "      <td>76.52</td>\n",
       "      <td>3.93</td>\n",
       "      <td>17.36</td>\n",
       "      <td>1.11</td>\n",
       "      <td>572.235</td>\n",
       "      <td>316.125</td>\n",
       "    </tr>\n",
       "    <tr>\n",
       "      <th>2021-06-30 23:30:00</th>\n",
       "      <td>27.393206</td>\n",
       "      <td>27.499577</td>\n",
       "      <td>27.752710</td>\n",
       "      <td>27.399584</td>\n",
       "      <td>26.891518</td>\n",
       "      <td>27.195532</td>\n",
       "      <td>26.831932</td>\n",
       "      <td>26.626566</td>\n",
       "      <td>27.481943</td>\n",
       "      <td>37.91</td>\n",
       "      <td>38.61</td>\n",
       "      <td>76.52</td>\n",
       "      <td>3.93</td>\n",
       "      <td>17.36</td>\n",
       "      <td>1.11</td>\n",
       "      <td>572.235</td>\n",
       "      <td>316.125</td>\n",
       "    </tr>\n",
       "    <tr>\n",
       "      <th>2021-06-30 23:40:00</th>\n",
       "      <td>27.396896</td>\n",
       "      <td>27.454544</td>\n",
       "      <td>27.733051</td>\n",
       "      <td>27.381708</td>\n",
       "      <td>26.855377</td>\n",
       "      <td>27.172764</td>\n",
       "      <td>26.830599</td>\n",
       "      <td>26.643572</td>\n",
       "      <td>27.473854</td>\n",
       "      <td>37.91</td>\n",
       "      <td>38.61</td>\n",
       "      <td>76.52</td>\n",
       "      <td>3.93</td>\n",
       "      <td>17.36</td>\n",
       "      <td>1.11</td>\n",
       "      <td>572.235</td>\n",
       "      <td>316.125</td>\n",
       "    </tr>\n",
       "    <tr>\n",
       "      <th>2021-06-30 23:50:00</th>\n",
       "      <td>27.360914</td>\n",
       "      <td>27.440886</td>\n",
       "      <td>27.734583</td>\n",
       "      <td>27.331905</td>\n",
       "      <td>26.831297</td>\n",
       "      <td>27.138718</td>\n",
       "      <td>26.834709</td>\n",
       "      <td>26.599140</td>\n",
       "      <td>27.464939</td>\n",
       "      <td>37.91</td>\n",
       "      <td>38.61</td>\n",
       "      <td>76.52</td>\n",
       "      <td>3.93</td>\n",
       "      <td>17.36</td>\n",
       "      <td>1.11</td>\n",
       "      <td>572.235</td>\n",
       "      <td>316.125</td>\n",
       "    </tr>\n",
       "  </tbody>\n",
       "</table>\n",
       "</div>"
      ],
      "text/plain": [
       "                     H-110 COT  H-120 COT  H-130 COT  H-140 COT  H-150 COT  \\\n",
       "日期                                                                           \n",
       "2021-06-30 23:10:00  27.408436  27.526560  27.766571  27.404127  26.939030   \n",
       "2021-06-30 23:20:00  27.407352  27.488029  27.798372  27.398758  26.901344   \n",
       "2021-06-30 23:30:00  27.393206  27.499577  27.752710  27.399584  26.891518   \n",
       "2021-06-30 23:40:00  27.396896  27.454544  27.733051  27.381708  26.855377   \n",
       "2021-06-30 23:50:00  27.360914  27.440886  27.734583  27.331905  26.831297   \n",
       "\n",
       "                     H-160 COT  H-170 COT  H-180 COT  H-190 COT   n-P值   i-P值  \\\n",
       "日期                                                                              \n",
       "2021-06-30 23:10:00  27.202906  26.899256  26.655487  27.490553  37.91  38.61   \n",
       "2021-06-30 23:20:00  27.243582  26.871965  26.637991  27.498505  37.91  38.61   \n",
       "2021-06-30 23:30:00  27.195532  26.831932  26.626566  27.481943  37.91  38.61   \n",
       "2021-06-30 23:40:00  27.172764  26.830599  26.643572  27.473854  37.91  38.61   \n",
       "2021-06-30 23:50:00  27.138718  26.834709  26.599140  27.464939  37.91  38.61   \n",
       "\n",
       "                     n+i  P值  Aromatics      N     O     乙烯產量     丙烯產量  \n",
       "日期                                                                      \n",
       "2021-06-30 23:10:00    76.52       3.93  17.36  1.11  572.235  316.125  \n",
       "2021-06-30 23:20:00    76.52       3.93  17.36  1.11  572.235  316.125  \n",
       "2021-06-30 23:30:00    76.52       3.93  17.36  1.11  572.235  316.125  \n",
       "2021-06-30 23:40:00    76.52       3.93  17.36  1.11  572.235  316.125  \n",
       "2021-06-30 23:50:00    76.52       3.93  17.36  1.11  572.235  316.125  "
      ]
     },
     "metadata": {},
     "output_type": "display_data"
    }
   ],
   "source": [
    "import pandas as pd\n",
    "from sklearn.preprocessing import MinMaxScaler\n",
    "from tqdm import tqdm_notebook as tqdm\n",
    "import numpy as np\n",
    "import warnings \n",
    "warnings.filterwarnings('ignore')\n",
    "\n",
    "df = pd.read_csv('..\\data\\df_merged.csv',index_col=0)\n",
    "df = df.fillna(method='ffill')\n",
    "df = df.set_index('日期')\n",
    "df = df.astype('float64')\n",
    "display(df.head())\n",
    "display(df.tail())"
   ]
  },
  {
   "cell_type": "code",
   "execution_count": 28,
   "metadata": {},
   "outputs": [
    {
     "name": "stdout",
     "output_type": "stream",
     "text": [
      "0\n"
     ]
    },
    {
     "data": {
      "application/vnd.jupyter.widget-view+json": {
       "model_id": "2aee39b73a8c4d469b37e2d9ace2ff01",
       "version_major": 2,
       "version_minor": 0
      },
      "text/plain": [
       "HBox(children=(FloatProgress(value=0.0, max=9.0), HTML(value='')))"
      ]
     },
     "metadata": {},
     "output_type": "display_data"
    },
    {
     "name": "stdout",
     "output_type": "stream",
     "text": [
      "\n",
      "140977\n"
     ]
    }
   ],
   "source": [
    "# 模型資料 要記得拔除焦870度左右的溫度 和 常溫的資料刪除\n",
    "print(df.isnull().sum().sum())\n",
    "def remove_some_data(df):\n",
    "    for c in tqdm(df.columns[df.columns.str.contains('COT')]):\n",
    "        lb = df[c].median() - 1.5*df[c].std()\n",
    "        #ub = df[c].median() + 1.5*df[c].std()\n",
    "        ub = 870\n",
    "        df.loc[(df[c]<lb)|(df[c]>ub),c] = None\n",
    "    return df\n",
    "df = remove_some_data(df)\n",
    "print(df.isnull().sum().sum())"
   ]
  },
  {
   "cell_type": "markdown",
   "metadata": {},
   "source": [
    "# 欄位定義"
   ]
  },
  {
   "cell_type": "code",
   "execution_count": 29,
   "metadata": {},
   "outputs": [
    {
     "data": {
      "text/plain": [
       "(['H-110 COT',\n",
       "  'H-120 COT',\n",
       "  'H-130 COT',\n",
       "  'H-140 COT',\n",
       "  'H-150 COT',\n",
       "  'H-160 COT',\n",
       "  'H-170 COT',\n",
       "  'H-180 COT',\n",
       "  'H-190 COT'],\n",
       " ['乙烯產量', '丙烯產量'],\n",
       " ['Aromatics', 'O', 'i-P值', 'N', 'n-P值', 'n+i  P值'])"
      ]
     },
     "execution_count": 29,
     "metadata": {},
     "output_type": "execute_result"
    }
   ],
   "source": [
    "action = df.columns[df.columns.str.contains('COT')].tolist()\n",
    "value = ['乙烯產量','丙烯產量']\n",
    "state = set(df.columns) - set(action) - set(value)\n",
    "state = list(state)\n",
    "action,value,state"
   ]
  },
  {
   "cell_type": "markdown",
   "metadata": {},
   "source": [
    "# 資料轉換"
   ]
  },
  {
   "cell_type": "code",
   "execution_count": 30,
   "metadata": {},
   "outputs": [],
   "source": [
    "mm_state = MinMaxScaler()\n",
    "mm_action = MinMaxScaler()\n",
    "mm_value = MinMaxScaler()\n",
    "\n",
    "df[state] = mm_state.fit_transform(df[state])\n",
    "df[action] = mm_action.fit_transform(df[action])\n",
    "df[value] = mm_value.fit_transform(df[value])"
   ]
  },
  {
   "cell_type": "markdown",
   "metadata": {},
   "source": [
    "# 建立資料集 for 建模使用"
   ]
  },
  {
   "cell_type": "code",
   "execution_count": 31,
   "metadata": {},
   "outputs": [],
   "source": [
    "def build_dataset(df,n=144): #一天24小時 操作為10分鐘一筆 一天1440分鐘 1440/10 =  144\n",
    "    data = {\n",
    "        'state':[],\n",
    "        'action':[],\n",
    "        'value':[],\n",
    "        'idx':[],\n",
    "        }\n",
    "    \n",
    "    for i in tqdm(range(0,len(df)-n,n)):\n",
    "        curr = df.iloc[i:i+n] #一小段資料\n",
    "        if np.isnan(curr.values).sum() == 0: #確保這段資料無缺失值\n",
    "            data['state'].append(curr[state].values) # 這段時間所有狀態\n",
    "            data['action'].append(curr[action].values) # 這段時間所有操作\n",
    "            data['value'].append(curr[value].values[-1]) # 這段時間最後一個時間點的產量\n",
    "            data['idx'].append(curr.index[-1]) #這段時間最後 出料對應的時間點\n",
    "    \n",
    "    # reshape\n",
    "    data['state'] = np.array(data['state'])\n",
    "    data['action'] = np.array(data['action'])\n",
    "    data['value'] = np.array(data['value'])\n",
    "    \n",
    "    # store mm_scaler\n",
    "    data['mm_state'] = mm_state\n",
    "    data['mm_action'] = mm_action\n",
    "    data['mm_value'] = mm_value\n",
    "    \n",
    "    # store col_name\n",
    "    data['state_col'] = state\n",
    "    data['action_col'] = action\n",
    "    data['value_col'] = value\n",
    "    \n",
    "    return data"
   ]
  },
  {
   "cell_type": "code",
   "execution_count": 32,
   "metadata": {},
   "outputs": [
    {
     "data": {
      "application/vnd.jupyter.widget-view+json": {
       "model_id": "43373ec18d6f4b52b6862c04410502e5",
       "version_major": 2,
       "version_minor": 0
      },
      "text/plain": [
       "HBox(children=(FloatProgress(value=0.0, max=1064.0), HTML(value='')))"
      ]
     },
     "metadata": {},
     "output_type": "display_data"
    },
    {
     "name": "stdout",
     "output_type": "stream",
     "text": [
      "\n"
     ]
    }
   ],
   "source": [
    "data = build_dataset(df.iloc[1:,:])"
   ]
  },
  {
   "cell_type": "code",
   "execution_count": 33,
   "metadata": {},
   "outputs": [
    {
     "data": {
      "text/plain": [
       "((399, 144, 9), (399, 144, 6), (399, 2))"
      ]
     },
     "execution_count": 33,
     "metadata": {},
     "output_type": "execute_result"
    }
   ],
   "source": [
    "data['action'].shape,data['state'].shape,data['value'].shape"
   ]
  },
  {
   "cell_type": "code",
   "execution_count": 34,
   "metadata": {},
   "outputs": [
    {
     "data": {
      "text/plain": [
       "(0, 0, 0)"
      ]
     },
     "execution_count": 34,
     "metadata": {},
     "output_type": "execute_result"
    }
   ],
   "source": [
    "np.isnan(data['action']).sum(),np.isnan(data['state']).sum(),np.isnan(data['value']).sum()"
   ]
  },
  {
   "cell_type": "code",
   "execution_count": 35,
   "metadata": {},
   "outputs": [
    {
     "name": "stdout",
     "output_type": "stream",
     "text": [
      "399\n"
     ]
    },
    {
     "data": {
      "text/plain": [
       "['../data/dataset.pkl']"
      ]
     },
     "execution_count": 35,
     "metadata": {},
     "output_type": "execute_result"
    }
   ],
   "source": [
    "# 保存\n",
    "import joblib\n",
    "print(len(data['idx']))\n",
    "joblib.dump(data,'../data/dataset.pkl')"
   ]
  },
  {
   "cell_type": "code",
   "execution_count": null,
   "metadata": {},
   "outputs": [],
   "source": []
  }
 ],
 "metadata": {
  "interpreter": {
   "hash": "2ccee5cc862501c1aad1cf19888c2a2eca4026b72d187db43d5e889cbdc6ee97"
  },
  "kernelspec": {
   "display_name": "Python 3.8.5 64-bit ('base': conda)",
   "name": "python3"
  },
  "language_info": {
   "codemirror_mode": {
    "name": "ipython",
    "version": 3
   },
   "file_extension": ".py",
   "mimetype": "text/x-python",
   "name": "python",
   "nbconvert_exporter": "python",
   "pygments_lexer": "ipython3",
   "version": "3.8.5"
  },
  "orig_nbformat": 4
 },
 "nbformat": 4,
 "nbformat_minor": 2
}
